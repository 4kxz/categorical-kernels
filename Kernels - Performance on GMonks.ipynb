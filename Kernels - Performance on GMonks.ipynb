{
 "metadata": {
  "name": ""
 },
 "nbformat": 3,
 "nbformat_minor": 0,
 "worksheets": [
  {
   "cells": [
    {
     "cell_type": "code",
     "collapsed": false,
     "input": [
      "from sklearn import cross_validation as cv\n",
      "from sklearn import grid_search as gs\n",
      "from sklearn import svm\n",
      "\n",
      "from kcat.datasets import gmonks\n",
      "from kcat.kernels.categorical import fast_k0, fast_k1, fast_k2\n",
      "from kcat.misc import preprocess\n",
      "\n",
      "verbose = True"
     ],
     "language": "python",
     "metadata": {},
     "outputs": [],
     "prompt_number": 1
    },
    {
     "cell_type": "heading",
     "level": 1,
     "metadata": {},
     "source": [
      "Overview"
     ]
    },
    {
     "cell_type": "code",
     "collapsed": false,
     "input": [
      "# Measuring performance of kernels:\n",
      "sizes = (60, 120, 180)\n",
      "params = (1, 2, 3, 4, 5, 6, 7)\n",
      "repeat = 10\n",
      "results = np.zeros((4, len(sizes), len(params), repeat))\n",
      "for i, n in enumerate(sizes):\n",
      "    print(\"Size {}:\".format(n))\n",
      "    for j, p in enumerate(params):\n",
      "        print(\"{:0.1f}\".format(p), end='\\t')\n",
      "        for k in range(repeat):\n",
      "            X, y = gmonks(n, p)\n",
      "            # RBF\n",
      "            clf = svm.SVC(kernel='rbf')\n",
      "            results[0][i][j][k] = cv.cross_val_score(clf, preprocess(X), y, cv=5).mean()\n",
      "            # K0\n",
      "            clf = svm.SVC(kernel='precomputed')\n",
      "            results[1][i][j][k] = cv.cross_val_score(clf, fast_k0(X), y, cv=5).mean()\n",
      "            # K1\n",
      "            clf = svm.SVC(kernel='precomputed')\n",
      "            results[2][i][j][k] = cv.cross_val_score(clf, fast_k1(X), y, cv=5).mean()\n",
      "            # K2\n",
      "            clf = svm.SVC(kernel='precomputed')\n",
      "            results[3][i][j][k] = cv.cross_val_score(clf, fast_k2(X), y, cv=5).mean()\n",
      "    print()"
     ],
     "language": "python",
     "metadata": {},
     "outputs": [
      {
       "output_type": "stream",
       "stream": "stdout",
       "text": [
        "Size 60:\n",
        "1.0\t2.0"
       ]
      },
      {
       "output_type": "stream",
       "stream": "stdout",
       "text": [
        "\t3.0"
       ]
      },
      {
       "output_type": "stream",
       "stream": "stdout",
       "text": [
        "\t4.0"
       ]
      },
      {
       "output_type": "stream",
       "stream": "stdout",
       "text": [
        "\t5.0"
       ]
      },
      {
       "output_type": "stream",
       "stream": "stdout",
       "text": [
        "\t6.0"
       ]
      },
      {
       "output_type": "stream",
       "stream": "stdout",
       "text": [
        "\t7.0"
       ]
      },
      {
       "output_type": "stream",
       "stream": "stdout",
       "text": [
        "\t\n"
       ]
      },
      {
       "output_type": "stream",
       "stream": "stdout",
       "text": [
        "Size 120:\n",
        "1.0\t2.0"
       ]
      },
      {
       "output_type": "stream",
       "stream": "stdout",
       "text": [
        "\t3.0"
       ]
      },
      {
       "output_type": "stream",
       "stream": "stdout",
       "text": [
        "\t4.0"
       ]
      },
      {
       "output_type": "stream",
       "stream": "stdout",
       "text": [
        "\t5.0"
       ]
      },
      {
       "output_type": "stream",
       "stream": "stdout",
       "text": [
        "\t6.0"
       ]
      },
      {
       "output_type": "stream",
       "stream": "stdout",
       "text": [
        "\t7.0"
       ]
      },
      {
       "output_type": "stream",
       "stream": "stdout",
       "text": [
        "\t\n"
       ]
      },
      {
       "output_type": "stream",
       "stream": "stdout",
       "text": [
        "Size 180:\n",
        "1.0\t2.0"
       ]
      },
      {
       "output_type": "stream",
       "stream": "stdout",
       "text": [
        "\t3.0"
       ]
      },
      {
       "output_type": "stream",
       "stream": "stdout",
       "text": [
        "\t4.0"
       ]
      },
      {
       "output_type": "stream",
       "stream": "stdout",
       "text": [
        "\t5.0"
       ]
      },
      {
       "output_type": "stream",
       "stream": "stdout",
       "text": [
        "\t6.0"
       ]
      },
      {
       "output_type": "stream",
       "stream": "stdout",
       "text": [
        "\t7.0"
       ]
      },
      {
       "output_type": "stream",
       "stream": "stdout",
       "text": [
        "\t\n"
       ]
      }
     ],
     "prompt_number": 2
    },
    {
     "cell_type": "code",
     "collapsed": false,
     "input": [
      "# Plot comparison of the various kernels:\n",
      "figure(figsize=(12, 4), dpi=150)\n",
      "for i, n in enumerate(sizes):\n",
      "    plt.subplot(131+i)\n",
      "    title(\"Results for size {}\".format(n))\n",
      "    plot(params, results[0][i].mean(axis=1), '.-', color='k', linewidth=0.5)\n",
      "    plot(params, results[1][i].mean(axis=1), 'x-', color='r', linewidth=0.5)\n",
      "    plot(params, results[2][i].mean(axis=1), 'x-', color='g', linewidth=0.5)\n",
      "    plot(params, results[3][i].mean(axis=1), 'x-', color='b', linewidth=0.5)\n",
      "    legend([\"RBF\", \"K0\", \"K1\", \"K2\"], bbox_to_anchor=(1, 0.5))\n",
      "    ylabel(\"Score\")\n",
      "    xlabel(\"Parameter value\")"
     ],
     "language": "python",
     "metadata": {},
     "outputs": [
      {
       "metadata": {},
       "output_type": "display_data",
       "png": "[encoded data removed]",
       "text": [
        "<matplotlib.figure.Figure at 0x7ff615785ad0>"
       ]
      }
     ],
     "prompt_number": 3
    },
    {
     "cell_type": "heading",
     "level": 1,
     "metadata": {},
     "source": [
      "Fitting the kernels"
     ]
    },
    {
     "cell_type": "code",
     "collapsed": false,
     "input": [
      "# Generate a dataset and split the data in \n",
      "\n",
      "X, y = gmonks(240, 3)\n",
      "\n",
      "X_train, X_test, y_train, y_test = cv.train_test_split(X, y, test_size=0.5, random_state=42)\n",
      "X_train_prep =  preprocess(X_train)\n",
      "X_test_prep = preprocess(X_test)"
     ],
     "language": "python",
     "metadata": {},
     "outputs": [],
     "prompt_number": 15
    },
    {
     "cell_type": "heading",
     "level": 2,
     "metadata": {},
     "source": [
      "Fitting RBF"
     ]
    },
    {
     "cell_type": "code",
     "collapsed": false,
     "input": [
      "clf = svm.SVC(kernel='rbf')\n",
      "costs = 10.0 ** np.arange(-1, 5)\n",
      "gammas = 2.0 ** np.arange(-12, -4)\n",
      "params = dict(C=costs, gamma=gammas)\n",
      "\n",
      "# GridSearch takes care of finding the best parameters using cross-validation:\n",
      "grid = gs.GridSearchCV(clf, param_grid=params, cv=10)\n",
      "grid.fit(X_train_prep, y_train)\n",
      "\n",
      "print(\"Best score \", grid.best_score_, \" with parameters \", grid.best_params_)"
     ],
     "language": "python",
     "metadata": {},
     "outputs": [
      {
       "output_type": "stream",
       "stream": "stdout",
       "text": [
        "Best score  0.741666666667  with parameters  {'gamma': 0.0078125, 'C': 10.0}\n"
       ]
      }
     ],
     "prompt_number": 16
    },
    {
     "cell_type": "code",
     "collapsed": false,
     "input": [
      "# Draw heatmap of accuracy as a function of gamma and C\n",
      "# using only the actual scores:\n",
      "scores = [x[1] for x in grid.grid_scores_]\n",
      "scores = np.array(scores).reshape(len(costs), len(gammas))\n",
      "figure(figsize=(10, 5), dpi=150)\n",
      "imshow(scores, interpolation='nearest', cmap=cm.PiYG)\n",
      "xlabel('gamma')\n",
      "xticks(np.arange(len(gammas)), gammas, rotation=45)\n",
      "ylabel('C')\n",
      "yticks(np.arange(len(costs)), costs)\n",
      "colorbar()"
     ],
     "language": "python",
     "metadata": {},
     "outputs": [
      {
       "metadata": {},
       "output_type": "pyout",
       "prompt_number": 17,
       "text": [
        "<matplotlib.colorbar.Colorbar at 0x7fbaf469a810>"
       ]
      },
      {
       "metadata": {},
       "output_type": "display_data",
       "png": "[encoded data removed]",
       "text": [
        "<matplotlib.figure.Figure at 0x7fbaf476f350>"
       ]
      }
     ],
     "prompt_number": 17
    },
    {
     "cell_type": "heading",
     "level": 2,
     "metadata": {},
     "source": [
      "Fitting K0"
     ]
    },
    {
     "cell_type": "code",
     "collapsed": false,
     "input": [
      "clf = svm.SVC(kernel='precomputed')\n",
      "costs = 10.0 ** np.arange(-1, 4)\n",
      "# Sensible combinations of prev, composition and post functions.\n",
      "# The full explicit list for clarity.\n",
      "functions = [\n",
      "    ('ident', 'mean', 'ident'),\n",
      "    ('ident', 'mean', 'f1'),\n",
      "    ('ident', 'mean', 'f2'),\n",
      "    ('ident', 'prod', 'ident'),\n",
      "    ('ident', 'prod', 'f1'),\n",
      "    ('ident', 'prod', 'f2'),\n",
      "    ('f1', 'mean', 'ident'),\n",
      "    ('f1', 'prod', 'ident'),\n",
      "]\n",
      "gammas = 2.0 ** np.arange(-3, 2)\n",
      "\n",
      "# Precomputed kernels cannot use GridSearch trivially.\n",
      "# For now it's done manually.\n",
      "best_score = 0\n",
      "best_params = None\n",
      "for prev, comp, post in functions:\n",
      "    for g in gammas if prev == 'f1' or post == 'f1' or post == 'f2' else [None]:\n",
      "        param_list = prev, comp, post, dict(gamma=g)\n",
      "        gram = fast_k0(X_train, *param_list)\n",
      "        param_grid = dict(C=costs)\n",
      "        grid = gs.GridSearchCV(clf, param_grid=param_grid, cv=10)\n",
      "        grid.fit(gram, y_train)\n",
      "        if best_score < grid.best_score_:\n",
      "            best_score = grid.best_score_\n",
      "            best_params = param_list, grid.best_params_\n",
      "        if verbose:\n",
      "            print(\"Score:\", grid.best_score_, \"\\tparameters: \", param_list, grid.best_params_)\n",
      "\n",
      "print(\"Best score \", best_score, \" with parameters \", best_params)"
     ],
     "language": "python",
     "metadata": {},
     "outputs": [
      {
       "output_type": "stream",
       "stream": "stdout",
       "text": [
        "Score: 0.733333333333 \tparameters:  ('ident', 'mean', 'ident', {'gamma': None}) {'C': 1.0}\n",
        "Score:"
       ]
      },
      {
       "output_type": "stream",
       "stream": "stdout",
       "text": [
        " 0.716666666667 \tparameters:  ('ident', 'mean', 'f1', {'gamma': 0.125}) {'C': 0.10000000000000001}\n",
        "Score:"
       ]
      },
      {
       "output_type": "stream",
       "stream": "stdout",
       "text": [
        " 0.733333333333 \tparameters:  ('ident', 'mean', 'f1', {'gamma': 0.25}) {'C': 10.0}\n",
        "Score:"
       ]
      },
      {
       "output_type": "stream",
       "stream": "stdout",
       "text": [
        " 0.716666666667 \tparameters:  ('ident', 'mean', 'f1', {'gamma': 0.5}) {'C': 0.10000000000000001}\n",
        "Score:"
       ]
      },
      {
       "output_type": "stream",
       "stream": "stdout",
       "text": [
        " 0.758333333333 \tparameters:  ('ident', 'mean', 'f1', {'gamma': 1.0}) {'C': 1.0}\n",
        "Score:"
       ]
      },
      {
       "output_type": "stream",
       "stream": "stdout",
       "text": [
        " 0.75 \tparameters:  ('ident', 'mean', 'f1', {'gamma': 2.0}) {'C': 1.0}\n",
        "Score:"
       ]
      },
      {
       "output_type": "stream",
       "stream": "stdout",
       "text": [
        " 0.733333333333 \tparameters:  ('ident', 'mean', 'f2', {'gamma': 0.125}) {'C': 10.0}\n",
        "Score:"
       ]
      },
      {
       "output_type": "stream",
       "stream": "stdout",
       "text": [
        " 0.725 \tparameters:  ('ident', 'mean', 'f2', {'gamma': 0.25}) {'C': 10.0}\n",
        "Score:"
       ]
      },
      {
       "output_type": "stream",
       "stream": "stdout",
       "text": [
        " 0.716666666667 \tparameters:  ('ident', 'mean', 'f2', {'gamma': 0.5}) {'C': 0.10000000000000001}\n",
        "Score:"
       ]
      },
      {
       "output_type": "stream",
       "stream": "stdout",
       "text": [
        " 0.75 \tparameters:  ('ident', 'mean', 'f2', {'gamma': 1.0}) {'C': 10.0}\n",
        "Score:"
       ]
      },
      {
       "output_type": "stream",
       "stream": "stdout",
       "text": [
        " 0.758333333333 \tparameters:  ('ident', 'mean', 'f2', {'gamma': 2.0}) {'C': 10.0}\n",
        "Score:"
       ]
      },
      {
       "output_type": "stream",
       "stream": "stdout",
       "text": [
        " 0.716666666667 \tparameters:  ('ident', 'prod', 'ident', {'gamma': None}) {'C': 0.10000000000000001}\n",
        "Score:"
       ]
      },
      {
       "output_type": "stream",
       "stream": "stdout",
       "text": [
        " 0.716666666667 \tparameters:  ('ident', 'prod', 'f1', {'gamma': 0.125}) {'C': 0.10000000000000001}\n",
        "Score:"
       ]
      },
      {
       "output_type": "stream",
       "stream": "stdout",
       "text": [
        " 0.716666666667 \tparameters:  ('ident', 'prod', 'f1', {'gamma': 0.25}) {'C': 0.10000000000000001}\n",
        "Score:"
       ]
      },
      {
       "output_type": "stream",
       "stream": "stdout",
       "text": [
        " 0.716666666667 \tparameters:  ('ident', 'prod', 'f1', {'gamma': 0.5}) {'C': 0.10000000000000001}\n",
        "Score:"
       ]
      },
      {
       "output_type": "stream",
       "stream": "stdout",
       "text": [
        " 0.716666666667 \tparameters:  ('ident', 'prod', 'f1', {'gamma': 1.0}) {'C': 0.10000000000000001}\n",
        "Score:"
       ]
      },
      {
       "output_type": "stream",
       "stream": "stdout",
       "text": [
        " 0.716666666667 \tparameters:  ('ident', 'prod', 'f1', {'gamma': 2.0}) {'C': 0.10000000000000001}\n",
        "Score:"
       ]
      },
      {
       "output_type": "stream",
       "stream": "stdout",
       "text": [
        " 0.716666666667 \tparameters:  ('ident', 'prod', 'f2', {'gamma': 0.125}) {'C': 0.10000000000000001}\n",
        "Score:"
       ]
      },
      {
       "output_type": "stream",
       "stream": "stdout",
       "text": [
        " 0.716666666667 \tparameters:  ('ident', 'prod', 'f2', {'gamma': 0.25}) {'C': 0.10000000000000001}\n",
        "Score:"
       ]
      },
      {
       "output_type": "stream",
       "stream": "stdout",
       "text": [
        " 0.716666666667 \tparameters:  ('ident', 'prod', 'f2', {'gamma': 0.5}) {'C': 0.10000000000000001}\n",
        "Score:"
       ]
      },
      {
       "output_type": "stream",
       "stream": "stdout",
       "text": [
        " 0.716666666667 \tparameters:  ('ident', 'prod', 'f2', {'gamma': 1.0}) {'C': 0.10000000000000001}\n",
        "Score:"
       ]
      },
      {
       "output_type": "stream",
       "stream": "stdout",
       "text": [
        " 0.716666666667 \tparameters:  ('ident', 'prod', 'f2', {'gamma': 2.0}) {'C': 0.10000000000000001}\n",
        "Score:"
       ]
      },
      {
       "output_type": "stream",
       "stream": "stdout",
       "text": [
        " 0.716666666667 \tparameters:  ('f1', 'mean', 'ident', {'gamma': 0.125}) {'C': 0.10000000000000001}\n",
        "Score:"
       ]
      },
      {
       "output_type": "stream",
       "stream": "stdout",
       "text": [
        " 0.725 \tparameters:  ('f1', 'mean', 'ident', {'gamma': 0.25}) {'C': 10.0}\n",
        "Score:"
       ]
      },
      {
       "output_type": "stream",
       "stream": "stdout",
       "text": [
        " 0.716666666667 \tparameters:  ('f1', 'mean', 'ident', {'gamma': 0.5}) {'C': 0.10000000000000001}\n",
        "Score:"
       ]
      },
      {
       "output_type": "stream",
       "stream": "stdout",
       "text": [
        " 0.716666666667 \tparameters:  ('f1', 'mean', 'ident', {'gamma': 1.0}) {'C': 0.10000000000000001}\n",
        "Score:"
       ]
      },
      {
       "output_type": "stream",
       "stream": "stdout",
       "text": [
        " 0.716666666667 \tparameters:  ('f1', 'mean', 'ident', {'gamma': 2.0}) {'C': 0.10000000000000001}\n",
        "Score:"
       ]
      },
      {
       "output_type": "stream",
       "stream": "stdout",
       "text": [
        " 0.75 \tparameters:  ('f1', 'prod', 'ident', {'gamma': 0.125}) {'C': 1.0}\n",
        "Score:"
       ]
      },
      {
       "output_type": "stream",
       "stream": "stdout",
       "text": [
        " 0.741666666667 \tparameters:  ('f1', 'prod', 'ident', {'gamma': 0.25}) {'C': 0.10000000000000001}\n",
        "Score:"
       ]
      },
      {
       "output_type": "stream",
       "stream": "stdout",
       "text": [
        " 0.716666666667 \tparameters:  ('f1', 'prod', 'ident', {'gamma': 0.5}) {'C': 0.10000000000000001}\n",
        "Score:"
       ]
      },
      {
       "output_type": "stream",
       "stream": "stdout",
       "text": [
        " 0.716666666667 \tparameters:  ('f1', 'prod', 'ident', {'gamma': 1.0}) {'C': 0.10000000000000001}\n",
        "Score:"
       ]
      },
      {
       "output_type": "stream",
       "stream": "stdout",
       "text": [
        " 0.716666666667 \tparameters:  ('f1', 'prod', 'ident', {'gamma': 2.0}) {'C': 0.10000000000000001}\n",
        "Best score  0.758333333333  with parameters  (('ident', 'mean', 'f1', {'gamma': 1.0}), {'C': 1.0})\n"
       ]
      }
     ],
     "prompt_number": 18
    },
    {
     "cell_type": "heading",
     "level": 2,
     "metadata": {},
     "source": [
      "Fitting K1"
     ]
    },
    {
     "cell_type": "code",
     "collapsed": false,
     "input": [
      "clf = svm.SVC(kernel='precomputed')\n",
      "costs = 10.0 ** np.arange(-1, 5)\n",
      "# Sensible combinations of prev, composition and post functions.\n",
      "# The full explicit list for clarity.\n",
      "functions = [\n",
      "    ('ident', 'mean', 'ident'),\n",
      "    ('ident', 'mean', 'f1'),\n",
      "    ('ident', 'mean', 'f2'),\n",
      "    ('ident', 'prod', 'ident'),\n",
      "    ('ident', 'prod', 'f1'),\n",
      "    ('ident', 'prod', 'f2'),\n",
      "    ('f1', 'mean', 'ident'),\n",
      "    ('f1', 'prod', 'ident'),\n",
      "]\n",
      "gammas = 2.0 ** np.arange(-3, 2)\n",
      "alphas = 2.0 ** np.arange(-1, 2)\n",
      "\n",
      "# Precomputed kernels cannot use GridSearch trivially.\n",
      "# For now it's done manually.\n",
      "best_score = 0\n",
      "best_params = None\n",
      "for prev, comp, post in functions:\n",
      "    for g in gammas if prev == 'f1' or post == 'f1' or post == 'f2' else [None]:\n",
      "        for a in alphas:\n",
      "            param_list = prev, comp, post, dict(gamma=g, alpha=a)\n",
      "            gram = fast_k1(X_train, *param_list)\n",
      "            param_grid = dict(C=costs)\n",
      "            grid = gs.GridSearchCV(clf, param_grid=param_grid, cv=10)\n",
      "            grid.fit(gram, y_train)\n",
      "            if best_score < grid.best_score_:\n",
      "                best_score = grid.best_score_\n",
      "                best_params = param_list, grid.best_params_\n",
      "            if verbose:\n",
      "                print(\"Score:\", grid.best_score_, \"\\tparameters: \", param_list, grid.best_params_)\n",
      "            \n",
      "print(\"Best score \", best_score, \" with parameters \", best_params)"
     ],
     "language": "python",
     "metadata": {},
     "outputs": [
      {
       "output_type": "stream",
       "stream": "stdout",
       "text": [
        "Score: 0.716666666667 \tparameters:  ('ident', 'mean', 'ident', {'gamma': None, 'alpha': 0.5}) {'C': 0.10000000000000001}\n",
        "Score:"
       ]
      },
      {
       "output_type": "stream",
       "stream": "stdout",
       "text": [
        " 0.716666666667 \tparameters:  ('ident', 'mean', 'ident', {'gamma': None, 'alpha': 1.0}) {'C': 0.10000000000000001}\n",
        "Score:"
       ]
      },
      {
       "output_type": "stream",
       "stream": "stdout",
       "text": [
        " 0.716666666667 \tparameters:  ('ident', 'mean', 'ident', {'gamma': None, 'alpha': 2.0}) {'C': 0.10000000000000001}\n",
        "Score:"
       ]
      },
      {
       "output_type": "stream",
       "stream": "stdout",
       "text": [
        " 0.716666666667 \tparameters:  ('ident', 'mean', 'f1', {'gamma': 0.125, 'alpha': 0.5}) {'C': 0.10000000000000001}\n",
        "Score:"
       ]
      },
      {
       "output_type": "stream",
       "stream": "stdout",
       "text": [
        " 0.716666666667 \tparameters:  ('ident', 'mean', 'f1', {'gamma': 0.125, 'alpha': 1.0}) {'C': 0.10000000000000001}\n",
        "Score:"
       ]
      },
      {
       "output_type": "stream",
       "stream": "stdout",
       "text": [
        " 0.716666666667 \tparameters:  ('ident', 'mean', 'f1', {'gamma': 0.125, 'alpha': 2.0}) {'C': 0.10000000000000001}\n",
        "Score:"
       ]
      },
      {
       "output_type": "stream",
       "stream": "stdout",
       "text": [
        " 0.716666666667 \tparameters:  ('ident', 'mean', 'f1', {'gamma': 0.25, 'alpha': 0.5}) {'C': 0.10000000000000001}\n",
        "Score:"
       ]
      },
      {
       "output_type": "stream",
       "stream": "stdout",
       "text": [
        " 0.716666666667 \tparameters:  ('ident', 'mean', 'f1', {'gamma': 0.25, 'alpha': 1.0}) {'C': 0.10000000000000001}\n",
        "Score:"
       ]
      },
      {
       "output_type": "stream",
       "stream": "stdout",
       "text": [
        " 0.733333333333 \tparameters:  ('ident', 'mean', 'f1', {'gamma': 0.25, 'alpha': 2.0}) {'C': 10.0}\n",
        "Score:"
       ]
      },
      {
       "output_type": "stream",
       "stream": "stdout",
       "text": [
        " 0.716666666667 \tparameters:  ('ident', 'mean', 'f1', {'gamma': 0.5, 'alpha': 0.5}) {'C': 0.10000000000000001}\n",
        "Score:"
       ]
      },
      {
       "output_type": "stream",
       "stream": "stdout",
       "text": [
        " 0.716666666667 \tparameters:  ('ident', 'mean', 'f1', {'gamma': 0.5, 'alpha': 1.0}) {'C': 0.10000000000000001}\n",
        "Score:"
       ]
      },
      {
       "output_type": "stream",
       "stream": "stdout",
       "text": [
        " 0.716666666667 \tparameters:  ('ident', 'mean', 'f1', {'gamma': 0.5, 'alpha': 2.0}) {'C': 0.10000000000000001}\n",
        "Score:"
       ]
      },
      {
       "output_type": "stream",
       "stream": "stdout",
       "text": [
        " 0.716666666667 \tparameters:  ('ident', 'mean', 'f1', {'gamma': 1.0, 'alpha': 0.5}) {'C': 0.10000000000000001}\n",
        "Score:"
       ]
      },
      {
       "output_type": "stream",
       "stream": "stdout",
       "text": [
        " 0.716666666667 \tparameters:  ('ident', 'mean', 'f1', {'gamma': 1.0, 'alpha': 1.0}) {'C': 0.10000000000000001}\n",
        "Score:"
       ]
      },
      {
       "output_type": "stream",
       "stream": "stdout",
       "text": [
        " 0.741666666667 \tparameters:  ('ident', 'mean', 'f1', {'gamma': 1.0, 'alpha': 2.0}) {'C': 1.0}\n",
        "Score:"
       ]
      },
      {
       "output_type": "stream",
       "stream": "stdout",
       "text": [
        " 0.733333333333 \tparameters:  ('ident', 'mean', 'f1', {'gamma': 2.0, 'alpha': 0.5}) {'C': 10.0}\n",
        "Score:"
       ]
      },
      {
       "output_type": "stream",
       "stream": "stdout",
       "text": [
        " 0.741666666667 \tparameters:  ('ident', 'mean', 'f1', {'gamma': 2.0, 'alpha': 1.0}) {'C': 1.0}\n",
        "Score:"
       ]
      },
      {
       "output_type": "stream",
       "stream": "stdout",
       "text": [
        " 0.741666666667 \tparameters:  ('ident', 'mean', 'f1', {'gamma': 2.0, 'alpha': 2.0}) {'C': 1.0}\n",
        "Score:"
       ]
      },
      {
       "output_type": "stream",
       "stream": "stdout",
       "text": [
        " 0.716666666667 \tparameters:  ('ident', 'mean', 'f2', {'gamma': 0.125, 'alpha': 0.5}) {'C': 0.10000000000000001}\n",
        "Score:"
       ]
      },
      {
       "output_type": "stream",
       "stream": "stdout",
       "text": [
        " 0.716666666667 \tparameters:  ('ident', 'mean', 'f2', {'gamma': 0.125, 'alpha': 1.0}) {'C': 0.10000000000000001}\n",
        "Score:"
       ]
      },
      {
       "output_type": "stream",
       "stream": "stdout",
       "text": [
        " 0.725 \tparameters:  ('ident', 'mean', 'f2', {'gamma': 0.125, 'alpha': 2.0}) {'C': 10.0}\n",
        "Score:"
       ]
      },
      {
       "output_type": "stream",
       "stream": "stdout",
       "text": [
        " 0.716666666667 \tparameters:  ('ident', 'mean', 'f2', {'gamma': 0.25, 'alpha': 0.5}) {'C': 0.10000000000000001}\n",
        "Score:"
       ]
      },
      {
       "output_type": "stream",
       "stream": "stdout",
       "text": [
        " 0.733333333333 \tparameters:  ('ident', 'mean', 'f2', {'gamma': 0.25, 'alpha': 1.0}) {'C': 10.0}\n",
        "Score:"
       ]
      },
      {
       "output_type": "stream",
       "stream": "stdout",
       "text": [
        " 0.725 \tparameters:  ('ident', 'mean', 'f2', {'gamma': 0.25, 'alpha': 2.0}) {'C': 10.0}\n",
        "Score:"
       ]
      },
      {
       "output_type": "stream",
       "stream": "stdout",
       "text": [
        " 0.716666666667 \tparameters:  ('ident', 'mean', 'f2', {'gamma': 0.5, 'alpha': 0.5}) {'C': 0.10000000000000001}\n",
        "Score:"
       ]
      },
      {
       "output_type": "stream",
       "stream": "stdout",
       "text": [
        " 0.725 \tparameters:  ('ident', 'mean', 'f2', {'gamma': 0.5, 'alpha': 1.0}) {'C': 10.0}\n",
        "Score:"
       ]
      },
      {
       "output_type": "stream",
       "stream": "stdout",
       "text": [
        " 0.716666666667 \tparameters:  ('ident', 'mean', 'f2', {'gamma': 0.5, 'alpha': 2.0}) {'C': 0.10000000000000001}\n",
        "Score:"
       ]
      },
      {
       "output_type": "stream",
       "stream": "stdout",
       "text": [
        " 0.733333333333 \tparameters:  ('ident', 'mean', 'f2', {'gamma': 1.0, 'alpha': 0.5}) {'C': 10.0}\n",
        "Score:"
       ]
      },
      {
       "output_type": "stream",
       "stream": "stdout",
       "text": [
        " 0.725 \tparameters:  ('ident', 'mean', 'f2', {'gamma': 1.0, 'alpha': 1.0}) {'C': 10.0}\n",
        "Score:"
       ]
      },
      {
       "output_type": "stream",
       "stream": "stdout",
       "text": [
        " 0.741666666667 \tparameters:  ('ident', 'mean', 'f2', {'gamma': 1.0, 'alpha': 2.0}) {'C': 10.0}\n",
        "Score:"
       ]
      },
      {
       "output_type": "stream",
       "stream": "stdout",
       "text": [
        " 0.725 \tparameters:  ('ident', 'mean', 'f2', {'gamma': 2.0, 'alpha': 0.5}) {'C': 10.0}\n",
        "Score:"
       ]
      },
      {
       "output_type": "stream",
       "stream": "stdout",
       "text": [
        " 0.791666666667 \tparameters:  ('ident', 'mean', 'f2', {'gamma': 2.0, 'alpha': 1.0}) {'C': 10.0}\n",
        "Score:"
       ]
      },
      {
       "output_type": "stream",
       "stream": "stdout",
       "text": [
        " 0.766666666667 \tparameters:  ('ident', 'mean', 'f2', {'gamma': 2.0, 'alpha': 2.0}) {'C': 10.0}\n",
        "Score:"
       ]
      },
      {
       "output_type": "stream",
       "stream": "stdout",
       "text": [
        " 0.716666666667 \tparameters:  ('ident', 'prod', 'ident', {'gamma': None, 'alpha': 0.5}) {'C': 0.10000000000000001}\n",
        "Score:"
       ]
      },
      {
       "output_type": "stream",
       "stream": "stdout",
       "text": [
        " 0.716666666667 \tparameters:  ('ident', 'prod', 'ident', {'gamma': None, 'alpha': 1.0}) {'C': 0.10000000000000001}\n",
        "Score:"
       ]
      },
      {
       "output_type": "stream",
       "stream": "stdout",
       "text": [
        " 0.716666666667 \tparameters:  ('ident', 'prod', 'ident', {'gamma': None, 'alpha': 2.0}) {'C': 0.10000000000000001}\n",
        "Score:"
       ]
      },
      {
       "output_type": "stream",
       "stream": "stdout",
       "text": [
        " 0.716666666667 \tparameters:  ('ident', 'prod', 'f1', {'gamma': 0.125, 'alpha': 0.5}) {'C': 0.10000000000000001}\n",
        "Score:"
       ]
      },
      {
       "output_type": "stream",
       "stream": "stdout",
       "text": [
        " 0.716666666667 \tparameters:  ('ident', 'prod', 'f1', {'gamma': 0.125, 'alpha': 1.0}) {'C': 0.10000000000000001}\n",
        "Score:"
       ]
      },
      {
       "output_type": "stream",
       "stream": "stdout",
       "text": [
        " 0.716666666667 \tparameters:  ('ident', 'prod', 'f1', {'gamma': 0.125, 'alpha': 2.0}) {'C': 0.10000000000000001}\n",
        "Score:"
       ]
      },
      {
       "output_type": "stream",
       "stream": "stdout",
       "text": [
        " 0.716666666667 \tparameters:  ('ident', 'prod', 'f1', {'gamma': 0.25, 'alpha': 0.5}) {'C': 0.10000000000000001}\n",
        "Score:"
       ]
      },
      {
       "output_type": "stream",
       "stream": "stdout",
       "text": [
        " 0.716666666667 \tparameters:  ('ident', 'prod', 'f1', {'gamma': 0.25, 'alpha': 1.0}) {'C': 0.10000000000000001}\n",
        "Score:"
       ]
      },
      {
       "output_type": "stream",
       "stream": "stdout",
       "text": [
        " 0.716666666667 \tparameters:  ('ident', 'prod', 'f1', {'gamma': 0.25, 'alpha': 2.0}) {'C': 0.10000000000000001}\n",
        "Score:"
       ]
      },
      {
       "output_type": "stream",
       "stream": "stdout",
       "text": [
        " 0.716666666667 \tparameters:  ('ident', 'prod', 'f1', {'gamma': 0.5, 'alpha': 0.5}) {'C': 0.10000000000000001}\n",
        "Score:"
       ]
      },
      {
       "output_type": "stream",
       "stream": "stdout",
       "text": [
        " 0.716666666667 \tparameters:  ('ident', 'prod', 'f1', {'gamma': 0.5, 'alpha': 1.0}) {'C': 0.10000000000000001}\n",
        "Score:"
       ]
      },
      {
       "output_type": "stream",
       "stream": "stdout",
       "text": [
        " 0.716666666667 \tparameters:  ('ident', 'prod', 'f1', {'gamma': 0.5, 'alpha': 2.0}) {'C': 0.10000000000000001}\n",
        "Score:"
       ]
      },
      {
       "output_type": "stream",
       "stream": "stdout",
       "text": [
        " 0.716666666667 \tparameters:  ('ident', 'prod', 'f1', {'gamma': 1.0, 'alpha': 0.5}) {'C': 0.10000000000000001}\n",
        "Score:"
       ]
      },
      {
       "output_type": "stream",
       "stream": "stdout",
       "text": [
        " 0.716666666667 \tparameters:  ('ident', 'prod', 'f1', {'gamma': 1.0, 'alpha': 1.0}) {'C': 0.10000000000000001}\n",
        "Score:"
       ]
      },
      {
       "output_type": "stream",
       "stream": "stdout",
       "text": [
        " 0.716666666667 \tparameters:  ('ident', 'prod', 'f1', {'gamma': 1.0, 'alpha': 2.0}) {'C': 0.10000000000000001}\n",
        "Score:"
       ]
      },
      {
       "output_type": "stream",
       "stream": "stdout",
       "text": [
        " 0.716666666667 \tparameters:  ('ident', 'prod', 'f1', {'gamma': 2.0, 'alpha': 0.5}) {'C': 0.10000000000000001}\n",
        "Score:"
       ]
      },
      {
       "output_type": "stream",
       "stream": "stdout",
       "text": [
        " 0.716666666667 \tparameters:  ('ident', 'prod', 'f1', {'gamma': 2.0, 'alpha': 1.0}) {'C': 0.10000000000000001}\n",
        "Score:"
       ]
      },
      {
       "output_type": "stream",
       "stream": "stdout",
       "text": [
        " 0.716666666667 \tparameters:  ('ident', 'prod', 'f1', {'gamma': 2.0, 'alpha': 2.0}) {'C': 0.10000000000000001}\n",
        "Score:"
       ]
      },
      {
       "output_type": "stream",
       "stream": "stdout",
       "text": [
        " 0.716666666667 \tparameters:  ('ident', 'prod', 'f2', {'gamma': 0.125, 'alpha': 0.5}) {'C': 0.10000000000000001}\n",
        "Score:"
       ]
      },
      {
       "output_type": "stream",
       "stream": "stdout",
       "text": [
        " 0.716666666667 \tparameters:  ('ident', 'prod', 'f2', {'gamma': 0.125, 'alpha': 1.0}) {'C': 0.10000000000000001}\n",
        "Score:"
       ]
      },
      {
       "output_type": "stream",
       "stream": "stdout",
       "text": [
        " 0.716666666667 \tparameters:  ('ident', 'prod', 'f2', {'gamma': 0.125, 'alpha': 2.0}) {'C': 0.10000000000000001}\n",
        "Score:"
       ]
      },
      {
       "output_type": "stream",
       "stream": "stdout",
       "text": [
        " 0.716666666667 \tparameters:  ('ident', 'prod', 'f2', {'gamma': 0.25, 'alpha': 0.5}) {'C': 0.10000000000000001}\n",
        "Score:"
       ]
      },
      {
       "output_type": "stream",
       "stream": "stdout",
       "text": [
        " 0.716666666667 \tparameters:  ('ident', 'prod', 'f2', {'gamma': 0.25, 'alpha': 1.0}) {'C': 0.10000000000000001}\n",
        "Score:"
       ]
      },
      {
       "output_type": "stream",
       "stream": "stdout",
       "text": [
        " 0.716666666667 \tparameters:  ('ident', 'prod', 'f2', {'gamma': 0.25, 'alpha': 2.0}) {'C': 0.10000000000000001}\n",
        "Score:"
       ]
      },
      {
       "output_type": "stream",
       "stream": "stdout",
       "text": [
        " 0.716666666667 \tparameters:  ('ident', 'prod', 'f2', {'gamma': 0.5, 'alpha': 0.5}) {'C': 0.10000000000000001}\n",
        "Score:"
       ]
      },
      {
       "output_type": "stream",
       "stream": "stdout",
       "text": [
        " 0.716666666667 \tparameters:  ('ident', 'prod', 'f2', {'gamma': 0.5, 'alpha': 1.0}) {'C': 0.10000000000000001}\n",
        "Score:"
       ]
      },
      {
       "output_type": "stream",
       "stream": "stdout",
       "text": [
        " 0.716666666667 \tparameters:  ('ident', 'prod', 'f2', {'gamma': 0.5, 'alpha': 2.0}) {'C': 0.10000000000000001}\n",
        "Score:"
       ]
      },
      {
       "output_type": "stream",
       "stream": "stdout",
       "text": [
        " 0.716666666667 \tparameters:  ('ident', 'prod', 'f2', {'gamma': 1.0, 'alpha': 0.5}) {'C': 0.10000000000000001}\n",
        "Score:"
       ]
      },
      {
       "output_type": "stream",
       "stream": "stdout",
       "text": [
        " 0.716666666667 \tparameters:  ('ident', 'prod', 'f2', {'gamma': 1.0, 'alpha': 1.0}) {'C': 0.10000000000000001}\n",
        "Score:"
       ]
      },
      {
       "output_type": "stream",
       "stream": "stdout",
       "text": [
        " 0.716666666667 \tparameters:  ('ident', 'prod', 'f2', {'gamma': 1.0, 'alpha': 2.0}) {'C': 0.10000000000000001}\n",
        "Score:"
       ]
      },
      {
       "output_type": "stream",
       "stream": "stdout",
       "text": [
        " 0.716666666667 \tparameters:  ('ident', 'prod', 'f2', {'gamma': 2.0, 'alpha': 0.5}) {'C': 0.10000000000000001}\n",
        "Score:"
       ]
      },
      {
       "output_type": "stream",
       "stream": "stdout",
       "text": [
        " 0.716666666667 \tparameters:  ('ident', 'prod', 'f2', {'gamma': 2.0, 'alpha': 1.0}) {'C': 0.10000000000000001}\n",
        "Score:"
       ]
      },
      {
       "output_type": "stream",
       "stream": "stdout",
       "text": [
        " 0.716666666667 \tparameters:  ('ident', 'prod', 'f2', {'gamma': 2.0, 'alpha': 2.0}) {'C': 0.10000000000000001}\n",
        "Score:"
       ]
      },
      {
       "output_type": "stream",
       "stream": "stdout",
       "text": [
        " 0.716666666667 \tparameters:  ('f1', 'mean', 'ident', {'gamma': 0.125, 'alpha': 0.5}) {'C': 0.10000000000000001}\n",
        "Score:"
       ]
      },
      {
       "output_type": "stream",
       "stream": "stdout",
       "text": [
        " 0.716666666667 \tparameters:  ('f1', 'mean', 'ident', {'gamma': 0.125, 'alpha': 1.0}) {'C': 0.10000000000000001}\n",
        "Score:"
       ]
      },
      {
       "output_type": "stream",
       "stream": "stdout",
       "text": [
        " 0.716666666667 \tparameters:  ('f1', 'mean', 'ident', {'gamma': 0.125, 'alpha': 2.0}) {'C': 0.10000000000000001}\n",
        "Score:"
       ]
      },
      {
       "output_type": "stream",
       "stream": "stdout",
       "text": [
        " 0.716666666667 \tparameters:  ('f1', 'mean', 'ident', {'gamma': 0.25, 'alpha': 0.5}) {'C': 0.10000000000000001}\n",
        "Score:"
       ]
      },
      {
       "output_type": "stream",
       "stream": "stdout",
       "text": [
        " 0.716666666667 \tparameters:  ('f1', 'mean', 'ident', {'gamma': 0.25, 'alpha': 1.0}) {'C': 0.10000000000000001}\n",
        "Score:"
       ]
      },
      {
       "output_type": "stream",
       "stream": "stdout",
       "text": [
        " 0.716666666667 \tparameters:  ('f1', 'mean', 'ident', {'gamma': 0.25, 'alpha': 2.0}) {'C': 0.10000000000000001}\n",
        "Score:"
       ]
      },
      {
       "output_type": "stream",
       "stream": "stdout",
       "text": [
        " 0.716666666667 \tparameters:  ('f1', 'mean', 'ident', {'gamma': 0.5, 'alpha': 0.5}) {'C': 0.10000000000000001}\n",
        "Score:"
       ]
      },
      {
       "output_type": "stream",
       "stream": "stdout",
       "text": [
        " 0.716666666667 \tparameters:  ('f1', 'mean', 'ident', {'gamma': 0.5, 'alpha': 1.0}) {'C': 0.10000000000000001}\n",
        "Score:"
       ]
      },
      {
       "output_type": "stream",
       "stream": "stdout",
       "text": [
        " 0.716666666667 \tparameters:  ('f1', 'mean', 'ident', {'gamma': 0.5, 'alpha': 2.0}) {'C': 0.10000000000000001}\n",
        "Score:"
       ]
      },
      {
       "output_type": "stream",
       "stream": "stdout",
       "text": [
        " 0.716666666667 \tparameters:  ('f1', 'mean', 'ident', {'gamma': 1.0, 'alpha': 0.5}) {'C': 0.10000000000000001}\n",
        "Score:"
       ]
      },
      {
       "output_type": "stream",
       "stream": "stdout",
       "text": [
        " 0.716666666667 \tparameters:  ('f1', 'mean', 'ident', {'gamma': 1.0, 'alpha': 1.0}) {'C': 0.10000000000000001}\n",
        "Score:"
       ]
      },
      {
       "output_type": "stream",
       "stream": "stdout",
       "text": [
        " 0.716666666667 \tparameters:  ('f1', 'mean', 'ident', {'gamma': 1.0, 'alpha': 2.0}) {'C': 0.10000000000000001}\n",
        "Score:"
       ]
      },
      {
       "output_type": "stream",
       "stream": "stdout",
       "text": [
        " 0.716666666667 \tparameters:  ('f1', 'mean', 'ident', {'gamma': 2.0, 'alpha': 0.5}) {'C': 0.10000000000000001}\n",
        "Score:"
       ]
      },
      {
       "output_type": "stream",
       "stream": "stdout",
       "text": [
        " 0.716666666667 \tparameters:  ('f1', 'mean', 'ident', {'gamma': 2.0, 'alpha': 1.0}) {'C': 0.10000000000000001}\n",
        "Score:"
       ]
      },
      {
       "output_type": "stream",
       "stream": "stdout",
       "text": [
        " 0.716666666667 \tparameters:  ('f1', 'mean', 'ident', {'gamma': 2.0, 'alpha': 2.0}) {'C': 0.10000000000000001}\n",
        "Score:"
       ]
      },
      {
       "output_type": "stream",
       "stream": "stdout",
       "text": [
        " 0.733333333333 \tparameters:  ('f1', 'prod', 'ident', {'gamma': 0.125, 'alpha': 0.5}) {'C': 10.0}\n",
        "Score:"
       ]
      },
      {
       "output_type": "stream",
       "stream": "stdout",
       "text": [
        " 0.733333333333 \tparameters:  ('f1', 'prod', 'ident', {'gamma': 0.125, 'alpha': 1.0}) {'C': 1.0}\n",
        "Score:"
       ]
      },
      {
       "output_type": "stream",
       "stream": "stdout",
       "text": [
        " 0.75 \tparameters:  ('f1', 'prod', 'ident', {'gamma': 0.125, 'alpha': 2.0}) {'C': 1.0}\n",
        "Score:"
       ]
      },
      {
       "output_type": "stream",
       "stream": "stdout",
       "text": [
        " 0.733333333333 \tparameters:  ('f1', 'prod', 'ident', {'gamma': 0.25, 'alpha': 0.5}) {'C': 1.0}\n",
        "Score:"
       ]
      },
      {
       "output_type": "stream",
       "stream": "stdout",
       "text": [
        " 0.791666666667 \tparameters:  ('f1', 'prod', 'ident', {'gamma': 0.25, 'alpha': 1.0}) {'C': 1.0}\n",
        "Score:"
       ]
      },
      {
       "output_type": "stream",
       "stream": "stdout",
       "text": [
        " 0.75 \tparameters:  ('f1', 'prod', 'ident', {'gamma': 0.25, 'alpha': 2.0}) {'C': 0.10000000000000001}\n",
        "Score:"
       ]
      },
      {
       "output_type": "stream",
       "stream": "stdout",
       "text": [
        " 0.791666666667 \tparameters:  ('f1', 'prod', 'ident', {'gamma': 0.5, 'alpha': 0.5}) {'C': 1.0}\n",
        "Score:"
       ]
      },
      {
       "output_type": "stream",
       "stream": "stdout",
       "text": [
        " 0.725 \tparameters:  ('f1', 'prod', 'ident', {'gamma': 0.5, 'alpha': 1.0}) {'C': 0.10000000000000001}\n",
        "Score:"
       ]
      },
      {
       "output_type": "stream",
       "stream": "stdout",
       "text": [
        " 0.716666666667 \tparameters:  ('f1', 'prod', 'ident', {'gamma': 0.5, 'alpha': 2.0}) {'C': 0.10000000000000001}\n",
        "Score:"
       ]
      },
      {
       "output_type": "stream",
       "stream": "stdout",
       "text": [
        " 0.766666666667 \tparameters:  ('f1', 'prod', 'ident', {'gamma': 1.0, 'alpha': 0.5}) {'C': 0.10000000000000001}\n",
        "Score:"
       ]
      },
      {
       "output_type": "stream",
       "stream": "stdout",
       "text": [
        " 0.716666666667 \tparameters:  ('f1', 'prod', 'ident', {'gamma': 1.0, 'alpha': 1.0}) {'C': 0.10000000000000001}\n",
        "Score:"
       ]
      },
      {
       "output_type": "stream",
       "stream": "stdout",
       "text": [
        " 0.716666666667 \tparameters:  ('f1', 'prod', 'ident', {'gamma': 1.0, 'alpha': 2.0}) {'C': 0.10000000000000001}\n",
        "Score:"
       ]
      },
      {
       "output_type": "stream",
       "stream": "stdout",
       "text": [
        " 0.716666666667 \tparameters:  ('f1', 'prod', 'ident', {'gamma': 2.0, 'alpha': 0.5}) {'C': 0.10000000000000001}\n",
        "Score:"
       ]
      },
      {
       "output_type": "stream",
       "stream": "stdout",
       "text": [
        " 0.716666666667 \tparameters:  ('f1', 'prod', 'ident', {'gamma': 2.0, 'alpha': 1.0}) {'C': 0.10000000000000001}\n",
        "Score:"
       ]
      },
      {
       "output_type": "stream",
       "stream": "stdout",
       "text": [
        " 0.716666666667 \tparameters:  ('f1', 'prod', 'ident', {'gamma': 2.0, 'alpha': 2.0}) {'C': 0.10000000000000001}\n",
        "Best score  0.791666666667  with parameters  (('ident', 'mean', 'f2', {'gamma': 2.0, 'alpha': 1.0}), {'C': 10.0})\n"
       ]
      }
     ],
     "prompt_number": 19
    },
    {
     "cell_type": "heading",
     "level": 2,
     "metadata": {},
     "source": [
      "Fitting K2"
     ]
    },
    {
     "cell_type": "code",
     "collapsed": false,
     "input": [
      "clf = svm.SVC(kernel='precomputed')\n",
      "costs = 10.0 ** np.arange(-1, 4)\n",
      "param_grid = dict(C=costs)\n",
      "grid = gs.GridSearchCV(clf, param_grid=param_grid, cv=10)\n",
      "gram = fast_k2(X_train)\n",
      "grid.fit(gram, y_train)\n",
      "print(\"Best score \", grid.best_score_, \" with parameters \", grid.best_params_)"
     ],
     "language": "python",
     "metadata": {},
     "outputs": [
      {
       "output_type": "stream",
       "stream": "stdout",
       "text": [
        "Best score  0.716666666667  with parameters  {'C': 0.10000000000000001}\n"
       ]
      }
     ],
     "prompt_number": 20
    },
    {
     "cell_type": "heading",
     "level": 2,
     "metadata": {},
     "source": [
      "Model Evaluation"
     ]
    },
    {
     "cell_type": "code",
     "collapsed": false,
     "input": [
      "from kernels.categorical import pmf_from_matrix, ident, mean, f2gen, k1, k2\n",
      "\n",
      "pmf = pmf_from_matrix(X_train)"
     ],
     "language": "python",
     "metadata": {},
     "outputs": [],
     "prompt_number": 30
    },
    {
     "cell_type": "code",
     "collapsed": false,
     "input": [
      "clf = svm.SVC(kernel='precomputed', C=10.0)\n",
      "clf.fit(fast_k1(X_train, 'ident', 'mean', 'f2', params=dict(gamma=2.0, alpha=1.0), pmf=pmf), y_train)\n",
      "\n",
      "sum(clf.predict(k1(X_test, X_train, ident, mean, f2gen(2.0), alpha=1.0, pmf=pmf)) == y_test)"
     ],
     "language": "python",
     "metadata": {},
     "outputs": [
      {
       "metadata": {},
       "output_type": "pyout",
       "prompt_number": 31,
       "text": [
        "85"
       ]
      }
     ],
     "prompt_number": 31
    },
    {
     "cell_type": "code",
     "collapsed": false,
     "input": [
      "clf = svm.SVC(kernel='precomputed', C=0.1)\n",
      "clf.fit(fast_k2(X_train, pmf=pmf), y_train)\n",
      "\n",
      "sum(clf.predict(k2(X_test, X_train, pmf=pmf)) == y_test)"
     ],
     "language": "python",
     "metadata": {},
     "outputs": [
      {
       "metadata": {},
       "output_type": "pyout",
       "prompt_number": 32,
       "text": [
        "84"
       ]
      }
     ],
     "prompt_number": 32
    },
    {
     "cell_type": "code",
     "collapsed": false,
     "input": [],
     "language": "python",
     "metadata": {},
     "outputs": []
    }
   ],
   "metadata": {}
  }
 ]
}
