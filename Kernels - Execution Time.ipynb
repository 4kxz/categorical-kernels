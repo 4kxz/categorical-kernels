{
 "metadata": {
  "name": ""
 },
 "nbformat": 3,
 "nbformat_minor": 0,
 "worksheets": [
  {
   "cells": [
    {
     "cell_type": "code",
     "collapsed": false,
     "input": [
      "import time\n",
      "\n",
      "from sklearn import cross_validation as cv\n",
      "from sklearn import svm\n",
      "\n",
      "from kcat.kernels import categorical as k\n",
      "from kcat import datasets as d"
     ],
     "language": "python",
     "metadata": {},
     "outputs": [],
     "prompt_number": 4
    },
    {
     "cell_type": "code",
     "collapsed": false,
     "input": [
      "X, y = d.gmonks(2000, 1)"
     ],
     "language": "python",
     "metadata": {},
     "outputs": [],
     "prompt_number": 6
    },
    {
     "cell_type": "code",
     "collapsed": false,
     "input": [
      "# Test kernel 0:\n",
      "t0 = time.time()\n",
      "clf = svm.SVC(kernel='precomputed', C=1)\n",
      "scores = cv.cross_val_score(clf, k.fast_k0(X, X), y, cv=10)\n",
      "print(\"Execution time: {:0.3f} s\".format(time.time() - t0))\n",
      "print(\"Mean score: {:0.3f}\".format(scores.mean()))"
     ],
     "language": "python",
     "metadata": {},
     "outputs": [
      {
       "output_type": "stream",
       "stream": "stdout",
       "text": [
        "Execution time: 2.547 s\n",
        "Mean score: 0.726\n"
       ]
      }
     ],
     "prompt_number": 7
    },
    {
     "cell_type": "code",
     "collapsed": false,
     "input": [
      "# Test kernel 1:\n",
      "t0 = time.time()\n",
      "clf = svm.SVC(kernel='precomputed', C=1)\n",
      "scores = cv.cross_val_score(clf, k.fast_k1(X, X, k.get_pgen(X)), y, cv=10)\n",
      "print(\"Execution time: {:0.3f} s\".format(time.time() - t0))\n",
      "print(\"Mean score: {:0.3f}\".format(scores.mean()))"
     ],
     "language": "python",
     "metadata": {},
     "outputs": [
      {
       "output_type": "stream",
       "stream": "stdout",
       "text": [
        "Execution time: 2.893 s\n",
        "Mean score: 0.726\n"
       ]
      }
     ],
     "prompt_number": 8
    },
    {
     "cell_type": "code",
     "collapsed": false,
     "input": [
      "# Test kernel 2:\n",
      "t0 = time.time()\n",
      "clf = svm.SVC(kernel='precomputed', C=1)\n",
      "scores = cv.cross_val_score(clf, k.fast_k2(X, X, k.get_pgen(X)), y, cv=10)\n",
      "print(\"Execution time: {:0.3f} s\".format(time.time() - t0))\n",
      "print(\"Mean score: {:0.3f}\".format(scores.mean()))"
     ],
     "language": "python",
     "metadata": {},
     "outputs": [
      {
       "output_type": "stream",
       "stream": "stdout",
       "text": [
        "Execution time: 2.952 s\n",
        "Mean score: 0.513\n"
       ]
      }
     ],
     "prompt_number": 9
    },
    {
     "cell_type": "code",
     "collapsed": false,
     "input": [],
     "language": "python",
     "metadata": {},
     "outputs": [],
     "prompt_number": 11
    }
   ],
   "metadata": {}
  }
 ]
}