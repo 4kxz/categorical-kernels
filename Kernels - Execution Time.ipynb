{
 "metadata": {
  "name": ""
 },
 "nbformat": 3,
 "nbformat_minor": 0,
 "worksheets": [
  {
   "cells": [
    {
     "cell_type": "code",
     "collapsed": false,
     "input": [
      "import time\n",
      "\n",
      "from sklearn import cross_validation as cv\n",
      "from sklearn import svm\n",
      "\n",
      "from kernels import precomp_k0, precomp_k1, precomp_k2\n",
      "from datasets import synthetic, gmonks, promoters"
     ],
     "language": "python",
     "metadata": {},
     "outputs": [],
     "prompt_number": 1
    },
    {
     "cell_type": "code",
     "collapsed": false,
     "input": [
      "X, y = gmonks(500, 1)\n",
      "\n",
      "# Test kernel 0:\n",
      "t0 = time.time()\n",
      "clf_k0 = svm.SVC(kernel='precomputed', C=1)\n",
      "scores = cv.cross_val_score(clf_k0, precomp_k0(X), y, cv=10)\n",
      "print(\"Execution time: {:0.3f} s\".format(time.time() - t0))\n",
      "print(\"Mean score: {:0.3f}\".format(scores.mean()))\n",
      "\n",
      "# Test kernel 1:\n",
      "t0 = time.time()\n",
      "clf_k1 = svm.SVC(kernel='precomputed', C=1)\n",
      "scores = cv.cross_val_score(clf_k1, precomp_k1(X), y, cv=10)\n",
      "print(\"Execution time: {:0.3f} s\".format(time.time() - t0))\n",
      "print(\"Mean score: {:0.3f}\".format(scores.mean()))"
     ],
     "language": "python",
     "metadata": {},
     "outputs": [
      {
       "output_type": "stream",
       "stream": "stdout",
       "text": [
        "Execution time: 0.181 s\n",
        "Mean score: 0.736\n",
        "Execution time: 0.206 s"
       ]
      },
      {
       "output_type": "stream",
       "stream": "stdout",
       "text": [
        "\n",
        "Mean score: 0.742\n"
       ]
      }
     ],
     "prompt_number": 2
    }
   ],
   "metadata": {}
  }
 ]
}