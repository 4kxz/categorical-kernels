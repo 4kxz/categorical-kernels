{
 "metadata": {
  "name": ""
 },
 "nbformat": 3,
 "nbformat_minor": 0,
 "worksheets": [
  {
   "cells": [
    {
     "cell_type": "code",
     "collapsed": false,
     "input": [
      "from sklearn import cross_validation as cv\n",
      "from sklearn import grid_search as gs\n",
      "from sklearn import svm\n",
      "\n",
      "from datasets import synthetic\n",
      "from kernels.categorical import fast_k0, fast_k1, fast_k2\n",
      "from misc import preprocess"
     ],
     "language": "python",
     "metadata": {},
     "outputs": [],
     "prompt_number": 1
    },
    {
     "cell_type": "heading",
     "level": 1,
     "metadata": {},
     "source": [
      "Performance with Default Parameters"
     ]
    },
    {
     "cell_type": "code",
     "collapsed": false,
     "input": [
      "# Measuring performance of kernels:\n",
      "sizes = (40, 80, 120)\n",
      "params = [1 / 10 * x for x in range(2, 9)]\n",
      "repeat = 5\n",
      "results = np.zeros((4, len(sizes), len(params), repeat))\n",
      "for i, n in enumerate(sizes):\n",
      "    print(\"Size {}:\".format(n))\n",
      "    for j, p in enumerate(params):\n",
      "        print(\"{:0.1f}\".format(p), end='\\t')\n",
      "        for k in range(repeat):\n",
      "            X, y = synthetic(n, d=25, c=4, p=p)\n",
      "            # RBF\n",
      "            clf = svm.SVC(kernel='rbf') #, gamma=0.044)\n",
      "            results[0][i][j][k] = cv.cross_val_score(clf, preprocess(X), y, cv=5).mean()\n",
      "            # K0\n",
      "            clf = svm.SVC(kernel='precomputed')\n",
      "            results[1][i][j][k] = cv.cross_val_score(clf, fast_k0(X), y, cv=5).mean()\n",
      "            # K1\n",
      "            clf = svm.SVC(kernel='precomputed')\n",
      "            results[2][i][j][k] = cv.cross_val_score(clf, fast_k1(X), y, cv=5).mean()\n",
      "            # K2\n",
      "            clf = svm.SVC(kernel='precomputed')\n",
      "            results[3][i][j][k] = cv.cross_val_score(clf, fast_k2(X), y, cv=5).mean()\n",
      "    print()"
     ],
     "language": "python",
     "metadata": {},
     "outputs": [
      {
       "output_type": "stream",
       "stream": "stdout",
       "text": [
        "Size 40:\n",
        "0.2\t0.3"
       ]
      },
      {
       "output_type": "stream",
       "stream": "stdout",
       "text": [
        "\t0.4"
       ]
      },
      {
       "output_type": "stream",
       "stream": "stdout",
       "text": [
        "\t0.5"
       ]
      },
      {
       "output_type": "stream",
       "stream": "stdout",
       "text": [
        "\t0.6"
       ]
      },
      {
       "output_type": "stream",
       "stream": "stdout",
       "text": [
        "\t0.7"
       ]
      },
      {
       "output_type": "stream",
       "stream": "stdout",
       "text": [
        "\t0.8"
       ]
      },
      {
       "output_type": "stream",
       "stream": "stdout",
       "text": [
        "\t\n"
       ]
      },
      {
       "output_type": "stream",
       "stream": "stdout",
       "text": [
        "Size 80:\n",
        "0.2\t0.3"
       ]
      },
      {
       "output_type": "stream",
       "stream": "stdout",
       "text": [
        "\t0.4"
       ]
      },
      {
       "output_type": "stream",
       "stream": "stdout",
       "text": [
        "\t0.5"
       ]
      },
      {
       "output_type": "stream",
       "stream": "stdout",
       "text": [
        "\t0.6"
       ]
      },
      {
       "output_type": "stream",
       "stream": "stdout",
       "text": [
        "\t0.7"
       ]
      },
      {
       "output_type": "stream",
       "stream": "stdout",
       "text": [
        "\t0.8"
       ]
      },
      {
       "output_type": "stream",
       "stream": "stdout",
       "text": [
        "\t\n"
       ]
      },
      {
       "output_type": "stream",
       "stream": "stdout",
       "text": [
        "Size 120:\n",
        "0.2\t0.3"
       ]
      },
      {
       "output_type": "stream",
       "stream": "stdout",
       "text": [
        "\t0.4"
       ]
      },
      {
       "output_type": "stream",
       "stream": "stdout",
       "text": [
        "\t0.5"
       ]
      },
      {
       "output_type": "stream",
       "stream": "stdout",
       "text": [
        "\t0.6"
       ]
      },
      {
       "output_type": "stream",
       "stream": "stdout",
       "text": [
        "\t0.7"
       ]
      },
      {
       "output_type": "stream",
       "stream": "stdout",
       "text": [
        "\t0.8"
       ]
      },
      {
       "output_type": "stream",
       "stream": "stdout",
       "text": [
        "\t\n"
       ]
      }
     ],
     "prompt_number": 2
    },
    {
     "cell_type": "code",
     "collapsed": false,
     "input": [
      "# Plot comparison of the various kernels:\n",
      "figure(figsize=(12, 4), dpi=150)\n",
      "for i, n in enumerate(sizes):\n",
      "    plt.subplot(131+i)\n",
      "    title(\"Results for size {}\".format(n))\n",
      "    plot(params, results[0][i].mean(axis=1), '.-', color='k', linewidth=0.5)\n",
      "    plot(params, results[1][i].mean(axis=1), 'x-', color='r', linewidth=0.5)\n",
      "    plot(params, results[2][i].mean(axis=1), 'x-', color='g', linewidth=0.5)\n",
      "    plot(params, results[3][i].mean(axis=1), 'x-', color='b', linewidth=0.5)\n",
      "    legend([\"RBF\", \"K0\", \"K1\", \"K2\"], bbox_to_anchor=(1, 0.5))\n",
      "    ylabel(\"Score\")\n",
      "    xlabel(\"Parameter value\")\n",
      "    xlim((0.2, 0.8))"
     ],
     "language": "python",
     "metadata": {},
     "outputs": [
      {
       "metadata": {},
       "output_type": "display_data",
       "png": "[encoded data removed]",
       "text": [
        "<matplotlib.figure.Figure at 0x7f81c05408d0>"
       ]
      }
     ],
     "prompt_number": 3
    },
    {
     "cell_type": "heading",
     "level": 1,
     "metadata": {},
     "source": [
      "Finding Parameters"
     ]
    },
    {
     "cell_type": "code",
     "collapsed": false,
     "input": [
      "# Generate and split the dataset\n",
      "\n",
      "X, y = synthetic(400)\n",
      "\n",
      "X_train, X_test, y_train, y_test = cv.train_test_split(X, y, test_size=0.5, random_state=42)\n",
      "X_train_prep =  preprocess(X_train)\n",
      "X_test_prep = preprocess(X_test)"
     ],
     "language": "python",
     "metadata": {},
     "outputs": [],
     "prompt_number": 2
    },
    {
     "cell_type": "heading",
     "level": 2,
     "metadata": {},
     "source": [
      "Fitting RBF"
     ]
    },
    {
     "cell_type": "code",
     "collapsed": false,
     "input": [
      "clf = svm.SVC(kernel='rbf')\n",
      "costs = 10.0 ** np.arange(-1, 4)\n",
      "gammas = 2.0 ** np.arange(-10, -3)\n",
      "params = dict(C=costs, gamma=gammas)\n",
      "\n",
      "# GridSearch takes care of finding the best parameters using cross-validation:\n",
      "grid = gs.GridSearchCV(clf, param_grid=params, cv=10)\n",
      "grid.fit(X_train_prep, y_train)\n",
      "\n",
      "print(\"The best classifier is: \", grid.best_estimator_)"
     ],
     "language": "python",
     "metadata": {},
     "outputs": [
      {
       "output_type": "stream",
       "stream": "stdout",
       "text": [
        "The best classifier is:  SVC(C=100.0, cache_size=200, class_weight=None, coef0=0.0, degree=3,\n",
        "  gamma=0.001953125, kernel=rbf, max_iter=-1, probability=False,\n",
        "  random_state=None, shrinking=True, tol=0.001, verbose=False)\n"
       ]
      }
     ],
     "prompt_number": 103
    },
    {
     "cell_type": "code",
     "collapsed": false,
     "input": [
      "# Draw heatmap of accuracy as a function of gamma and C\n",
      "# using only the actual scores:\n",
      "scores = [x[1] for x in grid.grid_scores_]\n",
      "scores = np.array(scores).reshape(len(costs), len(gammas))\n",
      "figure(figsize=(10, 5), dpi=150)\n",
      "imshow(scores, interpolation='nearest', cmap=cm.PiYG)\n",
      "xlabel('gamma')\n",
      "xticks(np.arange(len(gammas)), gammas, rotation=45)\n",
      "ylabel('C')\n",
      "yticks(np.arange(len(costs)), costs)\n",
      "colorbar()"
     ],
     "language": "python",
     "metadata": {},
     "outputs": [
      {
       "metadata": {},
       "output_type": "pyout",
       "prompt_number": 104,
       "text": [
        "<matplotlib.colorbar.Colorbar at 0x7fce0d4fb110>"
       ]
      },
      {
       "metadata": {},
       "output_type": "display_data",
       "png": "[encoded data removed]",
       "text": [
        "<matplotlib.figure.Figure at 0x7fce0d560750>"
       ]
      }
     ],
     "prompt_number": 104
    },
    {
     "cell_type": "heading",
     "level": 2,
     "metadata": {},
     "source": [
      "Fitting K0"
     ]
    },
    {
     "cell_type": "code",
     "collapsed": false,
     "input": [
      "clf = svm.SVC(kernel='precomputed')\n",
      "costs = 10.0 ** np.arange(-1, 4)\n",
      "# Sensible combinations of prev, composition and post functions.\n",
      "# The full explicit list for clarity.\n",
      "functions = [\n",
      "    ('ident', 'mean', 'ident'),\n",
      "    ('ident', 'mean', 'f1'),\n",
      "    ('ident', 'mean', 'f2'),\n",
      "    ('ident', 'prod', 'ident'),\n",
      "    ('ident', 'prod', 'f1'),\n",
      "    ('ident', 'prod', 'f2'),\n",
      "    ('f1', 'mean', 'ident'),\n",
      "    ('f1', 'prod', 'ident'),\n",
      "]\n",
      "gammas = 2 ** np.arange(-2, 2)\n",
      "params = dict(C=costs)\n",
      "\n",
      "# Precomputed kernels cannot use GridSearch trivially.\n",
      "# For now it's done manually.\n",
      "best_score = 0\n",
      "best_params = None\n",
      "for prev, comp, post in functions:\n",
      "    for g in gammas if prev == 'f1' or post == 'f1' or post == 'f2' else [None]:\n",
      "        print(end=\"|\")\n",
      "        grid = gs.GridSearchCV(clf, param_grid=params, cv=10)\n",
      "        gram = fast_k0(X_train, prev, comp, post, params=dict(gamma=g))\n",
      "        grid.fit(gram, y_train)\n",
      "        if best_score < grid.best_score_:\n",
      "            best_score = grid.best_score_\n",
      "            best_params = (prev, comp, post, g, grid.best_params_)\n",
      "    print(end=' ')\n",
      "\n",
      "print(\"Score \", best_score, \"Parameters \", best_params)"
     ],
     "language": "python",
     "metadata": {},
     "outputs": [
      {
       "output_type": "stream",
       "stream": "stdout",
       "text": [
        "| "
       ]
      },
      {
       "output_type": "stream",
       "stream": "stdout",
       "text": [
        "||"
       ]
      },
      {
       "output_type": "stream",
       "stream": "stdout",
       "text": [
        "||"
       ]
      },
      {
       "output_type": "stream",
       "stream": "stdout",
       "text": [
        " ||"
       ]
      },
      {
       "output_type": "stream",
       "stream": "stdout",
       "text": [
        "||"
       ]
      },
      {
       "output_type": "stream",
       "stream": "stdout",
       "text": [
        " | "
       ]
      },
      {
       "output_type": "stream",
       "stream": "stdout",
       "text": [
        "||"
       ]
      },
      {
       "output_type": "stream",
       "stream": "stdout",
       "text": [
        "||"
       ]
      },
      {
       "output_type": "stream",
       "stream": "stdout",
       "text": [
        " ||"
       ]
      },
      {
       "output_type": "stream",
       "stream": "stdout",
       "text": [
        "||"
       ]
      },
      {
       "output_type": "stream",
       "stream": "stdout",
       "text": [
        " ||"
       ]
      },
      {
       "output_type": "stream",
       "stream": "stdout",
       "text": [
        "||"
       ]
      },
      {
       "output_type": "stream",
       "stream": "stdout",
       "text": [
        " ||"
       ]
      },
      {
       "output_type": "stream",
       "stream": "stdout",
       "text": [
        "||"
       ]
      },
      {
       "output_type": "stream",
       "stream": "stdout",
       "text": [
        " Score  0.93 Parameters  ('f1', 'mean', 'ident', 1, {'C': 10.0})\n"
       ]
      }
     ],
     "prompt_number": 105
    },
    {
     "cell_type": "heading",
     "level": 2,
     "metadata": {},
     "source": [
      "Fitting K1"
     ]
    },
    {
     "cell_type": "code",
     "collapsed": false,
     "input": [
      "clf = svm.SVC(kernel='precomputed')\n",
      "costs = 10.0 ** np.arange(-1, 4)\n",
      "# Sensible combinations of prev, composition and post functions.\n",
      "# The full explicit list for clarity.\n",
      "functions = [\n",
      "    ('ident', 'mean', 'ident'),\n",
      "    ('ident', 'mean', 'f1'),\n",
      "    ('ident', 'mean', 'f2'),\n",
      "    ('ident', 'prod', 'ident'),\n",
      "    ('ident', 'prod', 'f1'),\n",
      "    ('ident', 'prod', 'f2'),\n",
      "    ('f1', 'mean', 'ident'),\n",
      "    ('f1', 'prod', 'ident'),\n",
      "]\n",
      "gammas = 2 ** np.arange(-2, 2)\n",
      "alphas = 2 ** np.arange(-2, 2)\n",
      "params = dict(C=costs)\n",
      "\n",
      "# Precomputed kernels cannot use GridSearch trivially.\n",
      "# For now it's done manually.\n",
      "best_score = 0\n",
      "best_params = None\n",
      "for prev, comp, post in functions:\n",
      "    for g in gammas if prev == 'f1' or post == 'f1' or post == 'f2' else [None]:\n",
      "        print(end=\"|\")\n",
      "        for a in alphas:\n",
      "            grid = gs.GridSearchCV(clf, param_grid=params, cv=10)\n",
      "            gram = fast_k1(X_train, prev, comp, post, params=dict(gamma=g, alpha=a))\n",
      "            grid.fit(gram, y_train)\n",
      "            if best_score < grid.best_score_:\n",
      "                best_score = grid.best_score_\n",
      "                best_params = (prev, comp, post, g, a, grid.best_params_)\n",
      "    print(end=' ')\n",
      "\n",
      "print(\"Score \", best_score, \"Parameters \", best_params)"
     ],
     "language": "python",
     "metadata": {},
     "outputs": [
      {
       "output_type": "stream",
       "stream": "stdout",
       "text": [
        "| "
       ]
      },
      {
       "output_type": "stream",
       "stream": "stdout",
       "text": [
        "||"
       ]
      },
      {
       "output_type": "stream",
       "stream": "stdout",
       "text": [
        "||"
       ]
      },
      {
       "output_type": "stream",
       "stream": "stdout",
       "text": [
        " ||"
       ]
      },
      {
       "output_type": "stream",
       "stream": "stdout",
       "text": [
        "||"
       ]
      },
      {
       "output_type": "stream",
       "stream": "stdout",
       "text": [
        " | "
       ]
      },
      {
       "output_type": "stream",
       "stream": "stdout",
       "text": [
        "||"
       ]
      },
      {
       "output_type": "stream",
       "stream": "stdout",
       "text": [
        "||"
       ]
      },
      {
       "output_type": "stream",
       "stream": "stdout",
       "text": [
        " ||"
       ]
      },
      {
       "output_type": "stream",
       "stream": "stdout",
       "text": [
        "||"
       ]
      },
      {
       "output_type": "stream",
       "stream": "stdout",
       "text": [
        " ||"
       ]
      },
      {
       "output_type": "stream",
       "stream": "stdout",
       "text": [
        "||"
       ]
      },
      {
       "output_type": "stream",
       "stream": "stdout",
       "text": [
        " ||"
       ]
      },
      {
       "output_type": "stream",
       "stream": "stdout",
       "text": [
        "||"
       ]
      },
      {
       "output_type": "stream",
       "stream": "stdout",
       "text": [
        " Score  0.93 Parameters  ('ident', 'mean', 'ident', None, 1, {'C': 10.0})\n"
       ]
      }
     ],
     "prompt_number": 106
    },
    {
     "cell_type": "heading",
     "level": 2,
     "metadata": {},
     "source": [
      "Fitting K2"
     ]
    },
    {
     "cell_type": "code",
     "collapsed": false,
     "input": [
      "clf = svm.SVC(kernel='precomputed')\n",
      "costs = 10.0 ** np.arange(-1, 4)\n",
      "params = dict(C=costs)\n",
      "grid = gs.GridSearchCV(clf, param_grid=params, cv=10)\n",
      "gram = fast_k2(X_train)\n",
      "grid.fit(gram, y_train)\n",
      "print(\"Score \", grid.best_score_, \"Parameters \", grid.best_params_)"
     ],
     "language": "python",
     "metadata": {},
     "outputs": [
      {
       "output_type": "stream",
       "stream": "stdout",
       "text": [
        "Score  0.965 Parameters  {'C': 10.0}\n"
       ]
      }
     ],
     "prompt_number": 3
    },
    {
     "cell_type": "heading",
     "level": 2,
     "metadata": {},
     "source": [
      "Prediction"
     ]
    },
    {
     "cell_type": "code",
     "collapsed": false,
     "input": [
      "from kernels.categorical import k2, ident, mean, f1gen, pmf_from_matrix\n",
      "\n",
      "pmf = pmf_from_matrix(X_train)\n",
      "clf = svm.SVC(kernel='precomputed', C=10.0)\n",
      "clf.fit(fast_k2(X_train, pmf=pmf), y_train)\n",
      "\n",
      "sum(clf.predict(k2(X_test, X_train, pmf=pmf)) == y_test) / 2"
     ],
     "language": "python",
     "metadata": {},
     "outputs": [
      {
       "metadata": {},
       "output_type": "pyout",
       "prompt_number": 5,
       "text": [
        "98.0"
       ]
      }
     ],
     "prompt_number": 5
    },
    {
     "cell_type": "code",
     "collapsed": false,
     "input": [],
     "language": "python",
     "metadata": {},
     "outputs": []
    }
   ],
   "metadata": {}
  }
 ]
}