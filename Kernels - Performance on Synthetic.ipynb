{
 "metadata": {
  "name": ""
 },
 "nbformat": 3,
 "nbformat_minor": 0,
 "worksheets": [
  {
   "cells": [
    {
     "cell_type": "code",
     "collapsed": false,
     "input": [
      "from sklearn import cross_validation as cv\n",
      "from sklearn import svm\n",
      "\n",
      "from datasets import synthetic\n",
      "from kernels import precomp_k0, precomp_k1, precomp_k2\n",
      "from misc import preprocess"
     ],
     "language": "python",
     "metadata": {},
     "outputs": [],
     "prompt_number": 1
    },
    {
     "cell_type": "heading",
     "level": 1,
     "metadata": {},
     "source": [
      "Performance with Default Parameters"
     ]
    },
    {
     "cell_type": "code",
     "collapsed": false,
     "input": [
      "# Measuring performance of kernels:\n",
      "sizes = (40, 80, 120)\n",
      "params = [1 / 10 * x for x in range(2, 9)]\n",
      "repeat = 5\n",
      "results = np.zeros((4, len(sizes), len(params), repeat))\n",
      "for i, n in enumerate(sizes):\n",
      "    print(\"Size {}:\".format(n))\n",
      "    for j, p in enumerate(params):\n",
      "        print(\"{:0.1f}\".format(p), end='\\t')\n",
      "        for k in range(repeat):\n",
      "            X, y = synthetic(n, d=25, c=4, p=p)\n",
      "            # RBF\n",
      "            clf = svm.SVC(kernel='rbf') #, gamma=0.044)\n",
      "            results[0][i][j][k] = cv.cross_val_score(clf, preprocess(X), y, cv=5).mean()\n",
      "            # K0\n",
      "            clf = svm.SVC(kernel='precomputed')\n",
      "            results[1][i][j][k] = cv.cross_val_score(clf, precomp_k0(X), y, cv=5).mean()\n",
      "            # K1\n",
      "            clf = svm.SVC(kernel='precomputed')\n",
      "            results[2][i][j][k] = cv.cross_val_score(clf, precomp_k1(X), y, cv=5).mean()\n",
      "            # K2\n",
      "            clf = svm.SVC(kernel='precomputed')\n",
      "            results[3][i][j][k] = cv.cross_val_score(clf, precomp_k2(X), y, cv=5).mean()\n",
      "    print()"
     ],
     "language": "python",
     "metadata": {},
     "outputs": [
      {
       "output_type": "stream",
       "stream": "stdout",
       "text": [
        "Size 40:\n",
        "0.2\t0.3"
       ]
      },
      {
       "output_type": "stream",
       "stream": "stdout",
       "text": [
        "\t0.4"
       ]
      },
      {
       "output_type": "stream",
       "stream": "stdout",
       "text": [
        "\t0.5"
       ]
      },
      {
       "output_type": "stream",
       "stream": "stdout",
       "text": [
        "\t0.6"
       ]
      },
      {
       "output_type": "stream",
       "stream": "stdout",
       "text": [
        "\t0.7"
       ]
      },
      {
       "output_type": "stream",
       "stream": "stdout",
       "text": [
        "\t0.8"
       ]
      },
      {
       "output_type": "stream",
       "stream": "stdout",
       "text": [
        "\t\n"
       ]
      },
      {
       "output_type": "stream",
       "stream": "stdout",
       "text": [
        "Size 80:\n",
        "0.2\t0.3"
       ]
      },
      {
       "output_type": "stream",
       "stream": "stdout",
       "text": [
        "\t0.4"
       ]
      },
      {
       "output_type": "stream",
       "stream": "stdout",
       "text": [
        "\t0.5"
       ]
      },
      {
       "output_type": "stream",
       "stream": "stdout",
       "text": [
        "\t0.6"
       ]
      },
      {
       "output_type": "stream",
       "stream": "stdout",
       "text": [
        "\t0.7"
       ]
      },
      {
       "output_type": "stream",
       "stream": "stdout",
       "text": [
        "\t0.8"
       ]
      },
      {
       "output_type": "stream",
       "stream": "stdout",
       "text": [
        "\t\n"
       ]
      },
      {
       "output_type": "stream",
       "stream": "stdout",
       "text": [
        "Size 120:\n",
        "0.2\t0.3"
       ]
      },
      {
       "output_type": "stream",
       "stream": "stdout",
       "text": [
        "\t0.4"
       ]
      },
      {
       "output_type": "stream",
       "stream": "stdout",
       "text": [
        "\t0.5"
       ]
      },
      {
       "output_type": "stream",
       "stream": "stdout",
       "text": [
        "\t0.6"
       ]
      },
      {
       "output_type": "stream",
       "stream": "stdout",
       "text": [
        "\t0.7"
       ]
      },
      {
       "output_type": "stream",
       "stream": "stdout",
       "text": [
        "\t0.8"
       ]
      },
      {
       "output_type": "stream",
       "stream": "stdout",
       "text": [
        "\t\n"
       ]
      }
     ],
     "prompt_number": 2
    },
    {
     "cell_type": "code",
     "collapsed": false,
     "input": [
      "# Plot comparison of the various kernels:\n",
      "figure(figsize=(12, 4), dpi=150)\n",
      "for i, n in enumerate(sizes):\n",
      "    plt.subplot(131+i)\n",
      "    title(\"Results for size {}\".format(n))\n",
      "    plot(params, results[0][i].mean(axis=1), '.-', color='k', linewidth=0.5)\n",
      "    plot(params, results[1][i].mean(axis=1), 'x-', color='r', linewidth=0.5)\n",
      "    plot(params, results[2][i].mean(axis=1), 'x-', color='g', linewidth=0.5)\n",
      "    plot(params, results[3][i].mean(axis=1), 'x-', color='b', linewidth=0.5)\n",
      "    legend([\"RBF\", \"K0\", \"K1\", \"K2\"], bbox_to_anchor=(1, 0.5))\n",
      "    ylabel(\"Score\")\n",
      "    xlabel(\"Parameter value\")\n",
      "    xlim((0.2, 0.8))"
     ],
     "language": "python",
     "metadata": {},
     "outputs": [
      {
       "metadata": {},
       "output_type": "display_data",
       "png": "[encoded data removed]",
       "text": [
        "<matplotlib.figure.Figure at 0x7f3f3e3b1350>"
       ]
      }
     ],
     "prompt_number": 3
    },
    {
     "cell_type": "heading",
     "level": 1,
     "metadata": {},
     "source": [
      "Finding Parameters"
     ]
    },
    {
     "cell_type": "heading",
     "level": 2,
     "metadata": {},
     "source": [
      "Fitting RBF"
     ]
    },
    {
     "cell_type": "code",
     "collapsed": false,
     "input": [
      "sizes = (80, 160, 320)\n",
      "gammas = [2 ** x for x in range(-10, 6)]\n",
      "repeat = 5\n",
      "results = np.zeros((len(sizes), len(gammas), repeat))\n",
      "for i, n in enumerate(sizes):\n",
      "    print(\"Size {}:\".format(n))\n",
      "    for j, g in enumerate(gammas):\n",
      "        print(\"{:0.3f}\".format(g), end='\\t')\n",
      "        for k in range(repeat):\n",
      "            X, y = synthetic(n, d=25, c=4, p=0.5)\n",
      "            # RBF\n",
      "            clf = svm.SVC(kernel='rbf', gamma=g)\n",
      "            results[i][j][k] = cv.cross_val_score(clf, preprocess(X), y, cv=5).min()\n",
      "    print()"
     ],
     "language": "python",
     "metadata": {},
     "outputs": [
      {
       "output_type": "stream",
       "stream": "stdout",
       "text": [
        "Size 80:\n",
        "0.001\t0.002"
       ]
      },
      {
       "output_type": "stream",
       "stream": "stdout",
       "text": [
        "\t0.004"
       ]
      },
      {
       "output_type": "stream",
       "stream": "stdout",
       "text": [
        "\t0.008"
       ]
      },
      {
       "output_type": "stream",
       "stream": "stdout",
       "text": [
        "\t0.016"
       ]
      },
      {
       "output_type": "stream",
       "stream": "stdout",
       "text": [
        "\t0.031"
       ]
      },
      {
       "output_type": "stream",
       "stream": "stdout",
       "text": [
        "\t0.062"
       ]
      },
      {
       "output_type": "stream",
       "stream": "stdout",
       "text": [
        "\t0.125"
       ]
      },
      {
       "output_type": "stream",
       "stream": "stdout",
       "text": [
        "\t0.250"
       ]
      },
      {
       "output_type": "stream",
       "stream": "stdout",
       "text": [
        "\t0.500"
       ]
      },
      {
       "output_type": "stream",
       "stream": "stdout",
       "text": [
        "\t1.000"
       ]
      },
      {
       "output_type": "stream",
       "stream": "stdout",
       "text": [
        "\t2.000"
       ]
      },
      {
       "output_type": "stream",
       "stream": "stdout",
       "text": [
        "\t4.000"
       ]
      },
      {
       "output_type": "stream",
       "stream": "stdout",
       "text": [
        "\t8.000"
       ]
      },
      {
       "output_type": "stream",
       "stream": "stdout",
       "text": [
        "\t16.000"
       ]
      },
      {
       "output_type": "stream",
       "stream": "stdout",
       "text": [
        "\t32.000"
       ]
      },
      {
       "output_type": "stream",
       "stream": "stdout",
       "text": [
        "\t\n"
       ]
      },
      {
       "output_type": "stream",
       "stream": "stdout",
       "text": [
        "Size 160:\n",
        "0.001\t0.002"
       ]
      },
      {
       "output_type": "stream",
       "stream": "stdout",
       "text": [
        "\t0.004"
       ]
      },
      {
       "output_type": "stream",
       "stream": "stdout",
       "text": [
        "\t0.008"
       ]
      },
      {
       "output_type": "stream",
       "stream": "stdout",
       "text": [
        "\t0.016"
       ]
      },
      {
       "output_type": "stream",
       "stream": "stdout",
       "text": [
        "\t0.031"
       ]
      },
      {
       "output_type": "stream",
       "stream": "stdout",
       "text": [
        "\t0.062"
       ]
      },
      {
       "output_type": "stream",
       "stream": "stdout",
       "text": [
        "\t0.125"
       ]
      },
      {
       "output_type": "stream",
       "stream": "stdout",
       "text": [
        "\t0.250"
       ]
      },
      {
       "output_type": "stream",
       "stream": "stdout",
       "text": [
        "\t0.500"
       ]
      },
      {
       "output_type": "stream",
       "stream": "stdout",
       "text": [
        "\t1.000"
       ]
      },
      {
       "output_type": "stream",
       "stream": "stdout",
       "text": [
        "\t2.000"
       ]
      },
      {
       "output_type": "stream",
       "stream": "stdout",
       "text": [
        "\t4.000"
       ]
      },
      {
       "output_type": "stream",
       "stream": "stdout",
       "text": [
        "\t8.000"
       ]
      },
      {
       "output_type": "stream",
       "stream": "stdout",
       "text": [
        "\t16.000"
       ]
      },
      {
       "output_type": "stream",
       "stream": "stdout",
       "text": [
        "\t32.000"
       ]
      },
      {
       "output_type": "stream",
       "stream": "stdout",
       "text": [
        "\t\n"
       ]
      },
      {
       "output_type": "stream",
       "stream": "stdout",
       "text": [
        "Size 320:\n",
        "0.001\t0.002"
       ]
      },
      {
       "output_type": "stream",
       "stream": "stdout",
       "text": [
        "\t0.004"
       ]
      },
      {
       "output_type": "stream",
       "stream": "stdout",
       "text": [
        "\t0.008"
       ]
      },
      {
       "output_type": "stream",
       "stream": "stdout",
       "text": [
        "\t0.016"
       ]
      },
      {
       "output_type": "stream",
       "stream": "stdout",
       "text": [
        "\t0.031"
       ]
      },
      {
       "output_type": "stream",
       "stream": "stdout",
       "text": [
        "\t0.062"
       ]
      },
      {
       "output_type": "stream",
       "stream": "stdout",
       "text": [
        "\t0.125"
       ]
      },
      {
       "output_type": "stream",
       "stream": "stdout",
       "text": [
        "\t0.250"
       ]
      },
      {
       "output_type": "stream",
       "stream": "stdout",
       "text": [
        "\t0.500"
       ]
      },
      {
       "output_type": "stream",
       "stream": "stdout",
       "text": [
        "\t1.000"
       ]
      },
      {
       "output_type": "stream",
       "stream": "stdout",
       "text": [
        "\t2.000"
       ]
      },
      {
       "output_type": "stream",
       "stream": "stdout",
       "text": [
        "\t4.000"
       ]
      },
      {
       "output_type": "stream",
       "stream": "stdout",
       "text": [
        "\t8.000"
       ]
      },
      {
       "output_type": "stream",
       "stream": "stdout",
       "text": [
        "\t16.000"
       ]
      },
      {
       "output_type": "stream",
       "stream": "stdout",
       "text": [
        "\t32.000"
       ]
      },
      {
       "output_type": "stream",
       "stream": "stdout",
       "text": [
        "\t\n"
       ]
      }
     ],
     "prompt_number": 4
    },
    {
     "cell_type": "code",
     "collapsed": false,
     "input": [
      "# Plot param histogram:\n",
      "figure(figsize=(8, 4), dpi=150)\n",
      "plot(gammas, results[0].mean(axis=1), '-', color='r', linewidth=0.5)\n",
      "plot(gammas, results[1].mean(axis=1), '-', color='b', linewidth=0.5)\n",
      "plot(gammas, results[2].mean(axis=1), '-', color='g', linewidth=0.5)\n",
      "title(\"Synthetic test results using RBF kernel\")\n",
      "legend([\"Size {}\".format(s) for s in sizes])\n",
      "ylabel(\"Score\")\n",
      "xlabel(\"Gamma value\")\n",
      "xscale('log')\n",
      "xlim((0.001, 100))\n",
      "plot(gammas, results[0], 'x', color='r', linewidth=0.5)\n",
      "plot(gammas, results[1], 'x', color='b', linewidth=0.5)\n",
      "plot(gammas, results[2], 'x', color='g', linewidth=0.5)"
     ],
     "language": "python",
     "metadata": {},
     "outputs": [
      {
       "metadata": {},
       "output_type": "pyout",
       "prompt_number": 6,
       "text": [
        "[<matplotlib.lines.Line2D at 0x7f3f3e1a5190>,\n",
        " <matplotlib.lines.Line2D at 0x7f3f3e2dd290>,\n",
        " <matplotlib.lines.Line2D at 0x7f3f3e2dd410>,\n",
        " <matplotlib.lines.Line2D at 0x7f3f3e2dd610>,\n",
        " <matplotlib.lines.Line2D at 0x7f3f3e2dd810>]"
       ]
      },
      {
       "metadata": {},
       "output_type": "display_data",
       "png": "[encoded data removed]",
       "text": [
        "<matplotlib.figure.Figure at 0x7f3f3e08eb50>"
       ]
      }
     ],
     "prompt_number": 6
    },
    {
     "cell_type": "heading",
     "level": 3,
     "metadata": {},
     "source": [
      "Grid Search"
     ]
    },
    {
     "cell_type": "code",
     "collapsed": false,
     "input": [
      "from sklearn import grid_search as gs\n",
      "\n",
      "X, y = synthetic(160, d=25, c=4, p=0.5)\n",
      "C_range = 2.0 ** np.arange(-4, 12)\n",
      "gamma_range = 2.0 ** np.arange(-12, 0)\n",
      "param_grid = dict(gamma=gamma_range, C=C_range)\n",
      "grid = gs.GridSearchCV(svm.SVC(kernel='rbf'), param_grid=param_grid, cv=5)\n",
      "grid.fit(X, y)\n",
      "\n",
      "print(\"The best classifier is: \", grid.best_estimator_)\n",
      "\n",
      "# Plot the scores of the grid grid_scores_ contains parameter settings and scores\n",
      "score_dict = grid.grid_scores_\n",
      "\n",
      "# We extract just the scores\n",
      "scores = [x[1] for x in score_dict]\n",
      "scores = np.array(scores).reshape(len(C_range), len(gamma_range))"
     ],
     "language": "python",
     "metadata": {},
     "outputs": [
      {
       "output_type": "stream",
       "stream": "stdout",
       "text": [
        "The best classifier is:  SVC(C=4.0, cache_size=200, class_weight=None, coef0=0.0, degree=3,\n",
        "  gamma=0.015625, kernel=rbf, max_iter=-1, probability=False,\n",
        "  random_state=None, shrinking=True, tol=0.001, verbose=False)\n"
       ]
      }
     ],
     "prompt_number": 7
    },
    {
     "cell_type": "code",
     "collapsed": false,
     "input": [
      "# Draw heatmap of accuracy as a function of gamma and C:\n",
      "figure(figsize=(8, 6))\n",
      "subplots_adjust(left=0.05, right=0.95, bottom=0.15, top=0.95)\n",
      "imshow(scores, interpolation='nearest', cmap=cm.PiYG)\n",
      "xlabel('gamma')\n",
      "ylabel('C')\n",
      "colorbar()\n",
      "xticks(np.arange(len(gamma_range)), gamma_range, rotation=45)\n",
      "yticks(np.arange(len(C_range)), C_range)\n",
      "print(\"Heatmap\")"
     ],
     "language": "python",
     "metadata": {},
     "outputs": [
      {
       "output_type": "stream",
       "stream": "stdout",
       "text": [
        "Heatmap\n"
       ]
      },
      {
       "metadata": {},
       "output_type": "display_data",
       "png": "[encoded data removed]",
       "text": [
        "<matplotlib.figure.Figure at 0x7f3f3df580d0>"
       ]
      }
     ],
     "prompt_number": 8
    },
    {
     "cell_type": "heading",
     "level": 2,
     "metadata": {},
     "source": [
      "Fitting K1"
     ]
    },
    {
     "cell_type": "code",
     "collapsed": false,
     "input": [
      "x, y = synthetic(160, d=25, c=4, p=0.5)\n",
      "\n",
      "x_train, x_test, y_train, y_test = cv.train_test_split(x, y, test_size=0.5)\n",
      "\n",
      "G = [1.5**i for i in range(1, 7)]\n",
      "A = [0.5, 0.7, 0.9, 1, 1.5]\n",
      "C = [10**i for i in range(-1, 3)]\n",
      "count = 0\n",
      "best = None\n",
      "record = 0\n",
      "score = 0\n",
      "\n",
      "t0 = time.time()\n",
      "for co in ('mean', 'prod'):\n",
      "    for pr in ('ident', 'f1'):\n",
      "        prG = (None, ) if pr == 'ident' else G\n",
      "        prFUNC = ('ident', ) if pr == 'f1' else ('ident', 'f1', 'f2')\n",
      "        for po in prFUNC:\n",
      "            poG = (None, ) if po == 'ident' else G\n",
      "            for prg in prG:\n",
      "                for pog in poG:\n",
      "                    gram = compute_opt_k1(x_train, prev=(pr, prg), comp=co, post=(po, pog))\n",
      "                    for c in C:\n",
      "                        t1 = time.time()\n",
      "                        count += 1\n",
      "                        conf = (co, pr, prg, po, pog, c)\n",
      "                        clf = svm.SVC(kernel='precomputed', C=c)\n",
      "                        score = cv.cross_val_score(clf, gram, y_train, cv=5).mean()\n",
      "                        if score >= record:\n",
      "                            best = conf\n",
      "                            record = score\n",
      "                        print(\n",
      "                            count, \"/\",\n",
      "                            \"{:.2f}\".format(time.time() - t1), \"/\",\n",
      "                            \"{:.2f}\".format(time.time() - t0), \"/\",\n",
      "                            \"{:.2f}\".format(score), conf,\n",
      "                        )\n",
      "print(best, \"{:.2f}\".format(record))"
     ],
     "language": "python",
     "metadata": {},
     "outputs": [
      {
       "ename": "NameError",
       "evalue": "name 'time' is not defined",
       "output_type": "pyerr",
       "traceback": [
        "\u001b[1;31m---------------------------------------------------------------------------\u001b[0m\n\u001b[1;31mNameError\u001b[0m                                 Traceback (most recent call last)",
        "\u001b[1;32m<ipython-input-9-8be54e901d6a>\u001b[0m in \u001b[0;36m<module>\u001b[1;34m()\u001b[0m\n\u001b[0;32m     11\u001b[0m \u001b[0mscore\u001b[0m \u001b[1;33m=\u001b[0m \u001b[1;36m0\u001b[0m\u001b[1;33m\u001b[0m\u001b[0m\n\u001b[0;32m     12\u001b[0m \u001b[1;33m\u001b[0m\u001b[0m\n\u001b[1;32m---> 13\u001b[1;33m \u001b[0mt0\u001b[0m \u001b[1;33m=\u001b[0m \u001b[0mtime\u001b[0m\u001b[1;33m.\u001b[0m\u001b[0mtime\u001b[0m\u001b[1;33m(\u001b[0m\u001b[1;33m)\u001b[0m\u001b[1;33m\u001b[0m\u001b[0m\n\u001b[0m\u001b[0;32m     14\u001b[0m \u001b[1;32mfor\u001b[0m \u001b[0mco\u001b[0m \u001b[1;32min\u001b[0m \u001b[1;33m(\u001b[0m\u001b[1;34m'mean'\u001b[0m\u001b[1;33m,\u001b[0m \u001b[1;34m'prod'\u001b[0m\u001b[1;33m)\u001b[0m\u001b[1;33m:\u001b[0m\u001b[1;33m\u001b[0m\u001b[0m\n\u001b[0;32m     15\u001b[0m     \u001b[1;32mfor\u001b[0m \u001b[0mpr\u001b[0m \u001b[1;32min\u001b[0m \u001b[1;33m(\u001b[0m\u001b[1;34m'ident'\u001b[0m\u001b[1;33m,\u001b[0m \u001b[1;34m'f1'\u001b[0m\u001b[1;33m)\u001b[0m\u001b[1;33m:\u001b[0m\u001b[1;33m\u001b[0m\u001b[0m\n",
        "\u001b[1;31mNameError\u001b[0m: name 'time' is not defined"
       ]
      }
     ],
     "prompt_number": 9
    },
    {
     "cell_type": "code",
     "collapsed": false,
     "input": [],
     "language": "python",
     "metadata": {},
     "outputs": []
    }
   ],
   "metadata": {}
  }
 ]
}