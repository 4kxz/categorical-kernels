{
 "metadata": {
  "name": "",
  "signature": "sha256:532e83581a7d723abd6c08160a008e94ec8778aef685a543a6521e80c542747c"
 },
 "nbformat": 3,
 "nbformat_minor": 0,
 "worksheets": [
  {
   "cells": [
    {
     "cell_type": "heading",
     "level": 1,
     "metadata": {},
     "source": [
      "Synthetic Dataset Overview"
     ]
    },
    {
     "cell_type": "code",
     "collapsed": false,
     "input": [
      "from sklearn import cross_validation as cv\n",
      "from sklearn import svm\n",
      "\n",
      "plt.style.use('ggplot')\n",
      "\n",
      "from kcat.datasets import Synthetic"
     ],
     "language": "python",
     "metadata": {},
     "outputs": [],
     "prompt_number": 1
    },
    {
     "cell_type": "code",
     "collapsed": false,
     "input": [
      "# Define parameters\n",
      "sizes = (50, 100, 200, 400)\n",
      "ps = np.linspace(0, 1, num=11)\n",
      "repeat = 150\n",
      "# Try all possible combinations\n",
      "results = np.zeros((len(sizes), len(ps), repeat))\n",
      "for i, m in enumerate(sizes):\n",
      "    for j, p in enumerate(ps):\n",
      "        print(\"{} {}\".format(m, p), end=', ')\n",
      "        for k in range(repeat):\n",
      "            # Generate a new dataset\n",
      "            Xq, Xc, y = Synthetic(m, n=25, c=2, p=p).data_arrays\n",
      "            clf = svm.SVC(kernel='rbf')\n",
      "            results[i][j][k] = cv.cross_val_score(clf, Xc, y, cv=5).mean()\n",
      "# Invert results to show error rate instead of success rate\n",
      "results = 1.0 - results"
     ],
     "language": "python",
     "metadata": {},
     "outputs": [
      {
       "output_type": "stream",
       "stream": "stdout",
       "text": [
        "50 0.0, 50 0.1"
       ]
      },
      {
       "output_type": "stream",
       "stream": "stdout",
       "text": [
        ", 50 0.2"
       ]
      },
      {
       "output_type": "stream",
       "stream": "stdout",
       "text": [
        ", 50 0.30000000000000004"
       ]
      },
      {
       "output_type": "stream",
       "stream": "stdout",
       "text": [
        ", 50 0.4"
       ]
      },
      {
       "output_type": "stream",
       "stream": "stdout",
       "text": [
        ", 50 0.5"
       ]
      },
      {
       "output_type": "stream",
       "stream": "stdout",
       "text": [
        ", 50 0.6000000000000001"
       ]
      },
      {
       "output_type": "stream",
       "stream": "stdout",
       "text": [
        ", 50 0.7000000000000001"
       ]
      },
      {
       "output_type": "stream",
       "stream": "stdout",
       "text": [
        ", 50 0.8"
       ]
      },
      {
       "output_type": "stream",
       "stream": "stdout",
       "text": [
        ", 50 0.9"
       ]
      },
      {
       "output_type": "stream",
       "stream": "stdout",
       "text": [
        ", 50 1.0"
       ]
      },
      {
       "output_type": "stream",
       "stream": "stdout",
       "text": [
        ", 100 0.0"
       ]
      },
      {
       "output_type": "stream",
       "stream": "stdout",
       "text": [
        ", 100 0.1"
       ]
      },
      {
       "output_type": "stream",
       "stream": "stdout",
       "text": [
        ", 100 0.2"
       ]
      },
      {
       "output_type": "stream",
       "stream": "stdout",
       "text": [
        ", 100 0.30000000000000004"
       ]
      },
      {
       "output_type": "stream",
       "stream": "stdout",
       "text": [
        ", 100 0.4"
       ]
      },
      {
       "output_type": "stream",
       "stream": "stdout",
       "text": [
        ", 100 0.5"
       ]
      },
      {
       "output_type": "stream",
       "stream": "stdout",
       "text": [
        ", 100 0.6000000000000001"
       ]
      },
      {
       "output_type": "stream",
       "stream": "stdout",
       "text": [
        ", 100 0.7000000000000001"
       ]
      },
      {
       "output_type": "stream",
       "stream": "stdout",
       "text": [
        ", 100 0.8"
       ]
      },
      {
       "output_type": "stream",
       "stream": "stdout",
       "text": [
        ", 100 0.9"
       ]
      },
      {
       "output_type": "stream",
       "stream": "stdout",
       "text": [
        ", 100 1.0"
       ]
      },
      {
       "output_type": "stream",
       "stream": "stdout",
       "text": [
        ", 200 0.0"
       ]
      },
      {
       "output_type": "stream",
       "stream": "stdout",
       "text": [
        ", 200 0.1"
       ]
      },
      {
       "output_type": "stream",
       "stream": "stdout",
       "text": [
        ", 200 0.2"
       ]
      },
      {
       "output_type": "stream",
       "stream": "stdout",
       "text": [
        ", 200 0.30000000000000004"
       ]
      },
      {
       "output_type": "stream",
       "stream": "stdout",
       "text": [
        ", 200 0.4"
       ]
      },
      {
       "output_type": "stream",
       "stream": "stdout",
       "text": [
        ", 200 0.5"
       ]
      },
      {
       "output_type": "stream",
       "stream": "stdout",
       "text": [
        ", 200 0.6000000000000001"
       ]
      },
      {
       "output_type": "stream",
       "stream": "stdout",
       "text": [
        ", 200 0.7000000000000001"
       ]
      },
      {
       "output_type": "stream",
       "stream": "stdout",
       "text": [
        ", 200 0.8"
       ]
      },
      {
       "output_type": "stream",
       "stream": "stdout",
       "text": [
        ", 200 0.9"
       ]
      },
      {
       "output_type": "stream",
       "stream": "stdout",
       "text": [
        ", 200 1.0"
       ]
      },
      {
       "output_type": "stream",
       "stream": "stdout",
       "text": [
        ", 400 0.0"
       ]
      },
      {
       "output_type": "stream",
       "stream": "stdout",
       "text": [
        ", 400 0.1"
       ]
      },
      {
       "output_type": "stream",
       "stream": "stdout",
       "text": [
        ", 400 0.2"
       ]
      },
      {
       "output_type": "stream",
       "stream": "stdout",
       "text": [
        ", 400 0.30000000000000004"
       ]
      },
      {
       "output_type": "stream",
       "stream": "stdout",
       "text": [
        ", 400 0.4"
       ]
      },
      {
       "output_type": "stream",
       "stream": "stdout",
       "text": [
        ", 400 0.5"
       ]
      },
      {
       "output_type": "stream",
       "stream": "stdout",
       "text": [
        ", 400 0.6000000000000001"
       ]
      },
      {
       "output_type": "stream",
       "stream": "stdout",
       "text": [
        ", 400 0.7000000000000001"
       ]
      },
      {
       "output_type": "stream",
       "stream": "stdout",
       "text": [
        ", 400 0.8"
       ]
      },
      {
       "output_type": "stream",
       "stream": "stdout",
       "text": [
        ", 400 0.9"
       ]
      },
      {
       "output_type": "stream",
       "stream": "stdout",
       "text": [
        ", 400 1.0"
       ]
      },
      {
       "output_type": "stream",
       "stream": "stdout",
       "text": [
        ", "
       ]
      }
     ],
     "prompt_number": 2
    },
    {
     "cell_type": "code",
     "collapsed": false,
     "input": [
      "# Plot error\n",
      "figure(figsize=(10, 5))\n",
      "styles = (':', '-.', '--', '-')\n",
      "for i, m in enumerate(sizes):\n",
      "    plot(ps, results[i].mean(axis=1), styles[i], linewidth=1.5, color=(0.7, 0.4, 0))\n",
      "xlabel(\"P\")\n",
      "ylabel(\"Error\")\n",
      "ylim(0, 0.5)\n",
      "legend([\"Size {}\".format(m) for m in sizes])\n",
      "# title(\"Classification Error using RBF Kernel\".format(m))"
     ],
     "language": "python",
     "metadata": {},
     "outputs": [
      {
       "metadata": {},
       "output_type": "pyout",
       "prompt_number": 3,
       "text": [
        "<matplotlib.legend.Legend at 0x7f4ede379dd8>"
       ]
      },
      {
       "metadata": {},
       "output_type": "display_data",
       "png": "[encoded data removed]",
       "text": [
        "<matplotlib.figure.Figure at 0x7f4ede404c50>"
       ]
      }
     ],
     "prompt_number": 3
    }
   ],
   "metadata": {}
  }
 ]
}