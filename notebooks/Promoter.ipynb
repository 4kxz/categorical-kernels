{
 "metadata": {
  "name": ""
 },
 "nbformat": 3,
 "nbformat_minor": 0,
 "worksheets": [
  {
   "cells": [
    {
     "cell_type": "heading",
     "level": 1,
     "metadata": {},
     "source": [
      "Promoter Gene"
     ]
    },
    {
     "cell_type": "code",
     "collapsed": false,
     "input": [
      "from pprint import pprint\n",
      "from sklearn import svm\n",
      "from sklearn import cross_validation as cv\n",
      "\n",
      "from kcat.datasets import Promoter\n",
      "from kcat.kernels import helpers as kh\n",
      "from kcat.kernels import search as ks\n",
      "from kcat.utils import get_pgen"
     ],
     "language": "python",
     "metadata": {},
     "outputs": [],
     "prompt_number": 2
    },
    {
     "cell_type": "heading",
     "level": 2,
     "metadata": {},
     "source": [
      "Loading the dataset"
     ]
    },
    {
     "cell_type": "code",
     "collapsed": false,
     "input": [
      "# Generate a dataset\n",
      "data = Promoter()\n",
      "\n",
      "# Split train and test\n",
      "X_train, X_test, y_train, y_test = data.train_test_split(test_size=0.25, random_state=0)\n",
      "\n",
      "# Cross-validation\n",
      "cvf = cv.StratifiedKFold(y_train, 8)"
     ],
     "language": "python",
     "metadata": {},
     "outputs": [],
     "prompt_number": 26
    },
    {
     "cell_type": "code",
     "collapsed": false,
     "input": [
      "rbf = kh.RBF()\n",
      "best_fit = rbf.train(cvf, X_train, y_train)\n",
      "results = rbf.test(best_fit, X_test, y_test)\n",
      "pprint(results['train_score'])"
     ],
     "language": "python",
     "metadata": {},
     "outputs": [
      {
       "output_type": "stream",
       "stream": "stdout",
       "text": [
        "0.91139240506329111\n"
       ]
      }
     ],
     "prompt_number": 27
    },
    {
     "cell_type": "code",
     "collapsed": false,
     "input": [
      "k0 = kh.K0()\n",
      "best_fit = k0.train(cvf, X_train, y_train)\n",
      "results = k0.test(best_fit, X_test, y_test)\n",
      "pprint(results['train_score'])"
     ],
     "language": "python",
     "metadata": {},
     "outputs": [
      {
       "output_type": "stream",
       "stream": "stdout",
       "text": [
        "0.93670886075949367\n"
       ]
      }
     ],
     "prompt_number": 28
    },
    {
     "cell_type": "code",
     "collapsed": false,
     "input": [
      "k1 = kh.K1()\n",
      "best_fit = k1.train(cvf, X_train, y_train)\n",
      "results = k1.test(best_fit, X_test, y_test)\n",
      "pprint(results['train_score'])"
     ],
     "language": "python",
     "metadata": {},
     "outputs": [
      {
       "output_type": "stream",
       "stream": "stdout",
       "text": [
        "0.93670886075949367\n"
       ]
      }
     ],
     "prompt_number": 29
    },
    {
     "cell_type": "code",
     "collapsed": false,
     "input": [
      "k2 = kh.K2()\n",
      "best_fit = k2.train(cvf, X_train, y_train)\n",
      "results = k2.test(best_fit, X_test, y_test)\n",
      "pprint(results['train_score'])"
     ],
     "language": "python",
     "metadata": {},
     "outputs": [
      {
       "output_type": "stream",
       "stream": "stdout",
       "text": [
        "0.88607594936708856\n"
       ]
      }
     ],
     "prompt_number": 30
    },
    {
     "cell_type": "code",
     "collapsed": false,
     "input": [
      "m1 = kh.M1()\n",
      "best_fit = m1.train(cvf, X_train, y_train)\n",
      "results = m1.test(best_fit, X_test, y_test)\n",
      "pprint(results['train_score'])"
     ],
     "language": "python",
     "metadata": {},
     "outputs": [
      {
       "output_type": "stream",
       "stream": "stdout",
       "text": [
        "0.93670886075949367\n"
       ]
      }
     ],
     "prompt_number": 31
    },
    {
     "cell_type": "code",
     "collapsed": false,
     "input": [
      "m2 = kh.M2()\n",
      "best_fit = m2.train(cvf, X_train, y_train)\n",
      "results = m2.test(best_fit, X_test, y_test)\n",
      "pprint(results['train_score'])"
     ],
     "language": "python",
     "metadata": {},
     "outputs": [
      {
       "output_type": "stream",
       "stream": "stdout",
       "text": [
        "0.92405063291139244\n"
       ]
      }
     ],
     "prompt_number": 32
    },
    {
     "cell_type": "code",
     "collapsed": false,
     "input": [
      "m3 = kh.M3()\n",
      "best_fit = m3.train(cvf, X_train, y_train)\n",
      "results = m3.test(best_fit, X_test, y_test)\n",
      "pprint(results['train_score'])"
     ],
     "language": "python",
     "metadata": {},
     "outputs": [
      {
       "output_type": "stream",
       "stream": "stdout",
       "text": [
        "0.93670886075949367\n"
       ]
      }
     ],
     "prompt_number": 33
    },
    {
     "cell_type": "code",
     "collapsed": false,
     "input": [
      "m4 = kh.M4()\n",
      "best_fit = m4.train(cvf, X_train, y_train)\n",
      "results = m4.test(best_fit, X_test, y_test)\n",
      "pprint(results['train_score'])"
     ],
     "language": "python",
     "metadata": {},
     "outputs": [
      {
       "output_type": "stream",
       "stream": "stdout",
       "text": [
        "0.93670886075949367\n"
       ]
      }
     ],
     "prompt_number": 34
    },
    {
     "cell_type": "code",
     "collapsed": false,
     "input": [],
     "language": "python",
     "metadata": {},
     "outputs": [],
     "prompt_number": 34
    }
   ],
   "metadata": {}
  }
 ]
}