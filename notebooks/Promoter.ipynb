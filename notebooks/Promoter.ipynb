{
 "metadata": {
  "name": "",
  "signature": "sha256:650db4fcc4c5625013c469b6cb2563b547c1f1f2e77b134b299f6514936ea813"
 },
 "nbformat": 3,
 "nbformat_minor": 0,
 "worksheets": [
  {
   "cells": [
    {
     "cell_type": "heading",
     "level": 1,
     "metadata": {},
     "source": [
      "Promoter Gene Dataset"
     ]
    },
    {
     "cell_type": "code",
     "collapsed": false,
     "input": [
      "from sklearn import svm\n",
      "from sklearn import cross_validation as cv\n",
      "import pandas as pd\n",
      "\n",
      "plt.style.use('ggplot')\n",
      "\n",
      "from kcat.datasets import Promoter\n",
      "from kcat.kernels import helpers as kh\n",
      "from kcat.kernels import search as ks"
     ],
     "language": "python",
     "metadata": {},
     "outputs": [],
     "prompt_number": 1
    },
    {
     "cell_type": "code",
     "collapsed": false,
     "input": [
      "# Load the dataset\n",
      "dataset = Promoter()"
     ],
     "language": "python",
     "metadata": {},
     "outputs": [],
     "prompt_number": 2
    },
    {
     "cell_type": "code",
     "collapsed": false,
     "input": [
      "data = {'Kernel': [], 'Test Error': []}\n",
      "for i in range(20):\n",
      "    print(\"Iteration {}\".format(i))\n",
      "    # Split train and test\n",
      "    X_train, X_test, y_train, y_test = dataset.train_test_split(test_size=0.33, random_state=i)\n",
      "    # Cross-validation\n",
      "    cvf = cv.StratifiedKFold(y_train, 10)\n",
      "    # Evaluate models\n",
      "    for model_class in kh.RBF, kh.K0, kh.K1, kh.M3, kh.M4, kh.M5, kh.M6, kh.M7, kh.M9, kh.MC, kh.MD, kh.ME:\n",
      "        model = model_class()\n",
      "        print(model.name, end=', ')\n",
      "        best_fit = model.train(cvf, X_train, y_train)\n",
      "        results = model.test(best_fit, X_test, y_test)\n",
      "        data['Kernel'].append(model.name)\n",
      "        data['Test Error'].append(1 - results['test_score'])\n",
      "    print()"
     ],
     "language": "python",
     "metadata": {},
     "outputs": [
      {
       "output_type": "stream",
       "stream": "stdout",
       "text": [
        "Iteration 0\n",
        "RBF, "
       ]
      },
      {
       "output_type": "stream",
       "stream": "stdout",
       "text": [
        "K0, "
       ]
      },
      {
       "output_type": "stream",
       "stream": "stdout",
       "text": [
        "K1, "
       ]
      },
      {
       "output_type": "stream",
       "stream": "stdout",
       "text": [
        "M3, "
       ]
      },
      {
       "output_type": "stream",
       "stream": "stdout",
       "text": [
        "M4, "
       ]
      },
      {
       "output_type": "stream",
       "stream": "stdout",
       "text": [
        "M5, "
       ]
      },
      {
       "output_type": "stream",
       "stream": "stdout",
       "text": [
        "M6, "
       ]
      },
      {
       "output_type": "stream",
       "stream": "stdout",
       "text": [
        "M7, "
       ]
      },
      {
       "output_type": "stream",
       "stream": "stdout",
       "text": [
        "M9, "
       ]
      },
      {
       "output_type": "stream",
       "stream": "stdout",
       "text": [
        "MC, "
       ]
      },
      {
       "output_type": "stream",
       "stream": "stdout",
       "text": [
        "MD, "
       ]
      },
      {
       "output_type": "stream",
       "stream": "stdout",
       "text": [
        "ME, "
       ]
      },
      {
       "output_type": "stream",
       "stream": "stdout",
       "text": [
        "\n",
        "Iteration 1\n",
        "RBF, "
       ]
      },
      {
       "output_type": "stream",
       "stream": "stdout",
       "text": [
        "K0, "
       ]
      },
      {
       "output_type": "stream",
       "stream": "stdout",
       "text": [
        "K1, "
       ]
      },
      {
       "output_type": "stream",
       "stream": "stdout",
       "text": [
        "M3, "
       ]
      },
      {
       "output_type": "stream",
       "stream": "stdout",
       "text": [
        "M4, "
       ]
      },
      {
       "output_type": "stream",
       "stream": "stdout",
       "text": [
        "M5, "
       ]
      },
      {
       "output_type": "stream",
       "stream": "stdout",
       "text": [
        "M6, "
       ]
      },
      {
       "output_type": "stream",
       "stream": "stdout",
       "text": [
        "M7, "
       ]
      },
      {
       "output_type": "stream",
       "stream": "stdout",
       "text": [
        "M9, "
       ]
      },
      {
       "output_type": "stream",
       "stream": "stdout",
       "text": [
        "MC, "
       ]
      },
      {
       "output_type": "stream",
       "stream": "stdout",
       "text": [
        "MD, "
       ]
      },
      {
       "output_type": "stream",
       "stream": "stdout",
       "text": [
        "ME, "
       ]
      },
      {
       "output_type": "stream",
       "stream": "stdout",
       "text": [
        "\n",
        "Iteration 2\n",
        "RBF, "
       ]
      },
      {
       "output_type": "stream",
       "stream": "stdout",
       "text": [
        "K0, "
       ]
      },
      {
       "output_type": "stream",
       "stream": "stdout",
       "text": [
        "K1, "
       ]
      },
      {
       "output_type": "stream",
       "stream": "stdout",
       "text": [
        "M3, "
       ]
      },
      {
       "output_type": "stream",
       "stream": "stdout",
       "text": [
        "M4, "
       ]
      },
      {
       "output_type": "stream",
       "stream": "stdout",
       "text": [
        "M5, "
       ]
      },
      {
       "output_type": "stream",
       "stream": "stdout",
       "text": [
        "M6, "
       ]
      },
      {
       "output_type": "stream",
       "stream": "stdout",
       "text": [
        "M7, "
       ]
      },
      {
       "output_type": "stream",
       "stream": "stdout",
       "text": [
        "M9, "
       ]
      },
      {
       "output_type": "stream",
       "stream": "stdout",
       "text": [
        "MC, "
       ]
      },
      {
       "output_type": "stream",
       "stream": "stdout",
       "text": [
        "MD, "
       ]
      },
      {
       "output_type": "stream",
       "stream": "stdout",
       "text": [
        "ME, "
       ]
      },
      {
       "output_type": "stream",
       "stream": "stdout",
       "text": [
        "\n",
        "Iteration 3\n",
        "RBF, "
       ]
      },
      {
       "output_type": "stream",
       "stream": "stdout",
       "text": [
        "K0, "
       ]
      },
      {
       "output_type": "stream",
       "stream": "stdout",
       "text": [
        "K1, "
       ]
      },
      {
       "output_type": "stream",
       "stream": "stdout",
       "text": [
        "M3, "
       ]
      },
      {
       "output_type": "stream",
       "stream": "stdout",
       "text": [
        "M4, "
       ]
      },
      {
       "output_type": "stream",
       "stream": "stdout",
       "text": [
        "M5, "
       ]
      },
      {
       "output_type": "stream",
       "stream": "stdout",
       "text": [
        "M6, "
       ]
      },
      {
       "output_type": "stream",
       "stream": "stdout",
       "text": [
        "M7, "
       ]
      },
      {
       "output_type": "stream",
       "stream": "stdout",
       "text": [
        "M9, "
       ]
      },
      {
       "output_type": "stream",
       "stream": "stdout",
       "text": [
        "MC, "
       ]
      },
      {
       "output_type": "stream",
       "stream": "stdout",
       "text": [
        "MD, "
       ]
      },
      {
       "output_type": "stream",
       "stream": "stdout",
       "text": [
        "ME, "
       ]
      },
      {
       "output_type": "stream",
       "stream": "stdout",
       "text": [
        "\n",
        "Iteration 4\n",
        "RBF, "
       ]
      },
      {
       "output_type": "stream",
       "stream": "stdout",
       "text": [
        "K0, "
       ]
      },
      {
       "output_type": "stream",
       "stream": "stdout",
       "text": [
        "K1, "
       ]
      },
      {
       "output_type": "stream",
       "stream": "stdout",
       "text": [
        "M3, "
       ]
      },
      {
       "output_type": "stream",
       "stream": "stdout",
       "text": [
        "M4, "
       ]
      },
      {
       "output_type": "stream",
       "stream": "stdout",
       "text": [
        "M5, "
       ]
      },
      {
       "output_type": "stream",
       "stream": "stdout",
       "text": [
        "M6, "
       ]
      },
      {
       "output_type": "stream",
       "stream": "stdout",
       "text": [
        "M7, "
       ]
      },
      {
       "output_type": "stream",
       "stream": "stdout",
       "text": [
        "M9, "
       ]
      },
      {
       "output_type": "stream",
       "stream": "stdout",
       "text": [
        "MC, "
       ]
      },
      {
       "output_type": "stream",
       "stream": "stdout",
       "text": [
        "MD, "
       ]
      },
      {
       "output_type": "stream",
       "stream": "stdout",
       "text": [
        "ME, "
       ]
      },
      {
       "output_type": "stream",
       "stream": "stdout",
       "text": [
        "\n",
        "Iteration 5\n",
        "RBF, "
       ]
      },
      {
       "output_type": "stream",
       "stream": "stdout",
       "text": [
        "K0, "
       ]
      },
      {
       "output_type": "stream",
       "stream": "stdout",
       "text": [
        "K1, "
       ]
      },
      {
       "output_type": "stream",
       "stream": "stdout",
       "text": [
        "M3, "
       ]
      },
      {
       "output_type": "stream",
       "stream": "stdout",
       "text": [
        "M4, "
       ]
      },
      {
       "output_type": "stream",
       "stream": "stdout",
       "text": [
        "M5, "
       ]
      },
      {
       "output_type": "stream",
       "stream": "stdout",
       "text": [
        "M6, "
       ]
      },
      {
       "output_type": "stream",
       "stream": "stdout",
       "text": [
        "M7, "
       ]
      },
      {
       "output_type": "stream",
       "stream": "stdout",
       "text": [
        "M9, "
       ]
      },
      {
       "output_type": "stream",
       "stream": "stdout",
       "text": [
        "MC, "
       ]
      },
      {
       "output_type": "stream",
       "stream": "stdout",
       "text": [
        "MD, "
       ]
      },
      {
       "output_type": "stream",
       "stream": "stdout",
       "text": [
        "ME, "
       ]
      },
      {
       "output_type": "stream",
       "stream": "stdout",
       "text": [
        "\n",
        "Iteration 6\n",
        "RBF, "
       ]
      },
      {
       "output_type": "stream",
       "stream": "stdout",
       "text": [
        "K0, "
       ]
      },
      {
       "output_type": "stream",
       "stream": "stdout",
       "text": [
        "K1, "
       ]
      },
      {
       "output_type": "stream",
       "stream": "stdout",
       "text": [
        "M3, "
       ]
      },
      {
       "output_type": "stream",
       "stream": "stdout",
       "text": [
        "M4, "
       ]
      },
      {
       "output_type": "stream",
       "stream": "stdout",
       "text": [
        "M5, "
       ]
      },
      {
       "output_type": "stream",
       "stream": "stdout",
       "text": [
        "M6, "
       ]
      },
      {
       "output_type": "stream",
       "stream": "stdout",
       "text": [
        "M7, "
       ]
      },
      {
       "output_type": "stream",
       "stream": "stdout",
       "text": [
        "M9, "
       ]
      },
      {
       "output_type": "stream",
       "stream": "stdout",
       "text": [
        "MC, "
       ]
      },
      {
       "output_type": "stream",
       "stream": "stdout",
       "text": [
        "MD, "
       ]
      },
      {
       "output_type": "stream",
       "stream": "stdout",
       "text": [
        "ME, "
       ]
      },
      {
       "output_type": "stream",
       "stream": "stdout",
       "text": [
        "\n",
        "Iteration 7\n",
        "RBF, "
       ]
      },
      {
       "output_type": "stream",
       "stream": "stdout",
       "text": [
        "K0, "
       ]
      },
      {
       "output_type": "stream",
       "stream": "stdout",
       "text": [
        "K1, "
       ]
      },
      {
       "output_type": "stream",
       "stream": "stdout",
       "text": [
        "M3, "
       ]
      },
      {
       "output_type": "stream",
       "stream": "stdout",
       "text": [
        "M4, "
       ]
      },
      {
       "output_type": "stream",
       "stream": "stdout",
       "text": [
        "M5, "
       ]
      },
      {
       "output_type": "stream",
       "stream": "stdout",
       "text": [
        "M6, "
       ]
      },
      {
       "output_type": "stream",
       "stream": "stdout",
       "text": [
        "M7, "
       ]
      },
      {
       "output_type": "stream",
       "stream": "stdout",
       "text": [
        "M9, "
       ]
      },
      {
       "output_type": "stream",
       "stream": "stdout",
       "text": [
        "MC, "
       ]
      },
      {
       "output_type": "stream",
       "stream": "stdout",
       "text": [
        "MD, "
       ]
      },
      {
       "output_type": "stream",
       "stream": "stdout",
       "text": [
        "ME, "
       ]
      },
      {
       "output_type": "stream",
       "stream": "stdout",
       "text": [
        "\n",
        "Iteration 8\n",
        "RBF, "
       ]
      },
      {
       "output_type": "stream",
       "stream": "stdout",
       "text": [
        "K0, "
       ]
      },
      {
       "output_type": "stream",
       "stream": "stdout",
       "text": [
        "K1, "
       ]
      },
      {
       "output_type": "stream",
       "stream": "stdout",
       "text": [
        "M3, "
       ]
      },
      {
       "output_type": "stream",
       "stream": "stdout",
       "text": [
        "M4, "
       ]
      },
      {
       "output_type": "stream",
       "stream": "stdout",
       "text": [
        "M5, "
       ]
      },
      {
       "output_type": "stream",
       "stream": "stdout",
       "text": [
        "M6, "
       ]
      },
      {
       "output_type": "stream",
       "stream": "stdout",
       "text": [
        "M7, "
       ]
      },
      {
       "output_type": "stream",
       "stream": "stdout",
       "text": [
        "M9, "
       ]
      },
      {
       "output_type": "stream",
       "stream": "stdout",
       "text": [
        "MC, "
       ]
      },
      {
       "output_type": "stream",
       "stream": "stdout",
       "text": [
        "MD, "
       ]
      },
      {
       "output_type": "stream",
       "stream": "stdout",
       "text": [
        "ME, "
       ]
      },
      {
       "output_type": "stream",
       "stream": "stdout",
       "text": [
        "\n",
        "Iteration 9\n",
        "RBF, "
       ]
      },
      {
       "output_type": "stream",
       "stream": "stdout",
       "text": [
        "K0, "
       ]
      },
      {
       "output_type": "stream",
       "stream": "stdout",
       "text": [
        "K1, "
       ]
      },
      {
       "output_type": "stream",
       "stream": "stdout",
       "text": [
        "M3, "
       ]
      },
      {
       "output_type": "stream",
       "stream": "stdout",
       "text": [
        "M4, "
       ]
      },
      {
       "output_type": "stream",
       "stream": "stdout",
       "text": [
        "M5, "
       ]
      },
      {
       "output_type": "stream",
       "stream": "stdout",
       "text": [
        "M6, "
       ]
      },
      {
       "output_type": "stream",
       "stream": "stdout",
       "text": [
        "M7, "
       ]
      },
      {
       "output_type": "stream",
       "stream": "stdout",
       "text": [
        "M9, "
       ]
      },
      {
       "output_type": "stream",
       "stream": "stdout",
       "text": [
        "MC, "
       ]
      },
      {
       "output_type": "stream",
       "stream": "stdout",
       "text": [
        "MD, "
       ]
      },
      {
       "output_type": "stream",
       "stream": "stdout",
       "text": [
        "ME, "
       ]
      },
      {
       "output_type": "stream",
       "stream": "stdout",
       "text": [
        "\n",
        "Iteration 10\n",
        "RBF, "
       ]
      },
      {
       "output_type": "stream",
       "stream": "stdout",
       "text": [
        "K0, "
       ]
      },
      {
       "output_type": "stream",
       "stream": "stdout",
       "text": [
        "K1, "
       ]
      },
      {
       "output_type": "stream",
       "stream": "stdout",
       "text": [
        "M3, "
       ]
      },
      {
       "output_type": "stream",
       "stream": "stdout",
       "text": [
        "M4, "
       ]
      },
      {
       "output_type": "stream",
       "stream": "stdout",
       "text": [
        "M5, "
       ]
      },
      {
       "output_type": "stream",
       "stream": "stdout",
       "text": [
        "M6, "
       ]
      },
      {
       "output_type": "stream",
       "stream": "stdout",
       "text": [
        "M7, "
       ]
      },
      {
       "output_type": "stream",
       "stream": "stdout",
       "text": [
        "M9, "
       ]
      },
      {
       "output_type": "stream",
       "stream": "stdout",
       "text": [
        "MC, "
       ]
      },
      {
       "output_type": "stream",
       "stream": "stdout",
       "text": [
        "MD, "
       ]
      },
      {
       "output_type": "stream",
       "stream": "stdout",
       "text": [
        "ME, "
       ]
      },
      {
       "output_type": "stream",
       "stream": "stdout",
       "text": [
        "\n",
        "Iteration 11\n",
        "RBF, "
       ]
      },
      {
       "output_type": "stream",
       "stream": "stdout",
       "text": [
        "K0, "
       ]
      },
      {
       "output_type": "stream",
       "stream": "stdout",
       "text": [
        "K1, "
       ]
      },
      {
       "output_type": "stream",
       "stream": "stdout",
       "text": [
        "M3, "
       ]
      },
      {
       "output_type": "stream",
       "stream": "stdout",
       "text": [
        "M4, "
       ]
      },
      {
       "output_type": "stream",
       "stream": "stdout",
       "text": [
        "M5, "
       ]
      },
      {
       "output_type": "stream",
       "stream": "stdout",
       "text": [
        "M6, "
       ]
      },
      {
       "output_type": "stream",
       "stream": "stdout",
       "text": [
        "M7, "
       ]
      },
      {
       "output_type": "stream",
       "stream": "stdout",
       "text": [
        "M9, "
       ]
      },
      {
       "output_type": "stream",
       "stream": "stdout",
       "text": [
        "MC, "
       ]
      },
      {
       "output_type": "stream",
       "stream": "stdout",
       "text": [
        "MD, "
       ]
      },
      {
       "output_type": "stream",
       "stream": "stdout",
       "text": [
        "ME, "
       ]
      },
      {
       "output_type": "stream",
       "stream": "stdout",
       "text": [
        "\n",
        "Iteration 12\n",
        "RBF, "
       ]
      },
      {
       "output_type": "stream",
       "stream": "stdout",
       "text": [
        "K0, "
       ]
      },
      {
       "output_type": "stream",
       "stream": "stdout",
       "text": [
        "K1, "
       ]
      },
      {
       "output_type": "stream",
       "stream": "stdout",
       "text": [
        "M3, "
       ]
      },
      {
       "output_type": "stream",
       "stream": "stdout",
       "text": [
        "M4, "
       ]
      },
      {
       "output_type": "stream",
       "stream": "stdout",
       "text": [
        "M5, "
       ]
      },
      {
       "output_type": "stream",
       "stream": "stdout",
       "text": [
        "M6, "
       ]
      },
      {
       "output_type": "stream",
       "stream": "stdout",
       "text": [
        "M7, "
       ]
      },
      {
       "output_type": "stream",
       "stream": "stdout",
       "text": [
        "M9, "
       ]
      },
      {
       "output_type": "stream",
       "stream": "stdout",
       "text": [
        "MC, "
       ]
      },
      {
       "output_type": "stream",
       "stream": "stdout",
       "text": [
        "MD, "
       ]
      },
      {
       "output_type": "stream",
       "stream": "stdout",
       "text": [
        "ME, "
       ]
      },
      {
       "output_type": "stream",
       "stream": "stdout",
       "text": [
        "\n",
        "Iteration 13\n",
        "RBF, "
       ]
      },
      {
       "output_type": "stream",
       "stream": "stdout",
       "text": [
        "K0, "
       ]
      },
      {
       "output_type": "stream",
       "stream": "stdout",
       "text": [
        "K1, "
       ]
      },
      {
       "output_type": "stream",
       "stream": "stdout",
       "text": [
        "M3, "
       ]
      },
      {
       "output_type": "stream",
       "stream": "stdout",
       "text": [
        "M4, "
       ]
      },
      {
       "output_type": "stream",
       "stream": "stdout",
       "text": [
        "M5, "
       ]
      },
      {
       "output_type": "stream",
       "stream": "stdout",
       "text": [
        "M6, "
       ]
      },
      {
       "output_type": "stream",
       "stream": "stdout",
       "text": [
        "M7, "
       ]
      },
      {
       "output_type": "stream",
       "stream": "stdout",
       "text": [
        "M9, "
       ]
      },
      {
       "output_type": "stream",
       "stream": "stdout",
       "text": [
        "MC, "
       ]
      },
      {
       "output_type": "stream",
       "stream": "stdout",
       "text": [
        "MD, "
       ]
      },
      {
       "output_type": "stream",
       "stream": "stdout",
       "text": [
        "ME, "
       ]
      },
      {
       "output_type": "stream",
       "stream": "stdout",
       "text": [
        "\n",
        "Iteration 14\n",
        "RBF, "
       ]
      },
      {
       "output_type": "stream",
       "stream": "stdout",
       "text": [
        "K0, "
       ]
      },
      {
       "output_type": "stream",
       "stream": "stdout",
       "text": [
        "K1, "
       ]
      },
      {
       "output_type": "stream",
       "stream": "stdout",
       "text": [
        "M3, "
       ]
      },
      {
       "output_type": "stream",
       "stream": "stdout",
       "text": [
        "M4, "
       ]
      },
      {
       "output_type": "stream",
       "stream": "stdout",
       "text": [
        "M5, "
       ]
      },
      {
       "output_type": "stream",
       "stream": "stdout",
       "text": [
        "M6, "
       ]
      },
      {
       "output_type": "stream",
       "stream": "stdout",
       "text": [
        "M7, "
       ]
      },
      {
       "output_type": "stream",
       "stream": "stdout",
       "text": [
        "M9, "
       ]
      },
      {
       "output_type": "stream",
       "stream": "stdout",
       "text": [
        "MC, "
       ]
      },
      {
       "output_type": "stream",
       "stream": "stdout",
       "text": [
        "MD, "
       ]
      },
      {
       "output_type": "stream",
       "stream": "stdout",
       "text": [
        "ME, "
       ]
      },
      {
       "output_type": "stream",
       "stream": "stdout",
       "text": [
        "\n",
        "Iteration 15\n",
        "RBF, "
       ]
      },
      {
       "output_type": "stream",
       "stream": "stdout",
       "text": [
        "K0, "
       ]
      },
      {
       "output_type": "stream",
       "stream": "stdout",
       "text": [
        "K1, "
       ]
      },
      {
       "output_type": "stream",
       "stream": "stdout",
       "text": [
        "M3, "
       ]
      },
      {
       "output_type": "stream",
       "stream": "stdout",
       "text": [
        "M4, "
       ]
      },
      {
       "output_type": "stream",
       "stream": "stdout",
       "text": [
        "M5, "
       ]
      },
      {
       "output_type": "stream",
       "stream": "stdout",
       "text": [
        "M6, "
       ]
      },
      {
       "output_type": "stream",
       "stream": "stdout",
       "text": [
        "M7, "
       ]
      },
      {
       "output_type": "stream",
       "stream": "stdout",
       "text": [
        "M9, "
       ]
      },
      {
       "output_type": "stream",
       "stream": "stdout",
       "text": [
        "MC, "
       ]
      },
      {
       "output_type": "stream",
       "stream": "stdout",
       "text": [
        "MD, "
       ]
      },
      {
       "output_type": "stream",
       "stream": "stdout",
       "text": [
        "ME, "
       ]
      },
      {
       "output_type": "stream",
       "stream": "stdout",
       "text": [
        "\n",
        "Iteration 16\n",
        "RBF, "
       ]
      },
      {
       "output_type": "stream",
       "stream": "stdout",
       "text": [
        "K0, "
       ]
      },
      {
       "output_type": "stream",
       "stream": "stdout",
       "text": [
        "K1, "
       ]
      },
      {
       "output_type": "stream",
       "stream": "stdout",
       "text": [
        "M3, "
       ]
      },
      {
       "output_type": "stream",
       "stream": "stdout",
       "text": [
        "M4, "
       ]
      },
      {
       "output_type": "stream",
       "stream": "stdout",
       "text": [
        "M5, "
       ]
      },
      {
       "output_type": "stream",
       "stream": "stdout",
       "text": [
        "M6, "
       ]
      },
      {
       "output_type": "stream",
       "stream": "stdout",
       "text": [
        "M7, "
       ]
      },
      {
       "output_type": "stream",
       "stream": "stdout",
       "text": [
        "M9, "
       ]
      },
      {
       "output_type": "stream",
       "stream": "stdout",
       "text": [
        "MC, "
       ]
      },
      {
       "output_type": "stream",
       "stream": "stdout",
       "text": [
        "MD, "
       ]
      },
      {
       "output_type": "stream",
       "stream": "stdout",
       "text": [
        "ME, "
       ]
      },
      {
       "output_type": "stream",
       "stream": "stdout",
       "text": [
        "\n",
        "Iteration 17\n",
        "RBF, "
       ]
      },
      {
       "output_type": "stream",
       "stream": "stdout",
       "text": [
        "K0, "
       ]
      },
      {
       "output_type": "stream",
       "stream": "stdout",
       "text": [
        "K1, "
       ]
      },
      {
       "output_type": "stream",
       "stream": "stdout",
       "text": [
        "M3, "
       ]
      },
      {
       "output_type": "stream",
       "stream": "stdout",
       "text": [
        "M4, "
       ]
      },
      {
       "output_type": "stream",
       "stream": "stdout",
       "text": [
        "M5, "
       ]
      },
      {
       "output_type": "stream",
       "stream": "stdout",
       "text": [
        "M6, "
       ]
      },
      {
       "output_type": "stream",
       "stream": "stdout",
       "text": [
        "M7, "
       ]
      },
      {
       "output_type": "stream",
       "stream": "stdout",
       "text": [
        "M9, "
       ]
      },
      {
       "output_type": "stream",
       "stream": "stdout",
       "text": [
        "MC, "
       ]
      },
      {
       "output_type": "stream",
       "stream": "stdout",
       "text": [
        "MD, "
       ]
      },
      {
       "output_type": "stream",
       "stream": "stdout",
       "text": [
        "ME, "
       ]
      },
      {
       "output_type": "stream",
       "stream": "stdout",
       "text": [
        "\n",
        "Iteration 18\n",
        "RBF, "
       ]
      },
      {
       "output_type": "stream",
       "stream": "stdout",
       "text": [
        "K0, "
       ]
      },
      {
       "output_type": "stream",
       "stream": "stdout",
       "text": [
        "K1, "
       ]
      },
      {
       "output_type": "stream",
       "stream": "stdout",
       "text": [
        "M3, "
       ]
      },
      {
       "output_type": "stream",
       "stream": "stdout",
       "text": [
        "M4, "
       ]
      },
      {
       "output_type": "stream",
       "stream": "stdout",
       "text": [
        "M5, "
       ]
      },
      {
       "output_type": "stream",
       "stream": "stdout",
       "text": [
        "M6, "
       ]
      },
      {
       "output_type": "stream",
       "stream": "stdout",
       "text": [
        "M7, "
       ]
      },
      {
       "output_type": "stream",
       "stream": "stdout",
       "text": [
        "M9, "
       ]
      },
      {
       "output_type": "stream",
       "stream": "stdout",
       "text": [
        "MC, "
       ]
      },
      {
       "output_type": "stream",
       "stream": "stdout",
       "text": [
        "MD, "
       ]
      },
      {
       "output_type": "stream",
       "stream": "stdout",
       "text": [
        "ME, "
       ]
      },
      {
       "output_type": "stream",
       "stream": "stdout",
       "text": [
        "\n",
        "Iteration 19\n",
        "RBF, "
       ]
      },
      {
       "output_type": "stream",
       "stream": "stdout",
       "text": [
        "K0, "
       ]
      },
      {
       "output_type": "stream",
       "stream": "stdout",
       "text": [
        "K1, "
       ]
      },
      {
       "output_type": "stream",
       "stream": "stdout",
       "text": [
        "M3, "
       ]
      },
      {
       "output_type": "stream",
       "stream": "stdout",
       "text": [
        "M4, "
       ]
      },
      {
       "output_type": "stream",
       "stream": "stdout",
       "text": [
        "M5, "
       ]
      },
      {
       "output_type": "stream",
       "stream": "stdout",
       "text": [
        "M6, "
       ]
      },
      {
       "output_type": "stream",
       "stream": "stdout",
       "text": [
        "M7, "
       ]
      },
      {
       "output_type": "stream",
       "stream": "stdout",
       "text": [
        "M9, "
       ]
      },
      {
       "output_type": "stream",
       "stream": "stdout",
       "text": [
        "MC, "
       ]
      },
      {
       "output_type": "stream",
       "stream": "stdout",
       "text": [
        "MD, "
       ]
      },
      {
       "output_type": "stream",
       "stream": "stdout",
       "text": [
        "ME, "
       ]
      },
      {
       "output_type": "stream",
       "stream": "stdout",
       "text": [
        "\n"
       ]
      }
     ],
     "prompt_number": 3
    },
    {
     "cell_type": "code",
     "collapsed": false,
     "input": [
      "df = pd.DataFrame(data=data)\n",
      "df.groupby('Kernel')['Test Error'].mean()"
     ],
     "language": "python",
     "metadata": {},
     "outputs": [
      {
       "metadata": {},
       "output_type": "pyout",
       "prompt_number": 4,
       "text": [
        "Kernel\n",
        "K0        0.101429\n",
        "K1        0.145714\n",
        "M3        0.130000\n",
        "M4        0.128571\n",
        "M5        0.112857\n",
        "M6        0.127143\n",
        "M7        0.092857\n",
        "M9        0.120000\n",
        "MC        0.092857\n",
        "MD        0.124286\n",
        "ME        0.108571\n",
        "RBF       0.097143\n",
        "Name: Test Error, dtype: float64"
       ]
      }
     ],
     "prompt_number": 4
    },
    {
     "cell_type": "code",
     "collapsed": false,
     "input": [
      "univ_kernels = (df.Kernel == 'K0') | (df.Kernel == 'K1') | (df.Kernel == 'RBF')\n",
      "df[univ_kernels].boxplot(by='Kernel');"
     ],
     "language": "python",
     "metadata": {},
     "outputs": [
      {
       "metadata": {},
       "output_type": "display_data",
       "png": "[encoded data removed]",
       "text": [
        "<matplotlib.figure.Figure at 0x7fcb5017f668>"
       ]
      }
     ],
     "prompt_number": 5
    },
    {
     "cell_type": "code",
     "collapsed": false,
     "input": [
      "df.boxplot(by='Kernel');"
     ],
     "language": "python",
     "metadata": {},
     "outputs": [
      {
       "metadata": {},
       "output_type": "display_data",
       "png": "[encoded data removed]",
       "text": [
        "<matplotlib.figure.Figure at 0x7fcb70359400>"
       ]
      }
     ],
     "prompt_number": 6
    },
    {
     "cell_type": "code",
     "collapsed": false,
     "input": [],
     "language": "python",
     "metadata": {},
     "outputs": [],
     "prompt_number": 6
    }
   ],
   "metadata": {}
  }
 ]
}