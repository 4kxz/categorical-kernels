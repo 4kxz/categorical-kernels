{
 "metadata": {
  "name": "",
  "signature": "sha256:8d19db9db5a7c3a5a9e9d717cfc203ed74a1718749af65fcda751c625cd4ceb6"
 },
 "nbformat": 3,
 "nbformat_minor": 0,
 "worksheets": [
  {
   "cells": [
    {
     "cell_type": "heading",
     "level": 1,
     "metadata": {},
     "source": [
      "Promoter Gene Dataset"
     ]
    },
    {
     "cell_type": "code",
     "collapsed": false,
     "input": [
      "from pprint import pprint\n",
      "from sklearn import svm\n",
      "from sklearn import cross_validation as cv\n",
      "import pandas as pd\n",
      "\n",
      "from kcat.datasets import Promoter\n",
      "from kcat.kernels import helpers as kh\n",
      "from kcat.kernels import search as ks\n",
      "from kcat.utils import get_pgen"
     ],
     "language": "python",
     "metadata": {},
     "outputs": [],
     "prompt_number": 1
    },
    {
     "cell_type": "heading",
     "level": 2,
     "metadata": {},
     "source": [
      "Loading the dataset"
     ]
    },
    {
     "cell_type": "code",
     "collapsed": false,
     "input": [
      "# Generate a dataset\n",
      "data = Promoter()\n",
      "\n",
      "# Split train and test\n",
      "X_train, X_test, y_train, y_test = data.train_test_split(test_size=0.25, random_state=0)\n",
      "\n",
      "# Cross-validation\n",
      "cvf = cv.StratifiedKFold(y_train, 8)\n",
      "\n",
      "kernels, train_scores, test_scores = [], [], []"
     ],
     "language": "python",
     "metadata": {},
     "outputs": [],
     "prompt_number": 2
    },
    {
     "cell_type": "code",
     "collapsed": false,
     "input": [
      "for model_class in kh.DEFAULT_MODELS:\n",
      "    model = model_class()\n",
      "    print(\"Running {}...\".format(model.name))\n",
      "    best_fit = model.train(cvf, X_train, y_train)\n",
      "    results = model.test(best_fit, X_test, y_test)\n",
      "    kernels.append(model.name)\n",
      "    train_scores.append(results['train_score'])\n",
      "    test_scores.append(results['test_score'])"
     ],
     "language": "python",
     "metadata": {},
     "outputs": [
      {
       "output_type": "stream",
       "stream": "stdout",
       "text": [
        "Running RBF...\n"
       ]
      },
      {
       "output_type": "stream",
       "stream": "stdout",
       "text": [
        "Running K0...\n"
       ]
      },
      {
       "output_type": "stream",
       "stream": "stdout",
       "text": [
        "Running K1...\n"
       ]
      },
      {
       "output_type": "stream",
       "stream": "stdout",
       "text": [
        "Running K2...\n"
       ]
      },
      {
       "output_type": "stream",
       "stream": "stdout",
       "text": [
        "Running ELK...\n"
       ]
      },
      {
       "output_type": "stream",
       "stream": "stdout",
       "text": [
        "Running M3...\n"
       ]
      },
      {
       "output_type": "stream",
       "stream": "stdout",
       "text": [
        "Running M4...\n"
       ]
      },
      {
       "output_type": "stream",
       "stream": "stdout",
       "text": [
        "Running M5...\n"
       ]
      },
      {
       "output_type": "stream",
       "stream": "stdout",
       "text": [
        "Running M6...\n"
       ]
      },
      {
       "output_type": "stream",
       "stream": "stdout",
       "text": [
        "Running M7...\n"
       ]
      },
      {
       "output_type": "stream",
       "stream": "stdout",
       "text": [
        "Running M8...\n"
       ]
      },
      {
       "output_type": "stream",
       "stream": "stdout",
       "text": [
        "Running M9...\n"
       ]
      },
      {
       "output_type": "stream",
       "stream": "stdout",
       "text": [
        "Running MA...\n"
       ]
      },
      {
       "output_type": "stream",
       "stream": "stdout",
       "text": [
        "Running MB...\n"
       ]
      },
      {
       "output_type": "stream",
       "stream": "stdout",
       "text": [
        "Running MC...\n"
       ]
      },
      {
       "output_type": "stream",
       "stream": "stdout",
       "text": [
        "Running MD...\n"
       ]
      },
      {
       "output_type": "stream",
       "stream": "stdout",
       "text": [
        "Running ME...\n"
       ]
      }
     ],
     "prompt_number": 7
    },
    {
     "cell_type": "code",
     "collapsed": false,
     "input": [
      "model = kh.Chi1()\n",
      "print(\"Running {}...\".format(model.name))\n",
      "best_fit = model.train(cvf, X_train, y_train)\n",
      "results = model.test(best_fit, X_test, y_test)\n",
      "kernels.append(model.name)\n",
      "train_scores.append(results['train_score'])\n",
      "test_scores.append(results['test_score'])"
     ],
     "language": "python",
     "metadata": {},
     "outputs": [
      {
       "output_type": "stream",
       "stream": "stdout",
       "text": [
        "Running Chi1...\n"
       ]
      }
     ],
     "prompt_number": 3
    },
    {
     "cell_type": "code",
     "collapsed": false,
     "input": [
      "model = kh.Chi2()\n",
      "print(\"Running {}...\".format(model.name))\n",
      "best_fit = model.train(cvf, X_train, y_train)\n",
      "results = model.test(best_fit, X_test, y_test)\n",
      "kernels.append(model.name)\n",
      "train_scores.append(results['train_score'])\n",
      "test_scores.append(results['test_score'])"
     ],
     "language": "python",
     "metadata": {},
     "outputs": [
      {
       "output_type": "stream",
       "stream": "stdout",
       "text": [
        "Running Chi2...\n"
       ]
      }
     ],
     "prompt_number": 4
    },
    {
     "cell_type": "code",
     "collapsed": false,
     "input": [
      "data = {\n",
      "    'Train Scores': train_scores,\n",
      "    'Test Scores': test_scores,\n",
      "    }\n",
      "df = pd.DataFrame(data=data, index=kernels)"
     ],
     "language": "python",
     "metadata": {},
     "outputs": [],
     "prompt_number": 8
    },
    {
     "cell_type": "code",
     "collapsed": false,
     "input": [
      "df.plot(kind='bar', ylim=(0, 1.25))\n",
      "df"
     ],
     "language": "python",
     "metadata": {},
     "outputs": [
      {
       "html": [
        "<div style=\"max-height:1000px;max-width:1500px;overflow:auto;\">\n",
        "<table border=\"1\" class=\"dataframe\">\n",
        "  <thead>\n",
        "    <tr style=\"text-align: right;\">\n",
        "      <th></th>\n",
        "      <th>Test Scores</th>\n",
        "      <th>Train Scores</th>\n",
        "    </tr>\n",
        "  </thead>\n",
        "  <tbody>\n",
        "    <tr>\n",
        "      <th>Chi1</th>\n",
        "      <td> 0.481481</td>\n",
        "      <td> 0.493671</td>\n",
        "    </tr>\n",
        "    <tr>\n",
        "      <th>Chi2</th>\n",
        "      <td> 0.962963</td>\n",
        "      <td> 0.911392</td>\n",
        "    </tr>\n",
        "    <tr>\n",
        "      <th>RBF</th>\n",
        "      <td> 0.962963</td>\n",
        "      <td> 0.898734</td>\n",
        "    </tr>\n",
        "    <tr>\n",
        "      <th>K0</th>\n",
        "      <td> 0.925926</td>\n",
        "      <td> 0.936709</td>\n",
        "    </tr>\n",
        "    <tr>\n",
        "      <th>K1</th>\n",
        "      <td> 0.925926</td>\n",
        "      <td> 0.936709</td>\n",
        "    </tr>\n",
        "    <tr>\n",
        "      <th>K2</th>\n",
        "      <td> 0.888889</td>\n",
        "      <td> 0.873418</td>\n",
        "    </tr>\n",
        "    <tr>\n",
        "      <th>ELK</th>\n",
        "      <td> 0.481481</td>\n",
        "      <td> 0.506329</td>\n",
        "    </tr>\n",
        "    <tr>\n",
        "      <th>M3</th>\n",
        "      <td> 0.925926</td>\n",
        "      <td> 0.936709</td>\n",
        "    </tr>\n",
        "    <tr>\n",
        "      <th>M4</th>\n",
        "      <td> 0.925926</td>\n",
        "      <td> 0.911392</td>\n",
        "    </tr>\n",
        "    <tr>\n",
        "      <th>M5</th>\n",
        "      <td> 0.925926</td>\n",
        "      <td> 0.936709</td>\n",
        "    </tr>\n",
        "    <tr>\n",
        "      <th>M6</th>\n",
        "      <td> 0.925926</td>\n",
        "      <td> 0.924051</td>\n",
        "    </tr>\n",
        "    <tr>\n",
        "      <th>M7</th>\n",
        "      <td> 0.925926</td>\n",
        "      <td> 0.936709</td>\n",
        "    </tr>\n",
        "    <tr>\n",
        "      <th>M8</th>\n",
        "      <td> 0.925926</td>\n",
        "      <td> 0.924051</td>\n",
        "    </tr>\n",
        "    <tr>\n",
        "      <th>M9</th>\n",
        "      <td> 0.925926</td>\n",
        "      <td> 0.936709</td>\n",
        "    </tr>\n",
        "    <tr>\n",
        "      <th>MA</th>\n",
        "      <td> 0.925926</td>\n",
        "      <td> 0.936709</td>\n",
        "    </tr>\n",
        "    <tr>\n",
        "      <th>MB</th>\n",
        "      <td> 0.925926</td>\n",
        "      <td> 0.924051</td>\n",
        "    </tr>\n",
        "    <tr>\n",
        "      <th>MC</th>\n",
        "      <td> 0.925926</td>\n",
        "      <td> 0.936709</td>\n",
        "    </tr>\n",
        "    <tr>\n",
        "      <th>MD</th>\n",
        "      <td> 0.925926</td>\n",
        "      <td> 0.936709</td>\n",
        "    </tr>\n",
        "    <tr>\n",
        "      <th>ME</th>\n",
        "      <td> 0.925926</td>\n",
        "      <td> 0.936709</td>\n",
        "    </tr>\n",
        "  </tbody>\n",
        "</table>\n",
        "<p>19 rows \u00d7 2 columns</p>\n",
        "</div>"
       ],
       "metadata": {},
       "output_type": "pyout",
       "prompt_number": 9,
       "text": [
        "      Test Scores  Train Scores\n",
        "Chi1     0.481481      0.493671\n",
        "Chi2     0.962963      0.911392\n",
        "RBF      0.962963      0.898734\n",
        "K0       0.925926      0.936709\n",
        "K1       0.925926      0.936709\n",
        "K2       0.888889      0.873418\n",
        "ELK      0.481481      0.506329\n",
        "M3       0.925926      0.936709\n",
        "M4       0.925926      0.911392\n",
        "M5       0.925926      0.936709\n",
        "M6       0.925926      0.924051\n",
        "M7       0.925926      0.936709\n",
        "M8       0.925926      0.924051\n",
        "M9       0.925926      0.936709\n",
        "MA       0.925926      0.936709\n",
        "MB       0.925926      0.924051\n",
        "MC       0.925926      0.936709\n",
        "MD       0.925926      0.936709\n",
        "ME       0.925926      0.936709\n",
        "\n",
        "[19 rows x 2 columns]"
       ]
      },
      {
       "metadata": {},
       "output_type": "display_data",
       "png": "[encoded data removed]",
       "text": [
        "<matplotlib.figure.Figure at 0x7f800ad57f98>"
       ]
      }
     ],
     "prompt_number": 9
    },
    {
     "cell_type": "code",
     "collapsed": false,
     "input": [],
     "language": "python",
     "metadata": {},
     "outputs": []
    }
   ],
   "metadata": {}
  }
 ]
}