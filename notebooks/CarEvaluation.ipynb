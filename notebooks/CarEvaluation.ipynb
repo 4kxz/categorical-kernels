{
 "metadata": {
  "name": ""
 },
 "nbformat": 3,
 "nbformat_minor": 0,
 "worksheets": [
  {
   "cells": [
    {
     "cell_type": "heading",
     "level": 1,
     "metadata": {},
     "source": [
      "Car Evaluation Dataset"
     ]
    },
    {
     "cell_type": "code",
     "collapsed": false,
     "input": [
      "from sklearn import svm\n",
      "from sklearn import cross_validation as cv\n",
      "\n",
      "from kcat.datasets import CarEvaluation\n",
      "from kcat.kernels import helpers as kh\n",
      "from kcat.kernels import search as ks\n",
      "from kcat.utils import get_pgen"
     ],
     "language": "python",
     "metadata": {},
     "outputs": [],
     "prompt_number": 1
    },
    {
     "cell_type": "heading",
     "level": 2,
     "metadata": {},
     "source": [
      "Loading the dataset"
     ]
    },
    {
     "cell_type": "code",
     "collapsed": false,
     "input": [
      "# Generate a dataset\n",
      "data = CarEvaluation()\n",
      "\n",
      "# Split train and test\n",
      "X_train, X_test, y_train, y_test = data.train_test_split(test_size=256, train_size=256, random_state=0)\n",
      "\n",
      "# Cross-validation\n",
      "cvf = cv.StratifiedKFold(y_train, 8)"
     ],
     "language": "python",
     "metadata": {},
     "outputs": [],
     "prompt_number": 2
    },
    {
     "cell_type": "code",
     "collapsed": false,
     "input": [
      "model = kh.RBF()\n",
      "best_fit = model.train(cvf, X_train, y_train)\n",
      "results = model.test(best_fit, X_test, y_test)\n",
      "print(results['train_score'])\n",
      "print(results['test_score'])"
     ],
     "language": "python",
     "metadata": {},
     "outputs": [
      {
       "output_type": "stream",
       "stream": "stdout",
       "text": [
        "0.928\n",
        "0.94\n"
       ]
      }
     ],
     "prompt_number": 3
    },
    {
     "cell_type": "code",
     "collapsed": false,
     "input": [
      "model = kh.K0()\n",
      "best_fit = model.train(cvf, X_train, y_train)\n",
      "results = model.test(best_fit, X_test, y_test)\n",
      "print(results['train_score'])\n",
      "print(results['test_score'])"
     ],
     "language": "python",
     "metadata": {},
     "outputs": [
      {
       "output_type": "stream",
       "stream": "stdout",
       "text": [
        "0.924\n",
        "0.936\n"
       ]
      }
     ],
     "prompt_number": 4
    },
    {
     "cell_type": "code",
     "collapsed": false,
     "input": [
      "model = kh.K1()\n",
      "best_fit = model.train(cvf, X_train, y_train)\n",
      "results = model.test(best_fit, X_test, y_test)\n",
      "print(results['train_score'])\n",
      "print(results['test_score'])"
     ],
     "language": "python",
     "metadata": {},
     "outputs": [
      {
       "output_type": "stream",
       "stream": "stdout",
       "text": [
        "0.924\n",
        "0.936\n"
       ]
      }
     ],
     "prompt_number": 6
    },
    {
     "cell_type": "code",
     "collapsed": false,
     "input": [
      "model = kh.K2()\n",
      "best_fit = model.train(cvf, X_train, y_train)\n",
      "results = model.test(best_fit, X_test, y_test)\n",
      "print(results['train_score'])\n",
      "print(results['test_score'])"
     ],
     "language": "python",
     "metadata": {},
     "outputs": [
      {
       "output_type": "stream",
       "stream": "stdout",
       "text": [
        "0.924\n",
        "0.944\n"
       ]
      }
     ],
     "prompt_number": 6
    },
    {
     "cell_type": "code",
     "collapsed": false,
     "input": [
      "model = kh.M1()\n",
      "best_fit = model.train(cvf, X_train, y_train)\n",
      "results = model.test(best_fit, X_test, y_test)\n",
      "print(results['train_score'])\n",
      "print(results['test_score'])"
     ],
     "language": "python",
     "metadata": {},
     "outputs": [
      {
       "output_type": "stream",
       "stream": "stdout",
       "text": [
        "0.912\n",
        "0.916\n"
       ]
      }
     ],
     "prompt_number": 7
    },
    {
     "cell_type": "code",
     "collapsed": false,
     "input": [
      "model = kh.M2()\n",
      "best_fit = model.train(cvf, X_train, y_train)\n",
      "results = model.test(best_fit, X_test, y_test)\n",
      "print(results['train_score'])\n",
      "print(results['test_score'])"
     ],
     "language": "python",
     "metadata": {},
     "outputs": [
      {
       "output_type": "stream",
       "stream": "stdout",
       "text": [
        "0.912\n",
        "0.924\n"
       ]
      }
     ],
     "prompt_number": 8
    },
    {
     "cell_type": "code",
     "collapsed": false,
     "input": [
      "model = kh.M3()\n",
      "best_fit = model.train(cvf, X_train, y_train)\n",
      "results = model.test(best_fit, X_test, y_test)\n",
      "print(results['train_score'])\n",
      "print(results['test_score'])"
     ],
     "language": "python",
     "metadata": {},
     "outputs": [
      {
       "output_type": "stream",
       "stream": "stdout",
       "text": [
        "0.94\n",
        "0.936\n"
       ]
      }
     ],
     "prompt_number": 9
    },
    {
     "cell_type": "code",
     "collapsed": false,
     "input": [
      "model = kh.M4()\n",
      "best_fit = model.train(cvf, X_train, y_train)\n",
      "results = model.test(best_fit, X_test, y_test)\n",
      "print(results['train_score'])\n",
      "print(results['test_score'])"
     ],
     "language": "python",
     "metadata": {},
     "outputs": [
      {
       "output_type": "stream",
       "stream": "stdout",
       "text": [
        "0.936\n",
        "0.94\n"
       ]
      }
     ],
     "prompt_number": 10
    },
    {
     "cell_type": "code",
     "collapsed": false,
     "input": [],
     "language": "python",
     "metadata": {},
     "outputs": [],
     "prompt_number": 10
    }
   ],
   "metadata": {}
  }
 ]
}