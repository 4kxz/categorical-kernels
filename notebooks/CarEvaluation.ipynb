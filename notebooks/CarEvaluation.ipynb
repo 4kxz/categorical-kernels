{
 "metadata": {
  "name": "",
  "signature": "sha256:4b113a7e7ea9760a3ba79dcdd5487a1e83256a4bfd2770e1e7dcfce151d2a09c"
 },
 "nbformat": 3,
 "nbformat_minor": 0,
 "worksheets": [
  {
   "cells": [
    {
     "cell_type": "heading",
     "level": 1,
     "metadata": {},
     "source": [
      "Car Evaluation Dataset"
     ]
    },
    {
     "cell_type": "code",
     "collapsed": false,
     "input": [
      "import pandas as pd\n",
      "from sklearn import cross_validation as cv\n",
      "from kcat.datasets import CarEvaluation\n",
      "from kcat.kernels import helpers"
     ],
     "language": "python",
     "metadata": {},
     "outputs": [],
     "prompt_number": 1
    },
    {
     "cell_type": "heading",
     "level": 2,
     "metadata": {},
     "source": [
      "Loading the dataset"
     ]
    },
    {
     "cell_type": "code",
     "collapsed": false,
     "input": [
      "# Generate a dataset\n",
      "data = CarEvaluation()\n",
      "\n",
      "# Split train and test\n",
      "X_train, X_test, y_train, y_test = data.train_test_split(train_size=300, test_size=500, random_state=0)\n",
      "\n",
      "# Some classes have few members, so we only do 8-fold stratified cross-validation\n",
      "cvf = cv.StratifiedKFold(y_train, 8)"
     ],
     "language": "python",
     "metadata": {},
     "outputs": [],
     "prompt_number": 2
    },
    {
     "cell_type": "code",
     "collapsed": false,
     "input": [
      "kernel_names, train_scores, test_scores = [], [], []\n",
      "for model_class in helpers.DEFAULT_MODELS:\n",
      "    model = model_class()\n",
      "    print(model.name, end=', ')\n",
      "    best_fit = model.train(cvf, X_train, y_train)\n",
      "    results = model.test(best_fit, X_test, y_test)\n",
      "    kernel_names.append(model.name)\n",
      "    train_scores.append(results['train_score'])\n",
      "    test_scores.append(results['test_score'])"
     ],
     "language": "python",
     "metadata": {},
     "outputs": [
      {
       "output_type": "stream",
       "stream": "stdout",
       "text": [
        "RBF, K0"
       ]
      },
      {
       "output_type": "stream",
       "stream": "stdout",
       "text": [
        ", K1"
       ]
      },
      {
       "output_type": "stream",
       "stream": "stdout",
       "text": [
        ", K2"
       ]
      },
      {
       "output_type": "stream",
       "stream": "stdout",
       "text": [
        ", ELK"
       ]
      },
      {
       "output_type": "stream",
       "stream": "stdout",
       "text": [
        ", M3"
       ]
      },
      {
       "output_type": "stream",
       "stream": "stdout",
       "text": [
        ", M4"
       ]
      },
      {
       "output_type": "stream",
       "stream": "stdout",
       "text": [
        ", M5"
       ]
      },
      {
       "output_type": "stream",
       "stream": "stdout",
       "text": [
        ", M6"
       ]
      },
      {
       "output_type": "stream",
       "stream": "stdout",
       "text": [
        ", M7"
       ]
      },
      {
       "output_type": "stream",
       "stream": "stdout",
       "text": [
        ", M8"
       ]
      },
      {
       "output_type": "stream",
       "stream": "stdout",
       "text": [
        ", M9"
       ]
      },
      {
       "output_type": "stream",
       "stream": "stdout",
       "text": [
        ", MA"
       ]
      },
      {
       "output_type": "stream",
       "stream": "stdout",
       "text": [
        ", MB"
       ]
      },
      {
       "output_type": "stream",
       "stream": "stdout",
       "text": [
        ", MC"
       ]
      },
      {
       "output_type": "stream",
       "stream": "stdout",
       "text": [
        ", MD"
       ]
      },
      {
       "output_type": "stream",
       "stream": "stdout",
       "text": [
        ", ME"
       ]
      },
      {
       "output_type": "stream",
       "stream": "stdout",
       "text": [
        ", "
       ]
      }
     ],
     "prompt_number": 15
    },
    {
     "cell_type": "code",
     "collapsed": false,
     "input": [
      "data = {'Train Scores': train_scores, 'Test Scores': test_scores}\n",
      "df = pd.DataFrame(data=data, index=kernel_names)\n",
      "df"
     ],
     "language": "python",
     "metadata": {},
     "outputs": [
      {
       "html": [
        "<div style=\"max-height:1000px;max-width:1500px;overflow:auto;\">\n",
        "<table border=\"1\" class=\"dataframe\">\n",
        "  <thead>\n",
        "    <tr style=\"text-align: right;\">\n",
        "      <th></th>\n",
        "      <th>Test Scores</th>\n",
        "      <th>Train Scores</th>\n",
        "    </tr>\n",
        "  </thead>\n",
        "  <tbody>\n",
        "    <tr>\n",
        "      <th>RBF</th>\n",
        "      <td> 0.930</td>\n",
        "      <td> 0.936667</td>\n",
        "    </tr>\n",
        "    <tr>\n",
        "      <th>K0</th>\n",
        "      <td> 0.940</td>\n",
        "      <td> 0.930000</td>\n",
        "    </tr>\n",
        "    <tr>\n",
        "      <th>K1</th>\n",
        "      <td> 0.936</td>\n",
        "      <td> 0.940000</td>\n",
        "    </tr>\n",
        "    <tr>\n",
        "      <th>K2</th>\n",
        "      <td> 0.946</td>\n",
        "      <td> 0.943333</td>\n",
        "    </tr>\n",
        "    <tr>\n",
        "      <th>ELK</th>\n",
        "      <td> 0.932</td>\n",
        "      <td> 0.910000</td>\n",
        "    </tr>\n",
        "    <tr>\n",
        "      <th>M3</th>\n",
        "      <td> 0.944</td>\n",
        "      <td> 0.933333</td>\n",
        "    </tr>\n",
        "    <tr>\n",
        "      <th>M4</th>\n",
        "      <td> 0.934</td>\n",
        "      <td> 0.936667</td>\n",
        "    </tr>\n",
        "    <tr>\n",
        "      <th>M5</th>\n",
        "      <td> 0.936</td>\n",
        "      <td> 0.940000</td>\n",
        "    </tr>\n",
        "    <tr>\n",
        "      <th>M6</th>\n",
        "      <td> 0.930</td>\n",
        "      <td> 0.936667</td>\n",
        "    </tr>\n",
        "    <tr>\n",
        "      <th>M7</th>\n",
        "      <td> 0.944</td>\n",
        "      <td> 0.943333</td>\n",
        "    </tr>\n",
        "    <tr>\n",
        "      <th>M8</th>\n",
        "      <td> 0.928</td>\n",
        "      <td> 0.940000</td>\n",
        "    </tr>\n",
        "    <tr>\n",
        "      <th>M9</th>\n",
        "      <td> 0.942</td>\n",
        "      <td> 0.940000</td>\n",
        "    </tr>\n",
        "    <tr>\n",
        "      <th>MA</th>\n",
        "      <td> 0.944</td>\n",
        "      <td> 0.943333</td>\n",
        "    </tr>\n",
        "    <tr>\n",
        "      <th>MB</th>\n",
        "      <td> 0.938</td>\n",
        "      <td> 0.943333</td>\n",
        "    </tr>\n",
        "    <tr>\n",
        "      <th>MC</th>\n",
        "      <td> 0.944</td>\n",
        "      <td> 0.943333</td>\n",
        "    </tr>\n",
        "    <tr>\n",
        "      <th>MD</th>\n",
        "      <td> 0.936</td>\n",
        "      <td> 0.936667</td>\n",
        "    </tr>\n",
        "    <tr>\n",
        "      <th>ME</th>\n",
        "      <td> 0.940</td>\n",
        "      <td> 0.940000</td>\n",
        "    </tr>\n",
        "  </tbody>\n",
        "</table>\n",
        "<p>17 rows \u00d7 2 columns</p>\n",
        "</div>"
       ],
       "metadata": {},
       "output_type": "pyout",
       "prompt_number": 16,
       "text": [
        "     Test Scores  Train Scores\n",
        "RBF        0.930      0.936667\n",
        "K0         0.940      0.930000\n",
        "K1         0.936      0.940000\n",
        "K2         0.946      0.943333\n",
        "ELK        0.932      0.910000\n",
        "M3         0.944      0.933333\n",
        "M4         0.934      0.936667\n",
        "M5         0.936      0.940000\n",
        "M6         0.930      0.936667\n",
        "M7         0.944      0.943333\n",
        "M8         0.928      0.940000\n",
        "M9         0.942      0.940000\n",
        "MA         0.944      0.943333\n",
        "MB         0.938      0.943333\n",
        "MC         0.944      0.943333\n",
        "MD         0.936      0.936667\n",
        "ME         0.940      0.940000\n",
        "\n",
        "[17 rows x 2 columns]"
       ]
      }
     ],
     "prompt_number": 16
    },
    {
     "cell_type": "code",
     "collapsed": false,
     "input": [
      "df.plot(kind='bar', ylim=(0.92, 0.96))"
     ],
     "language": "python",
     "metadata": {},
     "outputs": [
      {
       "metadata": {},
       "output_type": "pyout",
       "prompt_number": 23,
       "text": [
        "<matplotlib.axes.AxesSubplot at 0x7fe7b0a6f710>"
       ]
      },
      {
       "metadata": {},
       "output_type": "display_data",
       "png": "[encoded data removed]",
       "text": [
        "<matplotlib.figure.Figure at 0x7fe7b0a96c50>"
       ]
      }
     ],
     "prompt_number": 23
    },
    {
     "cell_type": "code",
     "collapsed": false,
     "input": [],
     "language": "python",
     "metadata": {},
     "outputs": [],
     "prompt_number": 17
    }
   ],
   "metadata": {}
  }
 ]
}