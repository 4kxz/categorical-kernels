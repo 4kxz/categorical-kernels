{
 "metadata": {
  "name": "",
  "signature": "sha256:da5cdedc6db27151a085ee7ee298512c53dff615f407e49ab737ffbf6223a9ac"
 },
 "nbformat": 3,
 "nbformat_minor": 0,
 "worksheets": [
  {
   "cells": [
    {
     "cell_type": "heading",
     "level": 1,
     "metadata": {},
     "source": [
      "Congressional Voting Dataset"
     ]
    },
    {
     "cell_type": "code",
     "collapsed": false,
     "input": [
      "from sklearn import svm\n",
      "from sklearn import cross_validation as cv\n",
      "import pandas as pd\n",
      "\n",
      "plt.style.use('ggplot')\n",
      "\n",
      "from kcat.datasets import CongressionalVoting\n",
      "from kcat.kernels import helpers as kh\n",
      "from kcat.kernels import search as ks"
     ],
     "language": "python",
     "metadata": {},
     "outputs": [],
     "prompt_number": 1
    },
    {
     "cell_type": "code",
     "collapsed": false,
     "input": [
      "# Load the dataset\n",
      "dataset = CongressionalVoting()"
     ],
     "language": "python",
     "metadata": {},
     "outputs": [],
     "prompt_number": 2
    },
    {
     "cell_type": "code",
     "collapsed": false,
     "input": [
      "data = {'Kernel': [], 'Test Error': []}\n",
      "for i in range(5):\n",
      "    print(\"Iteration {}\".format(i))\n",
      "    # Split train and test\n",
      "    X_train, X_test, y_train, y_test = dataset.train_test_split(test_size=0.33, random_state=i)\n",
      "    # Cross-validation\n",
      "    cvf = cv.StratifiedKFold(y_train, 10)\n",
      "    # Evaluate models\n",
      "    for model_class in kh.RBF, kh.K0, kh.K1, kh.M3, kh.M4, kh.M5, kh.M6, kh.M7, kh.M9, kh.MC, kh.MD, kh.ME:\n",
      "        model = model_class()\n",
      "        print(model.name, end=', ')\n",
      "        best_fit = model.train(cvf, X_train, y_train)\n",
      "        results = model.test(best_fit, X_test, y_test)\n",
      "        data['Kernel'].append(model.name)\n",
      "        data['Test Error'].append(1 - results['test_score'])\n",
      "    print()"
     ],
     "language": "python",
     "metadata": {},
     "outputs": [
      {
       "output_type": "stream",
       "stream": "stdout",
       "text": [
        "Iteration 0\n",
        "RBF, "
       ]
      },
      {
       "output_type": "stream",
       "stream": "stdout",
       "text": [
        "K0, "
       ]
      },
      {
       "output_type": "stream",
       "stream": "stdout",
       "text": [
        "K1, "
       ]
      },
      {
       "output_type": "stream",
       "stream": "stdout",
       "text": [
        "M3, "
       ]
      },
      {
       "output_type": "stream",
       "stream": "stdout",
       "text": [
        "M4, "
       ]
      },
      {
       "output_type": "stream",
       "stream": "stdout",
       "text": [
        "M5, "
       ]
      },
      {
       "output_type": "stream",
       "stream": "stdout",
       "text": [
        "M6, "
       ]
      },
      {
       "output_type": "stream",
       "stream": "stdout",
       "text": [
        "M7, "
       ]
      },
      {
       "output_type": "stream",
       "stream": "stdout",
       "text": [
        "M9, "
       ]
      },
      {
       "output_type": "stream",
       "stream": "stdout",
       "text": [
        "MC, "
       ]
      },
      {
       "output_type": "stream",
       "stream": "stdout",
       "text": [
        "MD, "
       ]
      },
      {
       "output_type": "stream",
       "stream": "stdout",
       "text": [
        "ME, "
       ]
      },
      {
       "output_type": "stream",
       "stream": "stdout",
       "text": [
        "\n",
        "Iteration 1\n",
        "RBF, "
       ]
      },
      {
       "output_type": "stream",
       "stream": "stdout",
       "text": [
        "K0, "
       ]
      },
      {
       "output_type": "stream",
       "stream": "stdout",
       "text": [
        "K1, "
       ]
      },
      {
       "output_type": "stream",
       "stream": "stdout",
       "text": [
        "M3, "
       ]
      },
      {
       "output_type": "stream",
       "stream": "stdout",
       "text": [
        "M4, "
       ]
      },
      {
       "output_type": "stream",
       "stream": "stdout",
       "text": [
        "M5, "
       ]
      },
      {
       "output_type": "stream",
       "stream": "stdout",
       "text": [
        "M6, "
       ]
      },
      {
       "output_type": "stream",
       "stream": "stdout",
       "text": [
        "M7, "
       ]
      },
      {
       "output_type": "stream",
       "stream": "stdout",
       "text": [
        "M9, "
       ]
      },
      {
       "output_type": "stream",
       "stream": "stdout",
       "text": [
        "MC, "
       ]
      },
      {
       "output_type": "stream",
       "stream": "stdout",
       "text": [
        "MD, "
       ]
      },
      {
       "output_type": "stream",
       "stream": "stdout",
       "text": [
        "ME, "
       ]
      },
      {
       "output_type": "stream",
       "stream": "stdout",
       "text": [
        "\n",
        "Iteration 2\n",
        "RBF, "
       ]
      },
      {
       "output_type": "stream",
       "stream": "stdout",
       "text": [
        "K0, "
       ]
      },
      {
       "output_type": "stream",
       "stream": "stdout",
       "text": [
        "K1, "
       ]
      },
      {
       "output_type": "stream",
       "stream": "stdout",
       "text": [
        "M3, "
       ]
      },
      {
       "output_type": "stream",
       "stream": "stdout",
       "text": [
        "M4, "
       ]
      },
      {
       "output_type": "stream",
       "stream": "stdout",
       "text": [
        "M5, "
       ]
      },
      {
       "output_type": "stream",
       "stream": "stdout",
       "text": [
        "M6, "
       ]
      },
      {
       "output_type": "stream",
       "stream": "stdout",
       "text": [
        "M7, "
       ]
      },
      {
       "output_type": "stream",
       "stream": "stdout",
       "text": [
        "M9, "
       ]
      },
      {
       "output_type": "stream",
       "stream": "stdout",
       "text": [
        "MC, "
       ]
      },
      {
       "output_type": "stream",
       "stream": "stdout",
       "text": [
        "MD, "
       ]
      },
      {
       "output_type": "stream",
       "stream": "stdout",
       "text": [
        "ME, "
       ]
      },
      {
       "output_type": "stream",
       "stream": "stdout",
       "text": [
        "\n",
        "Iteration 3\n",
        "RBF, "
       ]
      },
      {
       "output_type": "stream",
       "stream": "stdout",
       "text": [
        "K0, "
       ]
      },
      {
       "output_type": "stream",
       "stream": "stdout",
       "text": [
        "K1, "
       ]
      },
      {
       "output_type": "stream",
       "stream": "stdout",
       "text": [
        "M3, "
       ]
      },
      {
       "output_type": "stream",
       "stream": "stdout",
       "text": [
        "M4, "
       ]
      },
      {
       "output_type": "stream",
       "stream": "stdout",
       "text": [
        "M5, "
       ]
      },
      {
       "output_type": "stream",
       "stream": "stdout",
       "text": [
        "M6, "
       ]
      },
      {
       "output_type": "stream",
       "stream": "stdout",
       "text": [
        "M7, "
       ]
      },
      {
       "output_type": "stream",
       "stream": "stdout",
       "text": [
        "M9, "
       ]
      },
      {
       "output_type": "stream",
       "stream": "stdout",
       "text": [
        "MC, "
       ]
      },
      {
       "output_type": "stream",
       "stream": "stdout",
       "text": [
        "MD, "
       ]
      },
      {
       "output_type": "stream",
       "stream": "stdout",
       "text": [
        "ME, "
       ]
      },
      {
       "output_type": "stream",
       "stream": "stdout",
       "text": [
        "\n",
        "Iteration 4\n",
        "RBF, "
       ]
      },
      {
       "output_type": "stream",
       "stream": "stdout",
       "text": [
        "K0, "
       ]
      },
      {
       "output_type": "stream",
       "stream": "stdout",
       "text": [
        "K1, "
       ]
      },
      {
       "output_type": "stream",
       "stream": "stdout",
       "text": [
        "M3, "
       ]
      },
      {
       "output_type": "stream",
       "stream": "stdout",
       "text": [
        "M4, "
       ]
      },
      {
       "output_type": "stream",
       "stream": "stdout",
       "text": [
        "M5, "
       ]
      },
      {
       "output_type": "stream",
       "stream": "stdout",
       "text": [
        "M6, "
       ]
      },
      {
       "output_type": "stream",
       "stream": "stdout",
       "text": [
        "M7, "
       ]
      },
      {
       "output_type": "stream",
       "stream": "stdout",
       "text": [
        "M9, "
       ]
      },
      {
       "output_type": "stream",
       "stream": "stdout",
       "text": [
        "MC, "
       ]
      },
      {
       "output_type": "stream",
       "stream": "stdout",
       "text": [
        "MD, "
       ]
      },
      {
       "output_type": "stream",
       "stream": "stdout",
       "text": [
        "ME, "
       ]
      },
      {
       "output_type": "stream",
       "stream": "stdout",
       "text": [
        "\n"
       ]
      }
     ],
     "prompt_number": 3
    },
    {
     "cell_type": "code",
     "collapsed": false,
     "input": [
      "df = pd.DataFrame(data=data)\n",
      "df.groupby('Kernel')['Test Error'].mean()"
     ],
     "language": "python",
     "metadata": {},
     "outputs": [
      {
       "metadata": {},
       "output_type": "pyout",
       "prompt_number": 4,
       "text": [
        "Kernel\n",
        "K0        0.037500\n",
        "K1        0.043056\n",
        "M3        0.051389\n",
        "M4        0.043056\n",
        "M5        0.048611\n",
        "M6        0.038889\n",
        "M7        0.044444\n",
        "M9        0.040278\n",
        "MC        0.044444\n",
        "MD        0.043056\n",
        "ME        0.040278\n",
        "RBF       0.029167\n",
        "Name: Test Error, dtype: float64"
       ]
      }
     ],
     "prompt_number": 4
    },
    {
     "cell_type": "code",
     "collapsed": false,
     "input": [
      "df.boxplot(by='Kernel');"
     ],
     "language": "python",
     "metadata": {},
     "outputs": [
      {
       "metadata": {},
       "output_type": "display_data",
       "png": "[encoded data removed]",
       "text": [
        "<matplotlib.figure.Figure at 0x7fc9bcb18b38>"
       ]
      }
     ],
     "prompt_number": 5
    }
   ],
   "metadata": {}
  }
 ]
}