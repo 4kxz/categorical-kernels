{
 "metadata": {
  "name": "",
  "signature": "sha256:0bd18edc15a2cd05182045673277ef00f3704125b5ef30e42a66f1d26b05f264"
 },
 "nbformat": 3,
 "nbformat_minor": 0,
 "worksheets": [
  {
   "cells": [
    {
     "cell_type": "code",
     "collapsed": false,
     "input": [
      "import time\n",
      "\n",
      "from sklearn import svm\n",
      "from sklearn import cross_validation as cv\n",
      "\n",
      "from kcat import datasets as ds\n",
      "from kcat.kernels import functions as fn\n",
      "from kcat.utils import pgen"
     ],
     "language": "python",
     "metadata": {},
     "outputs": [],
     "prompt_number": 1
    },
    {
     "cell_type": "code",
     "collapsed": false,
     "input": [
      "X, Y, y = ds.Synthetic(1000, 25).data_arrays\n",
      "Xpgen = pgen(X)\n",
      "Xp = Xpgen(X)"
     ],
     "language": "python",
     "metadata": {},
     "outputs": [],
     "prompt_number": 2
    },
    {
     "cell_type": "code",
     "collapsed": false,
     "input": [
      "# Test kernel k0:\n",
      "clf = svm.SVC(kernel='precomputed')\n",
      "t0 = time.time()\n",
      "gram = fn.k0(Y, Y)\n",
      "print(\"Execution time: {:0.3f} s\".format(time.time() - t0))\n",
      "scores = cv.cross_val_score(clf, gram, y, cv=2)\n",
      "print(\"Mean score: {:0.3f}\".format(scores.mean()))"
     ],
     "language": "python",
     "metadata": {},
     "outputs": [
      {
       "output_type": "stream",
       "stream": "stdout",
       "text": [
        "Execution time: 0.402 s\n",
        "Mean score: 0.956\n"
       ]
      }
     ],
     "prompt_number": 3
    },
    {
     "cell_type": "code",
     "collapsed": false,
     "input": [
      "# Test kernel k1:\n",
      "clf = svm.SVC(kernel='precomputed')\n",
      "t0 = time.time()\n",
      "gram = fn.k1(X, X, Xp, Xp)\n",
      "print(\"Execution time: {:0.3f} s\".format(time.time() - t0))\n",
      "scores = cv.cross_val_score(clf, gram, y, cv=2)\n",
      "print(\"Mean score: {:0.3f}\".format(scores.mean()))"
     ],
     "language": "python",
     "metadata": {},
     "outputs": [
      {
       "output_type": "stream",
       "stream": "stdout",
       "text": [
        "Execution time: 0.124 s\n",
        "Mean score: 0.966\n"
       ]
      }
     ],
     "prompt_number": 5
    },
    {
     "cell_type": "code",
     "collapsed": false,
     "input": [
      "# Test kernel k2:\n",
      "clf = svm.SVC(kernel='precomputed')\n",
      "t0 = time.time()\n",
      "gram = fn.k2(X, X, Xp, Xp)\n",
      "print(\"Execution time: {:0.3f} s\".format(time.time() - t0))\n",
      "scores = cv.cross_val_score(clf, gram, y, cv=2)\n",
      "print(\"Mean score: {:0.3f}\".format(scores.mean()))"
     ],
     "language": "python",
     "metadata": {},
     "outputs": [
      {
       "output_type": "stream",
       "stream": "stdout",
       "text": [
        "Execution time: 0.168 s\n",
        "Mean score: 0.972\n"
       ]
      }
     ],
     "prompt_number": 6
    },
    {
     "cell_type": "code",
     "collapsed": false,
     "input": [
      "# Test kernel m1:\n",
      "clf = svm.SVC(kernel='precomputed')\n",
      "t0 = time.time()\n",
      "gram = fn.m3(X, X, Xp, Xp, alpha=1.5**-4, prev='f1', post='ident', gamma=2**-2)\n",
      "print(\"Execution time: {:0.3f} s\".format(time.time() - t0))\n",
      "scores = cv.cross_val_score(clf, gram, y, cv=2)\n",
      "print(\"Mean score: {:0.3f}\".format(scores.mean()))"
     ],
     "language": "python",
     "metadata": {},
     "outputs": [
      {
       "output_type": "stream",
       "stream": "stdout",
       "text": [
        "Execution time: 1.359 s\n",
        "Mean score: 0.381\n"
       ]
      }
     ],
     "prompt_number": 8
    },
    {
     "cell_type": "code",
     "collapsed": false,
     "input": [],
     "language": "python",
     "metadata": {},
     "outputs": [],
     "prompt_number": 6
    }
   ],
   "metadata": {}
  }
 ]
}