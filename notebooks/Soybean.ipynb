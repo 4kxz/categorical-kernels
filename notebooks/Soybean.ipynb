{
 "metadata": {
  "name": ""
 },
 "nbformat": 3,
 "nbformat_minor": 0,
 "worksheets": [
  {
   "cells": [
    {
     "cell_type": "heading",
     "level": 1,
     "metadata": {},
     "source": [
      "Soybean"
     ]
    },
    {
     "cell_type": "code",
     "collapsed": false,
     "input": [
      "from pprint import pprint\n",
      "from sklearn import svm\n",
      "from sklearn import cross_validation as cv\n",
      "\n",
      "from kcat.datasets import soybean\n",
      "from kcat.kernels import models as md\n",
      "from kcat.kernels import grid_search as gs\n",
      "from kcat.utils import get_pgen"
     ],
     "language": "python",
     "metadata": {},
     "outputs": [],
     "prompt_number": 1
    },
    {
     "cell_type": "heading",
     "level": 1,
     "metadata": {},
     "source": [
      "Loading the dataset"
     ]
    },
    {
     "cell_type": "code",
     "collapsed": false,
     "input": [
      "# Generate a dataset\n",
      "X, y, encoder = soybean()\n",
      "Xb = encoder(X)\n",
      "\n",
      "# Split train and test\n",
      "X_train, X_test, y_train, y_test = cv.train_test_split(X, y, test_size=0.5, random_state=0)\n",
      "Xb_train, Xb_test, y_train, y_test = cv.train_test_split(Xb, y, test_size=0.5, random_state=0)\n",
      "\n",
      "# Some kernels need this\n",
      "pgen = get_pgen(X_train)\n",
      "\n",
      "# Cross-validation\n",
      "cvf = cv.StratifiedKFold(y_train, 5)"
     ],
     "language": "python",
     "metadata": {},
     "outputs": [],
     "prompt_number": 2
    },
    {
     "cell_type": "heading",
     "level": 2,
     "metadata": {},
     "source": [
      "RBF"
     ]
    },
    {
     "cell_type": "code",
     "collapsed": false,
     "input": [
      "rbf = md.RBF.evaluate(cvf, Xb_train, y_train, Xb_test, y_test)\n",
      "pprint(rbf)"
     ],
     "language": "python",
     "metadata": {},
     "outputs": [
      {
       "output_type": "stream",
       "stream": "stdout",
       "text": [
        "{'best_parameters': {'C': 10.0, 'gamma': 0.015625},\n",
        " 'test_score': 0.93968253968253967,\n",
        " 'train_score': 0.92063492063492058}\n"
       ]
      }
     ],
     "prompt_number": 3
    },
    {
     "cell_type": "heading",
     "level": 2,
     "metadata": {},
     "source": [
      "K0"
     ]
    },
    {
     "cell_type": "code",
     "collapsed": false,
     "input": [
      "k0 = md.K0.evaluate(cvf, X_train, y_train, X_test, y_test)\n",
      "pprint(k0)"
     ],
     "language": "python",
     "metadata": {},
     "outputs": [
      {
       "output_type": "stream",
       "stream": "stdout",
       "text": [
        "{'best_parameters': {'C': 100.0, 'gamma': 1.0, 'post': 'f1', 'prev': 'ident'},\n",
        " 'test_score': 0.9015873015873016,\n",
        " 'train_score': 0.91111111111111109}\n"
       ]
      }
     ],
     "prompt_number": 4
    },
    {
     "cell_type": "heading",
     "level": 2,
     "metadata": {},
     "source": [
      "K1"
     ]
    },
    {
     "cell_type": "code",
     "collapsed": false,
     "input": [
      "k1 = md.K1.evaluate(cvf, X_train, y_train, X_test, y_test, pgen=pgen)\n",
      "pprint(k1)"
     ],
     "language": "python",
     "metadata": {},
     "outputs": [
      {
       "output_type": "stream",
       "stream": "stdout",
       "text": [
        "{'best_parameters': {'C': 100.0,\n",
        "                     'alpha': 0.44444444444444442,\n",
        "                     'gamma': 4.0,\n",
        "                     'post': 'ident',\n",
        "                     'prev': 'f1'},\n",
        " 'test_score': 0.91111111111111109,\n",
        " 'train_score': 0.93015873015873018}\n"
       ]
      }
     ],
     "prompt_number": 5
    },
    {
     "cell_type": "heading",
     "level": 2,
     "metadata": {},
     "source": [
      "K2"
     ]
    },
    {
     "cell_type": "code",
     "collapsed": false,
     "input": [
      "k2 = md.K2.evaluate(cvf, X_train, y_train, X_test, y_test, pgen=pgen)\n",
      "pprint(k2)"
     ],
     "language": "python",
     "metadata": {},
     "outputs": [
      {
       "output_type": "stream",
       "stream": "stdout",
       "text": [
        "{'best_parameters': {'C': 10.0, 'gamma': 0.125, 'post': 'f1', 'prev': 'ident'},\n",
        " 'test_score': 0.91428571428571426,\n",
        " 'train_score': 0.91746031746031742}\n"
       ]
      }
     ],
     "prompt_number": 6
    },
    {
     "cell_type": "code",
     "collapsed": false,
     "input": [],
     "language": "python",
     "metadata": {},
     "outputs": [],
     "prompt_number": 6
    }
   ],
   "metadata": {}
  }
 ]
}