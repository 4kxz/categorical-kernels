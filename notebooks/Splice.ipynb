{
 "metadata": {
  "name": ""
 },
 "nbformat": 3,
 "nbformat_minor": 0,
 "worksheets": [
  {
   "cells": [
    {
     "cell_type": "heading",
     "level": 1,
     "metadata": {},
     "source": [
      "Splice Dataset"
     ]
    },
    {
     "cell_type": "code",
     "collapsed": false,
     "input": [
      "from pprint import pprint\n",
      "from sklearn import svm\n",
      "from sklearn import cross_validation as cv\n",
      "import pandas as pd\n",
      "\n",
      "from kcat.datasets import Splice\n",
      "from kcat.kernels import helpers as kh\n",
      "from kcat.kernels import search as ks\n",
      "from kcat.utils import get_pgen"
     ],
     "language": "python",
     "metadata": {},
     "outputs": [
      {
       "output_type": "stream",
       "stream": "stderr",
       "text": [
        "/home/alkxzv/.virtualenvs/pfc/lib/python3.3/site-packages/sklearn/utils/fixes.py:63: DeprecationWarning: Implicitly casting between incompatible kinds. In a future numpy release, this will raise an error. Use casting=\"unsafe\" if this is intentional.\n",
        "  if (not np.allclose(np.divide(.4, 1), np.divide(.4, 1, dtype=np.float))\n"
       ]
      }
     ],
     "prompt_number": 1
    },
    {
     "cell_type": "heading",
     "level": 2,
     "metadata": {},
     "source": [
      "Loading the dataset"
     ]
    },
    {
     "cell_type": "code",
     "collapsed": false,
     "input": [
      "# Generate a dataset\n",
      "data = Splice()\n",
      "\n",
      "# Split train and test\n",
      "X_train, X_test, y_train, y_test = data.train_test_split(train_size=200, test_size=400)\n",
      "\n",
      "# Cross-validation\n",
      "cvf = cv.StratifiedKFold(y_train, 8)\n",
      "\n",
      "kernels, train_scores, test_scores = [], [], []"
     ],
     "language": "python",
     "metadata": {},
     "outputs": [],
     "prompt_number": 2
    },
    {
     "cell_type": "code",
     "collapsed": false,
     "input": [
      "for model_class in kh.DEFAULT_MODELS:\n",
      "    model = model_class()\n",
      "    print(\"Running {}...\".format(model.name))\n",
      "    best_fit = model.train(cvf, X_train, y_train)\n",
      "    results = model.test(best_fit, X_test, y_test)\n",
      "    kernels.append(model.name)\n",
      "    train_scores.append(results['train_score'])\n",
      "    test_scores.append(results['test_score'])"
     ],
     "language": "python",
     "metadata": {},
     "outputs": [
      {
       "output_type": "stream",
       "stream": "stdout",
       "text": [
        "Running RBF...\n",
        "Running K0..."
       ]
      },
      {
       "output_type": "stream",
       "stream": "stdout",
       "text": [
        "\n",
        "Running K1..."
       ]
      },
      {
       "output_type": "stream",
       "stream": "stdout",
       "text": [
        "\n",
        "Running K2..."
       ]
      },
      {
       "output_type": "stream",
       "stream": "stdout",
       "text": [
        "\n",
        "Running ELK..."
       ]
      },
      {
       "output_type": "stream",
       "stream": "stdout",
       "text": [
        "\n",
        "Running M3..."
       ]
      },
      {
       "output_type": "stream",
       "stream": "stdout",
       "text": [
        "\n",
        "Running M4..."
       ]
      },
      {
       "output_type": "stream",
       "stream": "stdout",
       "text": [
        "\n",
        "Running M5..."
       ]
      },
      {
       "output_type": "stream",
       "stream": "stdout",
       "text": [
        "\n",
        "Running M6..."
       ]
      },
      {
       "output_type": "stream",
       "stream": "stdout",
       "text": [
        "\n",
        "Running M7..."
       ]
      },
      {
       "output_type": "stream",
       "stream": "stdout",
       "text": [
        "\n",
        "Running M8..."
       ]
      },
      {
       "output_type": "stream",
       "stream": "stdout",
       "text": [
        "\n",
        "Running M9..."
       ]
      },
      {
       "output_type": "stream",
       "stream": "stdout",
       "text": [
        "\n",
        "Running MA..."
       ]
      },
      {
       "output_type": "stream",
       "stream": "stdout",
       "text": [
        "\n",
        "Running MB..."
       ]
      },
      {
       "output_type": "stream",
       "stream": "stdout",
       "text": [
        "\n",
        "Running MC..."
       ]
      },
      {
       "output_type": "stream",
       "stream": "stdout",
       "text": [
        "\n",
        "Running MD..."
       ]
      },
      {
       "output_type": "stream",
       "stream": "stdout",
       "text": [
        "\n",
        "Running ME..."
       ]
      },
      {
       "output_type": "stream",
       "stream": "stdout",
       "text": [
        "\n"
       ]
      }
     ],
     "prompt_number": 3
    },
    {
     "cell_type": "code",
     "collapsed": false,
     "input": [
      "data = {\n",
      "    'Train Scores': train_scores,\n",
      "    'Test Scores': test_scores,\n",
      "    }\n",
      "\n",
      "df = pd.DataFrame(data=data, index=kernels)"
     ],
     "language": "python",
     "metadata": {},
     "outputs": [
      {
       "html": [
        "<div style=\"max-height:1000px;max-width:1500px;overflow:auto;\">\n",
        "<table border=\"1\" class=\"dataframe\">\n",
        "  <thead>\n",
        "    <tr style=\"text-align: right;\">\n",
        "      <th></th>\n",
        "      <th>Test Scores</th>\n",
        "      <th>Train Scores</th>\n",
        "    </tr>\n",
        "  </thead>\n",
        "  <tbody>\n",
        "    <tr>\n",
        "      <th>RBF</th>\n",
        "      <td> 0.9475</td>\n",
        "      <td> 0.905</td>\n",
        "    </tr>\n",
        "    <tr>\n",
        "      <th>K0</th>\n",
        "      <td> 0.9375</td>\n",
        "      <td> 0.930</td>\n",
        "    </tr>\n",
        "    <tr>\n",
        "      <th>K1</th>\n",
        "      <td> 0.9325</td>\n",
        "      <td> 0.925</td>\n",
        "    </tr>\n",
        "    <tr>\n",
        "      <th>K2</th>\n",
        "      <td> 0.9175</td>\n",
        "      <td> 0.900</td>\n",
        "    </tr>\n",
        "    <tr>\n",
        "      <th>ELK</th>\n",
        "      <td> 0.5575</td>\n",
        "      <td> 0.530</td>\n",
        "    </tr>\n",
        "    <tr>\n",
        "      <th>M3</th>\n",
        "      <td> 0.9325</td>\n",
        "      <td> 0.925</td>\n",
        "    </tr>\n",
        "    <tr>\n",
        "      <th>M4</th>\n",
        "      <td> 0.9375</td>\n",
        "      <td> 0.920</td>\n",
        "    </tr>\n",
        "    <tr>\n",
        "      <th>M5</th>\n",
        "      <td> 0.9025</td>\n",
        "      <td> 0.915</td>\n",
        "    </tr>\n",
        "    <tr>\n",
        "      <th>M6</th>\n",
        "      <td> 0.8750</td>\n",
        "      <td> 0.915</td>\n",
        "    </tr>\n",
        "    <tr>\n",
        "      <th>M7</th>\n",
        "      <td> 0.9350</td>\n",
        "      <td> 0.925</td>\n",
        "    </tr>\n",
        "    <tr>\n",
        "      <th>M8</th>\n",
        "      <td> 0.9350</td>\n",
        "      <td> 0.915</td>\n",
        "    </tr>\n",
        "    <tr>\n",
        "      <th>M9</th>\n",
        "      <td> 0.9200</td>\n",
        "      <td> 0.920</td>\n",
        "    </tr>\n",
        "    <tr>\n",
        "      <th>MA</th>\n",
        "      <td> 0.9350</td>\n",
        "      <td> 0.925</td>\n",
        "    </tr>\n",
        "    <tr>\n",
        "      <th>MB</th>\n",
        "      <td> 0.9375</td>\n",
        "      <td> 0.925</td>\n",
        "    </tr>\n",
        "    <tr>\n",
        "      <th>MC</th>\n",
        "      <td> 0.9350</td>\n",
        "      <td> 0.925</td>\n",
        "    </tr>\n",
        "    <tr>\n",
        "      <th>MD</th>\n",
        "      <td> 0.9325</td>\n",
        "      <td> 0.920</td>\n",
        "    </tr>\n",
        "    <tr>\n",
        "      <th>ME</th>\n",
        "      <td> 0.9300</td>\n",
        "      <td> 0.925</td>\n",
        "    </tr>\n",
        "  </tbody>\n",
        "</table>\n",
        "</div>"
       ],
       "metadata": {},
       "output_type": "pyout",
       "prompt_number": 4,
       "text": [
        "     Test Scores  Train Scores\n",
        "RBF       0.9475         0.905\n",
        "K0        0.9375         0.930\n",
        "K1        0.9325         0.925\n",
        "K2        0.9175         0.900\n",
        "ELK       0.5575         0.530\n",
        "M3        0.9325         0.925\n",
        "M4        0.9375         0.920\n",
        "M5        0.9025         0.915\n",
        "M6        0.8750         0.915\n",
        "M7        0.9350         0.925\n",
        "M8        0.9350         0.915\n",
        "M9        0.9200         0.920\n",
        "MA        0.9350         0.925\n",
        "MB        0.9375         0.925\n",
        "MC        0.9350         0.925\n",
        "MD        0.9325         0.920\n",
        "ME        0.9300         0.925"
       ]
      }
     ],
     "prompt_number": 6
    },
    {
     "cell_type": "code",
     "collapsed": false,
     "input": [
      "df.plot(kind='bar', ylim=(0, 1.25))\n",
      "df"
     ],
     "language": "python",
     "metadata": {},
     "outputs": [
      {
       "html": [
        "<div style=\"max-height:1000px;max-width:1500px;overflow:auto;\">\n",
        "<table border=\"1\" class=\"dataframe\">\n",
        "  <thead>\n",
        "    <tr style=\"text-align: right;\">\n",
        "      <th></th>\n",
        "      <th>Test Scores</th>\n",
        "      <th>Train Scores</th>\n",
        "    </tr>\n",
        "  </thead>\n",
        "  <tbody>\n",
        "    <tr>\n",
        "      <th>RBF</th>\n",
        "      <td> 0.9475</td>\n",
        "      <td> 0.905</td>\n",
        "    </tr>\n",
        "    <tr>\n",
        "      <th>K0</th>\n",
        "      <td> 0.9375</td>\n",
        "      <td> 0.930</td>\n",
        "    </tr>\n",
        "    <tr>\n",
        "      <th>K1</th>\n",
        "      <td> 0.9325</td>\n",
        "      <td> 0.925</td>\n",
        "    </tr>\n",
        "    <tr>\n",
        "      <th>K2</th>\n",
        "      <td> 0.9175</td>\n",
        "      <td> 0.900</td>\n",
        "    </tr>\n",
        "    <tr>\n",
        "      <th>ELK</th>\n",
        "      <td> 0.5575</td>\n",
        "      <td> 0.530</td>\n",
        "    </tr>\n",
        "    <tr>\n",
        "      <th>M3</th>\n",
        "      <td> 0.9325</td>\n",
        "      <td> 0.925</td>\n",
        "    </tr>\n",
        "    <tr>\n",
        "      <th>M4</th>\n",
        "      <td> 0.9375</td>\n",
        "      <td> 0.920</td>\n",
        "    </tr>\n",
        "    <tr>\n",
        "      <th>M5</th>\n",
        "      <td> 0.9025</td>\n",
        "      <td> 0.915</td>\n",
        "    </tr>\n",
        "    <tr>\n",
        "      <th>M6</th>\n",
        "      <td> 0.8750</td>\n",
        "      <td> 0.915</td>\n",
        "    </tr>\n",
        "    <tr>\n",
        "      <th>M7</th>\n",
        "      <td> 0.9350</td>\n",
        "      <td> 0.925</td>\n",
        "    </tr>\n",
        "    <tr>\n",
        "      <th>M8</th>\n",
        "      <td> 0.9350</td>\n",
        "      <td> 0.915</td>\n",
        "    </tr>\n",
        "    <tr>\n",
        "      <th>M9</th>\n",
        "      <td> 0.9200</td>\n",
        "      <td> 0.920</td>\n",
        "    </tr>\n",
        "    <tr>\n",
        "      <th>MA</th>\n",
        "      <td> 0.9350</td>\n",
        "      <td> 0.925</td>\n",
        "    </tr>\n",
        "    <tr>\n",
        "      <th>MB</th>\n",
        "      <td> 0.9375</td>\n",
        "      <td> 0.925</td>\n",
        "    </tr>\n",
        "    <tr>\n",
        "      <th>MC</th>\n",
        "      <td> 0.9350</td>\n",
        "      <td> 0.925</td>\n",
        "    </tr>\n",
        "    <tr>\n",
        "      <th>MD</th>\n",
        "      <td> 0.9325</td>\n",
        "      <td> 0.920</td>\n",
        "    </tr>\n",
        "    <tr>\n",
        "      <th>ME</th>\n",
        "      <td> 0.9300</td>\n",
        "      <td> 0.925</td>\n",
        "    </tr>\n",
        "  </tbody>\n",
        "</table>\n",
        "</div>"
       ],
       "metadata": {},
       "output_type": "pyout",
       "prompt_number": 8,
       "text": [
        "     Test Scores  Train Scores\n",
        "RBF       0.9475         0.905\n",
        "K0        0.9375         0.930\n",
        "K1        0.9325         0.925\n",
        "K2        0.9175         0.900\n",
        "ELK       0.5575         0.530\n",
        "M3        0.9325         0.925\n",
        "M4        0.9375         0.920\n",
        "M5        0.9025         0.915\n",
        "M6        0.8750         0.915\n",
        "M7        0.9350         0.925\n",
        "M8        0.9350         0.915\n",
        "M9        0.9200         0.920\n",
        "MA        0.9350         0.925\n",
        "MB        0.9375         0.925\n",
        "MC        0.9350         0.925\n",
        "MD        0.9325         0.920\n",
        "ME        0.9300         0.925"
       ]
      },
      {
       "metadata": {},
       "output_type": "display_data",
       "png": "[encoded data removed]",
       "text": [
        "<matplotlib.figure.Figure at 0x7f2c2c83b7d0>"
       ]
      }
     ],
     "prompt_number": 8
    },
    {
     "cell_type": "code",
     "collapsed": false,
     "input": [],
     "language": "python",
     "metadata": {},
     "outputs": []
    }
   ],
   "metadata": {}
  }
 ]
}