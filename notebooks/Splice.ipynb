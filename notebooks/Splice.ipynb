{
 "metadata": {
  "name": ""
 },
 "nbformat": 3,
 "nbformat_minor": 0,
 "worksheets": [
  {
   "cells": [
    {
     "cell_type": "heading",
     "level": 1,
     "metadata": {},
     "source": [
      "Splice Gene"
     ]
    },
    {
     "cell_type": "code",
     "collapsed": false,
     "input": [
      "from pprint import pprint\n",
      "from sklearn import svm\n",
      "from sklearn import cross_validation as cv\n",
      "\n",
      "from kcat.datasets import splice\n",
      "from kcat.kernels import models as md\n",
      "from kcat.kernels import grid_search as gs\n",
      "from kcat.utils import get_pgen"
     ],
     "language": "python",
     "metadata": {},
     "outputs": []
    },
    {
     "cell_type": "heading",
     "level": 2,
     "metadata": {},
     "source": [
      "Loading the dataset"
     ]
    },
    {
     "cell_type": "code",
     "collapsed": false,
     "input": [
      "# Generate a dataset\n",
      "X, y, encoder = splice()\n",
      "Xb = encoder(X)\n",
      "\n",
      "# Split train and test\n",
      "X_train, X_test, y_train, y_test = cv.train_test_split(X, y, test_size=0.8, random_state=0)\n",
      "Xb_train, Xb_test, y_train, y_test = cv.train_test_split(Xb, y, test_size=0.8, random_state=0)\n",
      "\n",
      "# Some kernels need this\n",
      "pgen = get_pgen(X_train)\n",
      "\n",
      "# Cross-validation\n",
      "cvf = cv.StratifiedKFold(y_train, 5)"
     ],
     "language": "python",
     "metadata": {},
     "outputs": []
    },
    {
     "cell_type": "heading",
     "level": 2,
     "metadata": {},
     "source": [
      "RBF"
     ]
    },
    {
     "cell_type": "code",
     "collapsed": false,
     "input": [
      "rbf = md.RBF.evaluate(cvf, Xb_train, y_train, Xb_test, y_test)\n",
      "pprint(rbf)"
     ],
     "language": "python",
     "metadata": {},
     "outputs": []
    },
    {
     "cell_type": "heading",
     "level": 2,
     "metadata": {},
     "source": [
      "K0"
     ]
    },
    {
     "cell_type": "code",
     "collapsed": false,
     "input": [
      "k0 = md.K0.evaluate(cvf, X_train, y_train, X_test, y_test)\n",
      "pprint(k0)"
     ],
     "language": "python",
     "metadata": {},
     "outputs": []
    },
    {
     "cell_type": "heading",
     "level": 2,
     "metadata": {},
     "source": [
      "K1"
     ]
    },
    {
     "cell_type": "code",
     "collapsed": false,
     "input": [
      "k1 = md.K1.evaluate(cvf, X_train, y_train, X_test, y_test, pgen=pgen)\n",
      "pprint(k1)"
     ],
     "language": "python",
     "metadata": {},
     "outputs": []
    },
    {
     "cell_type": "heading",
     "level": 2,
     "metadata": {},
     "source": [
      "K2"
     ]
    },
    {
     "cell_type": "code",
     "collapsed": false,
     "input": [
      "k2 = md.K2.evaluate(cvf, X_train, y_train, X_test, y_test, pgen=pgen)\n",
      "pprint(k2)"
     ],
     "language": "python",
     "metadata": {},
     "outputs": []
    },
    {
     "cell_type": "code",
     "collapsed": false,
     "input": [],
     "language": "python",
     "metadata": {},
     "outputs": []
    }
   ],
   "metadata": {}
  }
 ]
}