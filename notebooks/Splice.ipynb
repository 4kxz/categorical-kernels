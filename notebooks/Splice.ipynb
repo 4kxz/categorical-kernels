{
 "metadata": {
  "name": "",
  "signature": "sha256:6c571e110868d00f62b47b41d661341d74dbfcae317dae15f6cb021daddb0114"
 },
 "nbformat": 3,
 "nbformat_minor": 0,
 "worksheets": [
  {
   "cells": [
    {
     "cell_type": "heading",
     "level": 1,
     "metadata": {},
     "source": [
      "Splice Dataset"
     ]
    },
    {
     "cell_type": "code",
     "collapsed": false,
     "input": [
      "from pprint import pprint\n",
      "from sklearn import svm\n",
      "from sklearn import cross_validation as cv\n",
      "import pandas as pd\n",
      "\n",
      "from kcat.datasets import Splice\n",
      "from kcat.kernels import helpers as kh\n",
      "from kcat.kernels import search as ks\n",
      "from kcat.utils import get_pgen"
     ],
     "language": "python",
     "metadata": {},
     "outputs": [],
     "prompt_number": 1
    },
    {
     "cell_type": "heading",
     "level": 2,
     "metadata": {},
     "source": [
      "Loading the dataset"
     ]
    },
    {
     "cell_type": "code",
     "collapsed": false,
     "input": [
      "# Generate a dataset\n",
      "data = Splice()\n",
      "\n",
      "# Split train and test\n",
      "X_train, X_test, y_train, y_test = data.train_test_split(train_size=200, test_size=400)\n",
      "\n",
      "# Cross-validation\n",
      "cvf = cv.StratifiedKFold(y_train, 8)\n",
      "\n",
      "kernels, train_scores, test_scores = [], [], []"
     ],
     "language": "python",
     "metadata": {},
     "outputs": [],
     "prompt_number": 2
    },
    {
     "cell_type": "code",
     "collapsed": false,
     "input": [
      "for model_class in kh.DEFAULT_MODELS:\n",
      "    model = model_class()\n",
      "    print(\"Running {}...\".format(model.name))\n",
      "    best_fit = model.train(cvf, X_train, y_train)\n",
      "    results = model.test(best_fit, X_test, y_test)\n",
      "    kernels.append(model.name)\n",
      "    train_scores.append(results['train_score'])\n",
      "    test_scores.append(results['test_score'])"
     ],
     "language": "python",
     "metadata": {},
     "outputs": [
      {
       "output_type": "stream",
       "stream": "stdout",
       "text": [
        "Running RBF...\n"
       ]
      },
      {
       "output_type": "stream",
       "stream": "stdout",
       "text": [
        "Running K0...\n"
       ]
      },
      {
       "output_type": "stream",
       "stream": "stdout",
       "text": [
        "Running K1...\n"
       ]
      },
      {
       "output_type": "stream",
       "stream": "stdout",
       "text": [
        "Running K2...\n"
       ]
      },
      {
       "output_type": "stream",
       "stream": "stdout",
       "text": [
        "Running ELK...\n"
       ]
      },
      {
       "output_type": "stream",
       "stream": "stdout",
       "text": [
        "Running M3...\n"
       ]
      },
      {
       "output_type": "stream",
       "stream": "stdout",
       "text": [
        "Running M4...\n"
       ]
      },
      {
       "output_type": "stream",
       "stream": "stdout",
       "text": [
        "Running M5...\n"
       ]
      },
      {
       "output_type": "stream",
       "stream": "stdout",
       "text": [
        "Running M6...\n"
       ]
      },
      {
       "output_type": "stream",
       "stream": "stdout",
       "text": [
        "Running M7...\n"
       ]
      },
      {
       "output_type": "stream",
       "stream": "stdout",
       "text": [
        "Running M8...\n"
       ]
      },
      {
       "output_type": "stream",
       "stream": "stdout",
       "text": [
        "Running M9...\n"
       ]
      },
      {
       "output_type": "stream",
       "stream": "stdout",
       "text": [
        "Running MA...\n"
       ]
      },
      {
       "output_type": "stream",
       "stream": "stdout",
       "text": [
        "Running MB...\n"
       ]
      },
      {
       "output_type": "stream",
       "stream": "stdout",
       "text": [
        "Running MC...\n"
       ]
      },
      {
       "output_type": "stream",
       "stream": "stdout",
       "text": [
        "Running MD...\n"
       ]
      },
      {
       "output_type": "stream",
       "stream": "stdout",
       "text": [
        "Running ME...\n"
       ]
      }
     ],
     "prompt_number": 3
    },
    {
     "cell_type": "code",
     "collapsed": false,
     "input": [
      "model = kh.Chi1()\n",
      "print(\"Running {}...\".format(model.name))\n",
      "best_fit = model.train(cvf, X_train, y_train)\n",
      "results = model.test(best_fit, X_test, y_test)\n",
      "kernels.append(model.name)\n",
      "train_scores.append(results['train_score'])\n",
      "test_scores.append(results['test_score'])"
     ],
     "language": "python",
     "metadata": {},
     "outputs": [
      {
       "output_type": "stream",
       "stream": "stdout",
       "text": [
        "Running Chi1...\n"
       ]
      }
     ],
     "prompt_number": 4
    },
    {
     "cell_type": "code",
     "collapsed": false,
     "input": [
      "model = kh.Chi2()\n",
      "print(\"Running {}...\".format(model.name))\n",
      "best_fit = model.train(cvf, X_train, y_train)\n",
      "results = model.test(best_fit, X_test, y_test)\n",
      "kernels.append(model.name)\n",
      "train_scores.append(results['train_score'])\n",
      "test_scores.append(results['test_score'])"
     ],
     "language": "python",
     "metadata": {},
     "outputs": [
      {
       "output_type": "stream",
       "stream": "stdout",
       "text": [
        "Running Chi2...\n"
       ]
      }
     ],
     "prompt_number": 5
    },
    {
     "cell_type": "code",
     "collapsed": false,
     "input": [
      "data = {\n",
      "    'Train Scores': train_scores,\n",
      "    'Test Scores': test_scores,\n",
      "    }\n",
      "\n",
      "df = pd.DataFrame(data=data, index=kernels)"
     ],
     "language": "python",
     "metadata": {},
     "outputs": [],
     "prompt_number": 6
    },
    {
     "cell_type": "code",
     "collapsed": false,
     "input": [
      "df.plot(kind='bar', ylim=(0.5, 1.1))\n",
      "df"
     ],
     "language": "python",
     "metadata": {},
     "outputs": [
      {
       "html": [
        "<div style=\"max-height:1000px;max-width:1500px;overflow:auto;\">\n",
        "<table border=\"1\" class=\"dataframe\">\n",
        "  <thead>\n",
        "    <tr style=\"text-align: right;\">\n",
        "      <th></th>\n",
        "      <th>Test Scores</th>\n",
        "      <th>Train Scores</th>\n",
        "    </tr>\n",
        "  </thead>\n",
        "  <tbody>\n",
        "    <tr>\n",
        "      <th>RBF</th>\n",
        "      <td> 0.9125</td>\n",
        "      <td> 0.915</td>\n",
        "    </tr>\n",
        "    <tr>\n",
        "      <th>K0</th>\n",
        "      <td> 0.9400</td>\n",
        "      <td> 0.920</td>\n",
        "    </tr>\n",
        "    <tr>\n",
        "      <th>K1</th>\n",
        "      <td> 0.9025</td>\n",
        "      <td> 0.920</td>\n",
        "    </tr>\n",
        "    <tr>\n",
        "      <th>K2</th>\n",
        "      <td> 0.8650</td>\n",
        "      <td> 0.920</td>\n",
        "    </tr>\n",
        "    <tr>\n",
        "      <th>ELK</th>\n",
        "      <td> 0.5600</td>\n",
        "      <td> 0.520</td>\n",
        "    </tr>\n",
        "    <tr>\n",
        "      <th>M3</th>\n",
        "      <td> 0.8975</td>\n",
        "      <td> 0.920</td>\n",
        "    </tr>\n",
        "    <tr>\n",
        "      <th>M4</th>\n",
        "      <td> 0.8900</td>\n",
        "      <td> 0.920</td>\n",
        "    </tr>\n",
        "    <tr>\n",
        "      <th>M5</th>\n",
        "      <td> 0.8775</td>\n",
        "      <td> 0.920</td>\n",
        "    </tr>\n",
        "    <tr>\n",
        "      <th>M6</th>\n",
        "      <td> 0.8750</td>\n",
        "      <td> 0.920</td>\n",
        "    </tr>\n",
        "    <tr>\n",
        "      <th>M7</th>\n",
        "      <td> 0.9225</td>\n",
        "      <td> 0.920</td>\n",
        "    </tr>\n",
        "    <tr>\n",
        "      <th>M8</th>\n",
        "      <td> 0.9150</td>\n",
        "      <td> 0.920</td>\n",
        "    </tr>\n",
        "    <tr>\n",
        "      <th>M9</th>\n",
        "      <td> 0.8900</td>\n",
        "      <td> 0.920</td>\n",
        "    </tr>\n",
        "    <tr>\n",
        "      <th>MA</th>\n",
        "      <td> 0.9225</td>\n",
        "      <td> 0.920</td>\n",
        "    </tr>\n",
        "    <tr>\n",
        "      <th>MB</th>\n",
        "      <td> 0.9225</td>\n",
        "      <td> 0.920</td>\n",
        "    </tr>\n",
        "    <tr>\n",
        "      <th>MC</th>\n",
        "      <td> 0.9225</td>\n",
        "      <td> 0.920</td>\n",
        "    </tr>\n",
        "    <tr>\n",
        "      <th>MD</th>\n",
        "      <td> 0.8875</td>\n",
        "      <td> 0.915</td>\n",
        "    </tr>\n",
        "    <tr>\n",
        "      <th>ME</th>\n",
        "      <td> 0.8775</td>\n",
        "      <td> 0.915</td>\n",
        "    </tr>\n",
        "    <tr>\n",
        "      <th>Chi1</th>\n",
        "      <td> 0.5600</td>\n",
        "      <td> 0.520</td>\n",
        "    </tr>\n",
        "    <tr>\n",
        "      <th>Chi2</th>\n",
        "      <td> 0.9000</td>\n",
        "      <td> 0.875</td>\n",
        "    </tr>\n",
        "  </tbody>\n",
        "</table>\n",
        "<p>19 rows \u00d7 2 columns</p>\n",
        "</div>"
       ],
       "metadata": {},
       "output_type": "pyout",
       "prompt_number": 10,
       "text": [
        "      Test Scores  Train Scores\n",
        "RBF        0.9125         0.915\n",
        "K0         0.9400         0.920\n",
        "K1         0.9025         0.920\n",
        "K2         0.8650         0.920\n",
        "ELK        0.5600         0.520\n",
        "M3         0.8975         0.920\n",
        "M4         0.8900         0.920\n",
        "M5         0.8775         0.920\n",
        "M6         0.8750         0.920\n",
        "M7         0.9225         0.920\n",
        "M8         0.9150         0.920\n",
        "M9         0.8900         0.920\n",
        "MA         0.9225         0.920\n",
        "MB         0.9225         0.920\n",
        "MC         0.9225         0.920\n",
        "MD         0.8875         0.915\n",
        "ME         0.8775         0.915\n",
        "Chi1       0.5600         0.520\n",
        "Chi2       0.9000         0.875\n",
        "\n",
        "[19 rows x 2 columns]"
       ]
      },
      {
       "metadata": {},
       "output_type": "display_data",
       "png": "[encoded data removed]",
       "text": [
        "<matplotlib.figure.Figure at 0x7f54b11c8908>"
       ]
      }
     ],
     "prompt_number": 10
    },
    {
     "cell_type": "code",
     "collapsed": false,
     "input": [],
     "language": "python",
     "metadata": {},
     "outputs": []
    }
   ],
   "metadata": {}
  }
 ]
}