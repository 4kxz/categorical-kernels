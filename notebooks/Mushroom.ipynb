{
 "metadata": {
  "name": ""
 },
 "nbformat": 3,
 "nbformat_minor": 0,
 "worksheets": [
  {
   "cells": [
    {
     "cell_type": "code",
     "collapsed": false,
     "input": [
      "from sklearn import cross_validation as cv\n",
      "from sklearn import grid_search as gs\n",
      "from sklearn import svm\n",
      "\n",
      "from kcat.datasets import mushroom\n",
      "from kcat.kernels.functions import *\n",
      "from kcat.kernels.grid_search import *\n",
      "from kcat.kernels.utils import *"
     ],
     "language": "python",
     "metadata": {},
     "outputs": [],
     "prompt_number": 1
    },
    {
     "cell_type": "heading",
     "level": 1,
     "metadata": {},
     "source": [
      "Fitting the kernels"
     ]
    },
    {
     "cell_type": "code",
     "collapsed": false,
     "input": [
      "# Generate a dataset and split the data in train and test:\n",
      "X, y, bincoder = mushroom()\n",
      "Xb = bincoder(X)\n",
      "\n",
      "X_train, X_test, y_train, y_test = cv.train_test_split(X, y, test_size=0.99, random_state=0)\n",
      "Xb_train, Xb_test, y_train, y_test = cv.train_test_split(Xb, y, test_size=0.99, random_state=0)\n",
      "pgen = get_pgen(X_train)\n",
      "\n",
      "cvf = cv.StratifiedKFold(y_train, 2)"
     ],
     "language": "python",
     "metadata": {},
     "outputs": [],
     "prompt_number": 2
    },
    {
     "cell_type": "heading",
     "level": 2,
     "metadata": {},
     "source": [
      "Fitting RBF"
     ]
    },
    {
     "cell_type": "code",
     "collapsed": false,
     "input": [
      "Cs = 10.0 ** np.arange(-1, 3)\n",
      "gammas = 2.0 ** np.arange(-12, 1)\n",
      "\n",
      "gs_rbf = gs.GridSearchCV(svm.SVC(kernel='rbf'), param_grid=dict(C=Cs, gamma=gammas), cv=cvf)\n",
      "gs_rbf.fit(Xb_train, y_train)\n",
      "\n",
      "\"Best score: {:0.3f}, parameters: {}\".format(gs_rbf.best_score_, gs_rbf.best_params_)"
     ],
     "language": "python",
     "metadata": {},
     "outputs": [
      {
       "metadata": {},
       "output_type": "pyout",
       "prompt_number": 3,
       "text": [
        "\"Best score: 0.975, parameters: {'C': 10.0, 'gamma': 0.0078125}\""
       ]
      }
     ],
     "prompt_number": 3
    },
    {
     "cell_type": "heading",
     "level": 2,
     "metadata": {},
     "source": [
      "Fitting K0"
     ]
    },
    {
     "cell_type": "code",
     "collapsed": false,
     "input": [
      "Cs = 10.0 ** np.arange(-1, 3)\n",
      "functions = [\n",
      "    ('ident', 'ident'),\n",
      "    ('ident', 'f1'),\n",
      "    ('f1', 'ident'),\n",
      "]\n",
      "gammas = 2.0 ** np.arange(-3, 3)\n",
      "\n",
      "gs_k0 = GridSearchK0(svm.SVC(kernel='precomputed'), functions, gammas, param_grid=dict(C=Cs), cv=cvf)\n",
      "gs_k0.fit(X_train, y_train)\n",
      "\n",
      "\"Best score: {:0.3f}, parameters: {}\".format(gs_k0.best_score_, gs_k0.best_params_)"
     ],
     "language": "python",
     "metadata": {},
     "outputs": [
      {
       "metadata": {},
       "output_type": "pyout",
       "prompt_number": 4,
       "text": [
        "\"Best score: 0.975, parameters: ({'C': 0.10000000000000001}, {'post': 'ident', 'prev': 'f1', 'gamma': 4.0})\""
       ]
      }
     ],
     "prompt_number": 4
    },
    {
     "cell_type": "heading",
     "level": 2,
     "metadata": {},
     "source": [
      "Fitting K1"
     ]
    },
    {
     "cell_type": "code",
     "collapsed": false,
     "input": [
      "Cs = 10.0 ** np.arange(-1, 3)\n",
      "functions = [\n",
      "    ('ident', 'ident'),\n",
      "    ('ident', 'f1'),\n",
      "    ('ident', 'f2'),\n",
      "    ('f1', 'ident'),\n",
      "]\n",
      "gammas = 2.0 ** np.arange(-3, 0)\n",
      "alphas = 1.5 ** np.arange(-4, 0)\n",
      "\n",
      "#print(fast_k1(X_train, X_train, pgen, prev='ident', post='ident', alpha=1.5**1))\n",
      "\n",
      "gs_k1 = GridSearchK1(svm.SVC(kernel='precomputed'), alphas, functions, gammas, param_grid=dict(C=Cs), cv=cvf)\n",
      "gs_k1.fit(X_train, y_train, pgen)\n",
      "\n",
      "\"Best score: {:0.3f}, parameters: {}\".format(gs_k1.best_score_, gs_k1.best_params_)"
     ],
     "language": "python",
     "metadata": {},
     "outputs": [
      {
       "metadata": {},
       "output_type": "pyout",
       "prompt_number": 5,
       "text": [
        "\"Best score: 0.975, parameters: ({'C': 10.0}, {'alpha': 0.66666666666666663, 'post': 'ident', 'prev': 'f1', 'gamma': 0.5})\""
       ]
      }
     ],
     "prompt_number": 5
    },
    {
     "cell_type": "heading",
     "level": 2,
     "metadata": {},
     "source": [
      "Fitting K2"
     ]
    },
    {
     "cell_type": "code",
     "collapsed": false,
     "input": [
      "Cs = 10.0 ** np.arange(-1, 3)\n",
      "functions = [\n",
      "    ('ident', 'ident'),\n",
      "    ('ident', 'f1'),\n",
      "    ('ident', 'f2'),\n",
      "    ('f1', 'ident'),\n",
      "]\n",
      "gammas = 2.0 ** np.arange(-3, 1)\n",
      "\n",
      "gs_k2 = GridSearchK2(svm.SVC(kernel='precomputed'), functions, gammas, param_grid=dict(C=Cs), cv=cvf)\n",
      "gs_k2.fit(X_train, y_train, pgen)\n",
      "\n",
      "\"Best score: {:0.3f}, parameters: {}\".format(gs_k2.best_score_, gs_k2.best_params_)"
     ],
     "language": "python",
     "metadata": {},
     "outputs": [
      {
       "metadata": {},
       "output_type": "pyout",
       "prompt_number": 7,
       "text": [
        "\"Best score: 0.975, parameters: ({'C': 1.0}, {'post': 'ident', 'prev': 'ident', 'gamma': None})\""
       ]
      }
     ],
     "prompt_number": 7
    },
    {
     "cell_type": "heading",
     "level": 2,
     "metadata": {},
     "source": [
      "Model Evaluation"
     ]
    },
    {
     "cell_type": "code",
     "collapsed": false,
     "input": [
      "# RBF\n",
      "y_predict = gs_rbf.best_estimator_.predict(Xb_test)\n",
      "\n",
      "\"Score: {:0.3f}\".format((y_predict == y_test).mean())"
     ],
     "language": "python",
     "metadata": {},
     "outputs": [
      {
       "metadata": {},
       "output_type": "pyout",
       "prompt_number": 8,
       "text": [
        "'Score: 0.961'"
       ]
      }
     ],
     "prompt_number": 8
    },
    {
     "cell_type": "code",
     "collapsed": false,
     "input": [
      "# K0\n",
      "gram = fast_k0(X_test, X_train, **gs_k0.best_params_[1])\n",
      "y_predict = gs_k0.best_estimator_.predict(gram)\n",
      "\n",
      "\"Score: {:0.3f}\".format((y_predict == y_test).mean())"
     ],
     "language": "python",
     "metadata": {},
     "outputs": [
      {
       "metadata": {},
       "output_type": "pyout",
       "prompt_number": 9,
       "text": [
        "'Score: 0.961'"
       ]
      }
     ],
     "prompt_number": 9
    },
    {
     "cell_type": "code",
     "collapsed": false,
     "input": [
      "# K1\n",
      "gram = fast_k1(X_test, X_train, pgen, **gs_k1.best_params_[1])\n",
      "y_predict = gs_k1.best_estimator_.predict(gram)\n",
      "\n",
      "\"Score: {:0.3f}\".format((y_predict == y_test).mean())"
     ],
     "language": "python",
     "metadata": {},
     "outputs": [
      {
       "metadata": {},
       "output_type": "pyout",
       "prompt_number": 10,
       "text": [
        "'Score: 0.956'"
       ]
      }
     ],
     "prompt_number": 10
    },
    {
     "cell_type": "code",
     "collapsed": false,
     "input": [
      "# K2\n",
      "gram = fast_k2(X_test, X_train, pgen, **gs_k2.best_params_[1])\n",
      "y_predict = gs_k2.best_estimator_.predict(gram)\n",
      "\n",
      "\"Score: {:0.3f}\".format((y_predict == y_test).mean())"
     ],
     "language": "python",
     "metadata": {},
     "outputs": [
      {
       "metadata": {},
       "output_type": "pyout",
       "prompt_number": 11,
       "text": [
        "'Score: 0.962'"
       ]
      }
     ],
     "prompt_number": 11
    },
    {
     "cell_type": "code",
     "collapsed": false,
     "input": [],
     "language": "python",
     "metadata": {},
     "outputs": []
    }
   ],
   "metadata": {}
  }
 ]
}