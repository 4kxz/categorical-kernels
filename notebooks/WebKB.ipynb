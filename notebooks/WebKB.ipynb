{
 "metadata": {
  "name": ""
 },
 "nbformat": 3,
 "nbformat_minor": 0,
 "worksheets": [
  {
   "cells": [
    {
     "cell_type": "code",
     "collapsed": false,
     "input": [
      "from kcat import datasets as ds\n",
      "import pandas as pd\n",
      "from random import sample"
     ],
     "language": "python",
     "metadata": {},
     "outputs": [],
     "prompt_number": 1
    },
    {
     "cell_type": "code",
     "collapsed": false,
     "input": [
      "X, Y, y = ds.WebKB().data_arrays"
     ],
     "language": "python",
     "metadata": {},
     "outputs": [],
     "prompt_number": 2
    },
    {
     "cell_type": "code",
     "collapsed": false,
     "input": [
      "df = pd.DataFrame(X)"
     ],
     "language": "python",
     "metadata": {},
     "outputs": [],
     "prompt_number": 3
    },
    {
     "cell_type": "code",
     "collapsed": false,
     "input": [
      "print('\\t' + '\\t'.join([str(i).rjust(4) for i in range(5)]))\n",
      "print('-' * 45)\n",
      "for i in sample(range(len(X)), 50):\n",
      "    groups = df.groupby(i).groups\n",
      "    lengths = [str(len(groups.get(g, []))).rjust(4) for g in (0, 1, 2, 3, 4)]\n",
      "    s = '{}:\\t{}'.format(str(i).rjust(5), '\\t'.join(lengths))\n",
      "    print(s)"
     ],
     "language": "python",
     "metadata": {},
     "outputs": [
      {
       "output_type": "stream",
       "stream": "stdout",
       "text": [
        "\t   0\t   1\t   2\t   3\t   4\n",
        "---------------------------------------------\n",
        " 2707:\t2737\t   1\t   0\t   2\t   1\n",
        " 2591:\t2740\t   0\t   0\t   1\t   0\n",
        " 2033:\t2733\t   0\t   0\t   3\t   5\n",
        " 1326:\t2719\t   1\t   6\t  11\t   4\n",
        " 2548:\t2718\t   0\t   0\t  11\t  12\n",
        " 1730:\t2735\t   0\t   1\t   2\t   3\n",
        " 2712:\t2731\t   1\t   1\t   7\t   1\n",
        " 2188:\t2739\t   0\t   0\t   2\t   0\n",
        " 1705:\t2636\t   2\t  19\t  65\t  19\n",
        " 2735:\t2723\t   0\t   3\t   9\t   6\n",
        "    0:\t2688\t   1\t   4\t  27\t  19\n",
        " 2189:\t2717\t   1\t  10\t  13\t   0\n",
        " 2638:\t2738\t   0\t   0\t   2\t   1\n",
        "  487:\t2736\t   0\t   3\t   0\t   2\n",
        " 2394:\t2733\t   0\t   3\t   4\t   1\n",
        " 1846:\t2737\t   0\t   0\t   2\t   2\n",
        " 2203:\t2722\t   0\t   2\t   6\t  11\n",
        " 1407:\t2714\t   1\t   4\t  18\t   4\n",
        " 2297:\t2737\t   0\t   0\t   1\t   3\n",
        " 2399:\t2716\t   1\t   2\t  13\t   9\n",
        "   12:\t1843\t   1\t  34\t 300\t 558\n",
        " 2565:\t2691\t   0\t   9\t  30\t  10\n",
        "  318:\t2568\t   0\t   7\t  61\t 103\n",
        "  142:\t2690\t   0\t   7\t  34\t  10\n",
        " 2080:\t2736\t   0\t   0\t   3\t   2\n",
        " 2313:\t2739\t   0\t   1\t   1\t   0\n",
        "  682:\t2721\t   2\t   3\t  13\t   2\n",
        " 2602:\t2727\t   0\t   2\t   6\t   6\n",
        " 1374:\t2738\t   0\t   0\t   3\t   0\n",
        "  581:\t2738\t   0\t   0\t   1\t   2\n",
        "  509:\t2702\t   1\t   5\t  19\t  14\n",
        "  326:\t2720\t   0\t   0\t   2\t  19\n",
        "  953:\t2653\t   2\t  10\t  43\t  33\n",
        " 2140:\t2727\t   1\t   3\t   5\t   5\n",
        "   60:\t2700\t   2\t   5\t  21\t  13\n",
        "  732:\t2457\t   3\t  35\t 159\t  87\n",
        " 2576:\t2733\t   0\t   2\t   6\t   0\n",
        " 2578:\t2732\t   1\t   1\t   6\t   1\n",
        " 2320:\t2734\t   0\t   0\t   5\t   2\n",
        " 2426:\t2732\t   0\t   1\t   2\t   6"
       ]
      },
      {
       "output_type": "stream",
       "stream": "stdout",
       "text": [
        "\n",
        " 1196:\t2647\t   2\t  14\t  57\t  21\n",
        " 1566:\t2738\t   0\t   0\t   1\t   2\n",
        " 2640:\t2738\t   0\t   1\t   0\t   2\n",
        " 2068:\t2737\t   0\t   0\t   2\t   2\n",
        "   88:\t2718\t   0\t   2\t  13\t   8\n",
        " 1901:\t2705\t   0\t   5\t  18\t  13\n",
        " 1717:\t2611\t   3\t  18\t  71\t  38\n",
        "    1:\t 365\t   1\t   2\t 132\t2201\n",
        "   76:\t2699\t   3\t  10\t  21\t   8\n",
        " 2029:\t2726\t   0\t   1\t   5\t   9\n"
       ]
      }
     ],
     "prompt_number": 4
    },
    {
     "cell_type": "code",
     "collapsed": false,
     "input": [],
     "language": "python",
     "metadata": {},
     "outputs": [],
     "prompt_number": 4
    }
   ],
   "metadata": {}
  }
 ]
}