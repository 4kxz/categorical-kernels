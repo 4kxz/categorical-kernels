{
 "metadata": {
  "name": ""
 },
 "nbformat": 3,
 "nbformat_minor": 0,
 "worksheets": [
  {
   "cells": [
    {
     "cell_type": "code",
     "collapsed": false,
     "input": [
      "from kcat import datasets as ds\n",
      "import pandas as pd\n",
      "from random import sample"
     ],
     "language": "python",
     "metadata": {},
     "outputs": [],
     "prompt_number": 1
    },
    {
     "cell_type": "code",
     "collapsed": false,
     "input": [
      "X, Y, y = ds.WebKB().data_arrays"
     ],
     "language": "python",
     "metadata": {},
     "outputs": [],
     "prompt_number": 2
    },
    {
     "cell_type": "code",
     "collapsed": false,
     "input": [
      "df = pd.DataFrame(X)"
     ],
     "language": "python",
     "metadata": {},
     "outputs": [],
     "prompt_number": 3
    },
    {
     "cell_type": "code",
     "collapsed": false,
     "input": [
      "print('\\t' + '\\t'.join([str(i).rjust(4) for i in range(5)]))\n",
      "print('-' * 45)\n",
      "for i in sample(range(len(X)), 50):\n",
      "    groups = df.groupby(i).groups\n",
      "    lengths = [str(len(groups.get(g, []))).rjust(4) for g in (0, 1, 2, 3, 4)]\n",
      "    s = '{}:\\t{}'.format(str(i).rjust(5), '\\t'.join(lengths))\n",
      "    print(s)"
     ],
     "language": "python",
     "metadata": {},
     "outputs": [
      {
       "output_type": "stream",
       "stream": "stdout",
       "text": [
        "\t   0\t   1\t   2\t   3\t   4\n",
        "---------------------------------------------\n",
        "  807:\t2729\t   0\t   7\t   5\t   0\n",
        " 2521:\t2732\t   0\t   5\t   4\t   0\n",
        " 1263:\t2733\t   0\t   5\t   3\t   0\n",
        "  192:\t2565\t   3\t  95\t  77\t   1\n",
        " 1833:\t2738\t   0\t   2\t   1\t   0\n",
        "  706:\t2615\t   1\t  79\t  46\t   0\n",
        "  178:\t1826\t   2\t 321\t 587\t   5\n",
        " 2346:\t2731\t   0\t   6\t   4\t   0\n",
        "  868:\t2709\t   1\t  15\t  16\t   0\n",
        " 2513:\t2688\t   3\t  35\t  15\t   0\n",
        "  184:\t2370\t   3\t 156\t 211\t   1\n",
        "  749:\t2738\t   0\t   2\t   1\t   0\n",
        " 1571:\t2725\t   0\t   3\t  13\t   0\n",
        "  696:\t2731\t   1\t   7\t   2\t   0\n",
        " 2134:\t2729\t   1\t   5\t   6\t   0\n",
        "  337:\t2571\t   0\t  88\t  82\t   0\n",
        " 1546:\t2722\t   1\t  14\t   4\t   0\n",
        "  616:\t2543\t   2\t 124\t  72\t   0\n",
        " 2725:\t2725\t   2\t   9\t   5\t   0\n",
        " 2084:\t2737\t   0\t   3\t   1\t   0\n",
        " 1493:\t2733\t   0\t   4\t   4\t   0\n",
        " 1415:\t2687\t   3\t  26\t  25\t   0\n",
        " 2124:\t2723\t   1\t  13\t   4\t   0\n",
        "  298:\t2667\t   2\t  55\t  17\t   0\n",
        " 1496:\t2730\t   0\t   6\t   5\t   0\n",
        "  566:\t2708\t   2\t  24\t   7\t   0\n",
        " 1809:\t2723\t   1\t   9\t   8\t   0\n",
        " 1627:\t2703\t   0\t  16\t  20\t   2\n",
        "  384:\t2624\t   3\t  85\t  29\t   0\n",
        " 2276:\t2738\t   1\t   2\t   0\t   0\n",
        " 2561:\t2723\t   1\t  12\t   5\t   0\n",
        " 1843:\t2709\t   1\t  27\t   4\t   0\n",
        " 1541:\t2675\t   4\t  49\t  13\t   0\n",
        " 2592:\t2673\t   5\t  47\t  16\t   0\n",
        "  932:\t2606\t   4\t  91\t  40\t   0\n",
        "  591:\t2628\t   0\t  76\t  37\t   0\n",
        "  913:\t2560\t   3\t 125\t  53\t   0\n",
        " 1636:\t2738\t   1\t   1\t   1\t   0"
       ]
      },
      {
       "output_type": "stream",
       "stream": "stdout",
       "text": [
        "\n",
        " 1856:\t2699\t   3\t  21\t  18\t   0\n",
        "  588:\t2719\t   0\t  13\t   9\t   0\n",
        " 2190:\t2686\t   1\t  38\t  16\t   0\n",
        "  265:\t2602\t   3\t 113\t  23\t   0\n",
        " 1715:\t2672\t   2\t  46\t  21\t   0\n",
        "  114:\t2735\t   0\t   3\t   3\t   0\n",
        "  352:\t2710\t   2\t  16\t  13\t   0\n",
        " 2336:\t2725\t   1\t   8\t   7\t   0\n",
        " 2673:\t2733\t   0\t   6\t   2\t   0\n",
        "  248:\t2659\t   2\t  44\t  36\t   0\n",
        " 2144:\t2599\t   0\t 103\t  39\t   0\n",
        "  677:\t2688\t   3\t  35\t  15\t   0\n"
       ]
      }
     ],
     "prompt_number": 4
    }
   ],
   "metadata": {}
  }
 ]
}