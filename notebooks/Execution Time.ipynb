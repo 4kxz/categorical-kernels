{
 "metadata": {
  "name": ""
 },
 "nbformat": 3,
 "nbformat_minor": 0,
 "worksheets": [
  {
   "cells": [
    {
     "cell_type": "code",
     "collapsed": false,
     "input": [
      "import time\n",
      "\n",
      "from sklearn import cross_validation as cv\n",
      "from sklearn import svm\n",
      "\n",
      "from kcat.datasets import gmonks\n",
      "from kcat.kernels.pgen import get_pgen\n",
      "from kcat.kernels.functions import *"
     ],
     "language": "python",
     "metadata": {},
     "outputs": [],
     "prompt_number": 1
    },
    {
     "cell_type": "code",
     "collapsed": false,
     "input": [
      "X, y, _ = gmonks(2000, 1)\n",
      "pgen = get_pgen(X)"
     ],
     "language": "python",
     "metadata": {},
     "outputs": [],
     "prompt_number": 2
    },
    {
     "cell_type": "code",
     "collapsed": false,
     "input": [
      "# Test kernel 0:\n",
      "clf = svm.SVC(kernel='precomputed')\n",
      "t0 = time.time()\n",
      "gram = fast_k0(X, X)\n",
      "print(\"Execution time: {:0.3f} s\".format(time.time() - t0))\n",
      "scores = cv.cross_val_score(clf, gram, y, cv=2)\n",
      "print(\"Mean score: {:0.3f}\".format(scores.mean()))"
     ],
     "language": "python",
     "metadata": {},
     "outputs": [
      {
       "output_type": "stream",
       "stream": "stdout",
       "text": [
        "Execution time: 0.441 s\n",
        "Mean score: 0.717"
       ]
      },
      {
       "output_type": "stream",
       "stream": "stdout",
       "text": [
        "\n"
       ]
      }
     ],
     "prompt_number": 3
    },
    {
     "cell_type": "code",
     "collapsed": false,
     "input": [
      "# Test kernel 1:\n",
      "clf = svm.SVC(kernel='precomputed')\n",
      "t0 = time.time()\n",
      "gram = fast_k1(X, X, pgen)\n",
      "print(\"Execution time: {:0.3f} s\".format(time.time() - t0))\n",
      "scores = cv.cross_val_score(clf, gram, y, cv=2)\n",
      "print(\"Mean score: {:0.3f}\".format(scores.mean()))"
     ],
     "language": "python",
     "metadata": {},
     "outputs": [
      {
       "output_type": "stream",
       "stream": "stdout",
       "text": [
        "Execution time: 0.686 s\n",
        "Mean score: 0.718"
       ]
      },
      {
       "output_type": "stream",
       "stream": "stdout",
       "text": [
        "\n"
       ]
      }
     ],
     "prompt_number": 4
    },
    {
     "cell_type": "code",
     "collapsed": false,
     "input": [
      "# Test kernel 2:\n",
      "clf = svm.SVC(kernel='precomputed')\n",
      "t0 = time.time()\n",
      "gram = fast_k2(X, X, pgen)\n",
      "print(\"Execution time: {:0.3f} s\".format(time.time() - t0))\n",
      "scores = cv.cross_val_score(clf, gram, y, cv=2)\n",
      "print(\"Mean score: {:0.3f}\".format(scores.mean()))"
     ],
     "language": "python",
     "metadata": {},
     "outputs": [
      {
       "output_type": "stream",
       "stream": "stdout",
       "text": [
        "Execution time: 0.654 s\n",
        "Mean score: 0.514"
       ]
      },
      {
       "output_type": "stream",
       "stream": "stdout",
       "text": [
        "\n"
       ]
      }
     ],
     "prompt_number": 5
    }
   ],
   "metadata": {}
  }
 ]
}
