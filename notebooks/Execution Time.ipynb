{
 "metadata": {
  "name": ""
 },
 "nbformat": 3,
 "nbformat_minor": 0,
 "worksheets": [
  {
   "cells": [
    {
     "cell_type": "code",
     "collapsed": false,
     "input": [
      "import time\n",
      "\n",
      "from sklearn import svm\n",
      "from sklearn import cross_validation as cv\n",
      "\n",
      "from kcat.datasets import gmonks\n",
      "from kcat.kernels.functions import *\n",
      "from kcat.utils import get_pgen"
     ],
     "language": "python",
     "metadata": {},
     "outputs": [],
     "prompt_number": 1
    },
    {
     "cell_type": "code",
     "collapsed": false,
     "input": [
      "X, y, _ = gmonks(2000, 1)\n",
      "pgen = get_pgen(X)"
     ],
     "language": "python",
     "metadata": {},
     "outputs": [],
     "prompt_number": 2
    },
    {
     "cell_type": "code",
     "collapsed": false,
     "input": [
      "# Test kernel k0:\n",
      "clf = svm.SVC(kernel='precomputed')\n",
      "t0 = time.time()\n",
      "gram = fast_k0(X, X)\n",
      "print(\"Execution time: {:0.3f} s\".format(time.time() - t0))\n",
      "scores = cv.cross_val_score(clf, gram, y, cv=2)\n",
      "print(\"Mean score: {:0.3f}\".format(scores.mean()))"
     ],
     "language": "python",
     "metadata": {},
     "outputs": [
      {
       "output_type": "stream",
       "stream": "stdout",
       "text": [
        "Execution time: 0.385 s\n",
        "Mean score: 0.716"
       ]
      },
      {
       "output_type": "stream",
       "stream": "stdout",
       "text": [
        "\n"
       ]
      }
     ],
     "prompt_number": 3
    },
    {
     "cell_type": "code",
     "collapsed": false,
     "input": [
      "# Test kernel k1:\n",
      "clf = svm.SVC(kernel='precomputed')\n",
      "t0 = time.time()\n",
      "gram = fast_k1(X, X, pgen)\n",
      "print(\"Execution time: {:0.3f} s\".format(time.time() - t0))\n",
      "scores = cv.cross_val_score(clf, gram, y, cv=2)\n",
      "print(\"Mean score: {:0.3f}\".format(scores.mean()))"
     ],
     "language": "python",
     "metadata": {},
     "outputs": [
      {
       "output_type": "stream",
       "stream": "stdout",
       "text": [
        "Execution time: 0.604 s\n",
        "Mean score: 0.724"
       ]
      },
      {
       "output_type": "stream",
       "stream": "stdout",
       "text": [
        "\n"
       ]
      }
     ],
     "prompt_number": 4
    },
    {
     "cell_type": "code",
     "collapsed": false,
     "input": [
      "# Test kernel k2:\n",
      "clf = svm.SVC(kernel='precomputed')\n",
      "t0 = time.time()\n",
      "gram = fast_k2(X, X, pgen)\n",
      "print(\"Execution time: {:0.3f} s\".format(time.time() - t0))\n",
      "scores = cv.cross_val_score(clf, gram, y, cv=2)\n",
      "print(\"Mean score: {:0.3f}\".format(scores.mean()))"
     ],
     "language": "python",
     "metadata": {},
     "outputs": [
      {
       "output_type": "stream",
       "stream": "stdout",
       "text": [
        "Execution time: 0.596 s\n",
        "Mean score: 0.489"
       ]
      },
      {
       "output_type": "stream",
       "stream": "stdout",
       "text": [
        "\n"
       ]
      }
     ],
     "prompt_number": 5
    },
    {
     "cell_type": "code",
     "collapsed": false,
     "input": [
      "# Test kernel m1:\n",
      "clf = svm.SVC(kernel='precomputed')\n",
      "t0 = time.time()\n",
      "gram = fast_m1(X, X, pgen)\n",
      "print(\"Execution time: {:0.3f} s\".format(time.time() - t0))\n",
      "scores = cv.cross_val_score(clf, gram, y, cv=2)\n",
      "print(\"Mean score: {:0.3f}\".format(scores.mean()))"
     ],
     "language": "python",
     "metadata": {},
     "outputs": [
      {
       "output_type": "stream",
       "stream": "stdout",
       "text": [
        "Execution time: 1.388 s\n",
        "Mean score: 0.730"
       ]
      },
      {
       "output_type": "stream",
       "stream": "stdout",
       "text": [
        "\n"
       ]
      }
     ],
     "prompt_number": 6
    },
    {
     "cell_type": "code",
     "collapsed": false,
     "input": [],
     "language": "python",
     "metadata": {},
     "outputs": [],
     "prompt_number": 6
    }
   ],
   "metadata": {}
  }
 ]
}