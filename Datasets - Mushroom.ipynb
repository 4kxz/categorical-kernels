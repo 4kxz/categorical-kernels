{
 "metadata": {
  "name": ""
 },
 "nbformat": 3,
 "nbformat_minor": 0,
 "worksheets": [
  {
   "cells": [
    {
     "cell_type": "code",
     "collapsed": false,
     "input": [
      "from sklearn import cross_validation as cv\n",
      "from sklearn import grid_search as gs\n",
      "from sklearn import svm\n",
      "\n",
      "from kcat.datasets import mushroom"
     ],
     "language": "python",
     "metadata": {},
     "outputs": [],
     "prompt_number": 1
    },
    {
     "cell_type": "heading",
     "level": 1,
     "metadata": {},
     "source": [
      "Performance of RBF Kernel"
     ]
    },
    {
     "cell_type": "code",
     "collapsed": false,
     "input": [
      "X, y, bincoder = mushroom()\n",
      "Xb = bincoder(X)\n",
      "train_size = len(y) // 2"
     ],
     "language": "python",
     "metadata": {},
     "outputs": [],
     "prompt_number": 6
    },
    {
     "cell_type": "code",
     "collapsed": false,
     "input": [
      "# Train RBF\n",
      "Xb_train = Xb[:train_size]\n",
      "y_train = y[:train_size]\n",
      "\n",
      "clf = svm.SVC(kernel='rbf')\n",
      "costs = 10.0 ** np.arange(-1, 3)\n",
      "gammas = 2.0 ** np.arange(-6, -2)\n",
      "params = dict(C=costs, gamma=gammas)\n",
      "\n",
      "grid = gs.GridSearchCV(clf, param_grid=params, cv=4)\n",
      "grid.fit(Xb_train, y_train)\n",
      "\n",
      "rbf_fit = grid.best_params_\n",
      "\"Best score: {:0.3f}, parameters: {}\".format(grid.best_score_, grid.best_params_)"
     ],
     "language": "python",
     "metadata": {},
     "outputs": [
      {
       "metadata": {},
       "output_type": "pyout",
       "prompt_number": 7,
       "text": [
        "\"Best score: 1.000, parameters: {'C': 10.0, 'gamma': 0.015625}\""
       ]
      }
     ],
     "prompt_number": 7
    },
    {
     "cell_type": "code",
     "collapsed": false,
     "input": [
      "clf = svm.SVC(kernel='rbf', **rbf_fit)\n",
      "clf.fit(Xb_train, y_train)\n",
      "\n",
      "# Test RBF\n",
      "Xb_test = Xb[train_size:]\n",
      "y_test = y[train_size:]\n",
      "\n",
      "y_predict = clf.predict(Xb_test)\n",
      "\n",
      "\"Score: {:0.3f}\".format((y_predict == y_test).mean())"
     ],
     "language": "python",
     "metadata": {},
     "outputs": [
      {
       "metadata": {},
       "output_type": "pyout",
       "prompt_number": 8,
       "text": [
        "'Score: 0.954'"
       ]
      }
     ],
     "prompt_number": 8
    }
   ],
   "metadata": {}
  }
 ]
}