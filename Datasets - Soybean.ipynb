{
 "metadata": {
  "name": ""
 },
 "nbformat": 3,
 "nbformat_minor": 0,
 "worksheets": [
  {
   "cells": [
    {
     "cell_type": "code",
     "collapsed": false,
     "input": [
      "from sklearn import cross_validation as cv\n",
      "from sklearn import grid_search as gs\n",
      "from sklearn import svm\n",
      "\n",
      "from kcat.datasets import soybean"
     ],
     "language": "python",
     "metadata": {},
     "outputs": [],
     "prompt_number": 1
    },
    {
     "cell_type": "heading",
     "level": 1,
     "metadata": {},
     "source": [
      "Performance of RBF Kernel"
     ]
    },
    {
     "cell_type": "code",
     "collapsed": false,
     "input": [
      "X, y, train_size, bincoder = soybean()\n",
      "Xb = bincoder(X)"
     ],
     "language": "python",
     "metadata": {},
     "outputs": [],
     "prompt_number": 2
    },
    {
     "cell_type": "code",
     "collapsed": false,
     "input": [
      "# Train RBF\n",
      "Xb_train = Xb[:train_size]\n",
      "y_train = y[:train_size]\n",
      "\n",
      "clf = svm.SVC(kernel='rbf')\n",
      "costs = 10.0 ** np.arange(-1, 8)\n",
      "gammas = 2.0 ** np.arange(-15, -2)\n",
      "params = dict(C=costs, gamma=gammas)\n",
      "\n",
      "grid = gs.GridSearchCV(clf, param_grid=params, cv=3)\n",
      "grid.fit(Xb_train, y_train)\n",
      "\n",
      "rbf_fit = grid.best_params_\n",
      "\"Best score: {:0.3f}, parameters: {}\".format(grid.best_score_, grid.best_params_)"
     ],
     "language": "python",
     "metadata": {},
     "outputs": [
      {
       "output_type": "stream",
       "stream": "stderr",
       "text": [
        "/home/alkxzv/.virtualenvs/pfc/lib/python3.3/site-packages/sklearn/cross_validation.py:401: Warning: The least populated class in y has only 1 members, which is too few. The minimum number of labels for any class cannot be less than n_folds=3.\n",
        "  % (min_labels, self.n_folds)), Warning)\n"
       ]
      },
      {
       "metadata": {},
       "output_type": "pyout",
       "prompt_number": 3,
       "text": [
        "\"Best score: 0.902, parameters: {'gamma': 0.0078125, 'C': 10.0}\""
       ]
      }
     ],
     "prompt_number": 3
    },
    {
     "cell_type": "code",
     "collapsed": false,
     "input": [
      "# Test RBF\n",
      "Xb_test = Xb[train_size:]\n",
      "y_test = y[train_size:]\n",
      "\n",
      "clf = svm.SVC(kernel='rbf', **rbf_fit)\n",
      "clf.fit(Xb_train, y_train)\n",
      "y_predict = clf.predict(Xb_test)\n",
      "\n",
      "\"Score: {:0.3f}\".format((y_predict == y_test).mean())"
     ],
     "language": "python",
     "metadata": {},
     "outputs": [
      {
       "metadata": {},
       "output_type": "pyout",
       "prompt_number": 4,
       "text": [
        "'Score: 0.907'"
       ]
      }
     ],
     "prompt_number": 4
    }
   ],
   "metadata": {}
  }
 ]
}