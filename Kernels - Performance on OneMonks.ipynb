{
 "metadata": {
  "name": ""
 },
 "nbformat": 3,
 "nbformat_minor": 0,
 "worksheets": [
  {
   "cells": [
    {
     "cell_type": "code",
     "collapsed": false,
     "input": [
      "import time\n",
      "\n",
      "from sklearn import cross_validation as cv\n",
      "from sklearn import svm\n",
      "\n",
      "from datasets import gmonks\n",
      "from kernels import precomp_k0, precomp_k1, precomp_k2"
     ],
     "language": "python",
     "metadata": {},
     "outputs": [],
     "prompt_number": 1
    },
    {
     "cell_type": "code",
     "collapsed": false,
     "input": [
      "X, y = gmonks(320, 1)\n",
      "\n",
      "G = [2**i for i in range(-3, 3)]\n",
      "A = [0.1, 0.2, 0.3, 0.5, 0.7, 0.9, 1, 1.5]\n",
      "C = [10**i for i in range(-1, 3)]\n",
      "count, best, record, score = 0, 0, 0, 0\n",
      "\n",
      "t0 = time.time()\n",
      "for co in ('mean', 'prod'):\n",
      "    for pr in ('ident', 'f1'):\n",
      "        prG = (None, ) if pr == 'ident' else G\n",
      "        prFUNC = ('ident', ) if pr == 'f1' else ('ident', 'f1', 'f2')\n",
      "        for po in prFUNC:\n",
      "            poG = (None, ) if po == 'ident' else G\n",
      "            for prg in prG:\n",
      "                for pog in poG:\n",
      "                    gram = precomp_k0(X, prev=(pr, prg), comp=co, post=(po, pog))\n",
      "                    for c in C:\n",
      "                        t1 = time.time()\n",
      "                        count += 1\n",
      "                        conf = (co, pr, prg, po, pog, c)\n",
      "                        clf = svm.SVC(kernel='precomputed', C=c)\n",
      "                        score = cv.cross_val_score(clf, gram, y, cv=10).mean()\n",
      "                        if score >= record:\n",
      "                            best = conf\n",
      "                            record = score\n",
      "                        print(\n",
      "                            count, \"/\",\n",
      "                            \"{:.2f}\".format(time.time() - t1), \"/\",\n",
      "                            \"{:.2f}\".format(time.time() - t0), \"/\",\n",
      "                            \"{:.2f}\".format(score), conf,\n",
      "                        )\n",
      "print(best, \"{:.2f}\".format(record))"
     ],
     "language": "python",
     "metadata": {},
     "outputs": [
      {
       "output_type": "stream",
       "stream": "stdout",
       "text": [
        "1 / 0.07 / 0.09 / 0.66 ('mean', 'ident', None, 'ident', None, 0.1)\n",
        "2"
       ]
      },
      {
       "output_type": "stream",
       "stream": "stdout",
       "text": [
        " / 0.06 / 0.15 / 0.72 ('mean', 'ident', None, 'ident', None, 1)\n",
        "3"
       ]
      },
      {
       "output_type": "stream",
       "stream": "stdout",
       "text": [
        " / 0.07 / 0.23 / 0.72 ('mean', 'ident', None, 'ident', None, 10)\n",
        "4"
       ]
      },
      {
       "output_type": "stream",
       "stream": "stdout",
       "text": [
        " / 0.15 / 0.38 / 0.70 ('mean', 'ident', None, 'ident', None, 100)\n",
        "5"
       ]
      },
      {
       "output_type": "stream",
       "stream": "stdout",
       "text": [
        " / 0.06 / 0.47 / 0.64 ('mean', 'ident', None, 'f1', 0.125, 0.1)\n",
        "6"
       ]
      },
      {
       "output_type": "stream",
       "stream": "stdout",
       "text": [
        " / 0.06 / 0.53 / 0.68 ('mean', 'ident', None, 'f1', 0.125, 1)\n",
        "7"
       ]
      },
      {
       "output_type": "stream",
       "stream": "stdout",
       "text": [
        " / 0.06 / 0.60 / 0.72 ('mean', 'ident', None, 'f1', 0.125, 10)\n",
        "8"
       ]
      },
      {
       "output_type": "stream",
       "stream": "stdout",
       "text": [
        " / 0.09 / 0.69 / 0.88 ('mean', 'ident', None, 'f1', 0.125, 100)\n",
        "9"
       ]
      },
      {
       "output_type": "stream",
       "stream": "stdout",
       "text": [
        " / 0.06 / 0.77 / 0.64 ('mean', 'ident', None, 'f1', 0.25, 0.1)\n",
        "10"
       ]
      },
      {
       "output_type": "stream",
       "stream": "stdout",
       "text": [
        " / 0.06 / 0.83 / 0.74 ('mean', 'ident', None, 'f1', 0.25, 1)\n",
        "11"
       ]
      },
      {
       "output_type": "stream",
       "stream": "stdout",
       "text": [
        " / 0.07 / 0.90 / 0.81 ('mean', 'ident', None, 'f1', 0.25, 10)\n",
        "12"
       ]
      },
      {
       "output_type": "stream",
       "stream": "stdout",
       "text": [
        " / 0.14 / 1.04 / 0.92 ('mean', 'ident', None, 'f1', 0.25, 100)\n",
        "13"
       ]
      },
      {
       "output_type": "stream",
       "stream": "stdout",
       "text": [
        " / 0.06 / 1.13 / 0.64 ('mean', 'ident', None, 'f1', 0.5, 0.1)\n",
        "14"
       ]
      },
      {
       "output_type": "stream",
       "stream": "stdout",
       "text": [
        " / 0.06 / 1.19 / 0.77 ('mean', 'ident', None, 'f1', 0.5, 1)\n",
        "15"
       ]
      },
      {
       "output_type": "stream",
       "stream": "stdout",
       "text": [
        " / 0.08 / 1.27 / 0.90 ('mean', 'ident', None, 'f1', 0.5, 10)\n",
        "16"
       ]
      },
      {
       "output_type": "stream",
       "stream": "stdout",
       "text": [
        " / 0.15 / 1.43 / 0.94 ('mean', 'ident', None, 'f1', 0.5, 100)\n",
        "17"
       ]
      },
      {
       "output_type": "stream",
       "stream": "stdout",
       "text": [
        " / 0.06 / 1.52 / 0.74 ('mean', 'ident', None, 'f1', 1, 0.1)\n",
        "18"
       ]
      },
      {
       "output_type": "stream",
       "stream": "stdout",
       "text": [
        " / 0.07 / 1.58 / 0.87 ('mean', 'ident', None, 'f1', 1, 1)\n",
        "19"
       ]
      },
      {
       "output_type": "stream",
       "stream": "stdout",
       "text": [
        " / 0.10 / 1.68 / 0.93 ('mean', 'ident', None, 'f1', 1, 10)\n",
        "20"
       ]
      },
      {
       "output_type": "stream",
       "stream": "stdout",
       "text": [
        " / 0.11 / 1.79 / 0.93 ('mean', 'ident', None, 'f1', 1, 100)\n",
        "21"
       ]
      },
      {
       "output_type": "stream",
       "stream": "stdout",
       "text": [
        " / 0.06 / 1.88 / 0.83 ('mean', 'ident', None, 'f1', 2, 0.1)\n",
        "22"
       ]
      },
      {
       "output_type": "stream",
       "stream": "stdout",
       "text": [
        " / 0.08 / 1.96 / 0.93 ('mean', 'ident', None, 'f1', 2, 1)\n",
        "23"
       ]
      },
      {
       "output_type": "stream",
       "stream": "stdout",
       "text": [
        " / 0.08 / 2.05 / 0.93 ('mean', 'ident', None, 'f1', 2, 10)\n",
        "24"
       ]
      },
      {
       "output_type": "stream",
       "stream": "stdout",
       "text": [
        " / 0.08 / 2.13 / 0.93 ('mean', 'ident', None, 'f1', 2, 100)\n",
        "25"
       ]
      },
      {
       "output_type": "stream",
       "stream": "stdout",
       "text": [
        " / 0.08 / 2.24 / 0.91 ('mean', 'ident', None, 'f1', 4, 0.1)\n",
        "26"
       ]
      },
      {
       "output_type": "stream",
       "stream": "stdout",
       "text": [
        " / 0.08 / 2.32 / 0.91 ('mean', 'ident', None, 'f1', 4, 1)\n",
        "27"
       ]
      },
      {
       "output_type": "stream",
       "stream": "stdout",
       "text": [
        " / 0.08 / 2.40 / 0.91 ('mean', 'ident', None, 'f1', 4, 10)\n",
        "28"
       ]
      },
      {
       "output_type": "stream",
       "stream": "stdout",
       "text": [
        " / 0.08 / 2.49 / 0.91 ('mean', 'ident', None, 'f1', 4, 100)\n",
        "29"
       ]
      },
      {
       "output_type": "stream",
       "stream": "stdout",
       "text": [
        " / 0.06 / 2.58 / 0.64 ('mean', 'ident', None, 'f2', 0.125, 0.1)\n",
        "30"
       ]
      },
      {
       "output_type": "stream",
       "stream": "stdout",
       "text": [
        " / 0.06 / 2.64 / 0.75 ('mean', 'ident', None, 'f2', 0.125, 1)\n",
        "31"
       ]
      },
      {
       "output_type": "stream",
       "stream": "stdout",
       "text": [
        " / 0.07 / 2.71 / 0.80 ('mean', 'ident', None, 'f2', 0.125, 10)\n",
        "32"
       ]
      },
      {
       "output_type": "stream",
       "stream": "stdout",
       "text": [
        " / 0.13 / 2.84 / 0.91 ('mean', 'ident', None, 'f2', 0.125, 100)\n",
        "33"
       ]
      },
      {
       "output_type": "stream",
       "stream": "stdout",
       "text": [
        " / 0.06 / 2.93 / 0.64 ('mean', 'ident', None, 'f2', 0.25, 0.1)\n",
        "34"
       ]
      },
      {
       "output_type": "stream",
       "stream": "stdout",
       "text": [
        " / 0.06 / 2.99 / 0.76 ('mean', 'ident', None, 'f2', 0.25, 1)\n",
        "35"
       ]
      },
      {
       "output_type": "stream",
       "stream": "stdout",
       "text": [
        " / 0.07 / 3.06 / 0.88 ('mean', 'ident', None, 'f2', 0.25, 10)\n",
        "36"
       ]
      },
      {
       "output_type": "stream",
       "stream": "stdout",
       "text": [
        " / 0.14 / 3.21 / 0.93 ('mean', 'ident', None, 'f2', 0.25, 100)\n",
        "37"
       ]
      },
      {
       "output_type": "stream",
       "stream": "stdout",
       "text": [
        " / 0.06 / 3.30 / 0.64 ('mean', 'ident', None, 'f2', 0.5, 0.1)\n",
        "38"
       ]
      },
      {
       "output_type": "stream",
       "stream": "stdout",
       "text": [
        " / 0.06 / 3.36 / 0.80 ('mean', 'ident', None, 'f2', 0.5, 1)\n",
        "39"
       ]
      },
      {
       "output_type": "stream",
       "stream": "stdout",
       "text": [
        " / 0.09 / 3.45 / 0.92 ('mean', 'ident', None, 'f2', 0.5, 10)\n",
        "40"
       ]
      },
      {
       "output_type": "stream",
       "stream": "stdout",
       "text": [
        " / 0.11 / 3.56 / 0.93 ('mean', 'ident', None, 'f2', 0.5, 100)\n",
        "41"
       ]
      },
      {
       "output_type": "stream",
       "stream": "stdout",
       "text": [
        " / 0.06 / 3.65 / 0.64 ('mean', 'ident', None, 'f2', 1, 0.1)\n",
        "42"
       ]
      },
      {
       "output_type": "stream",
       "stream": "stdout",
       "text": [
        " / 0.07 / 3.71 / 0.85 ('mean', 'ident', None, 'f2', 1, 1)\n",
        "43"
       ]
      },
      {
       "output_type": "stream",
       "stream": "stdout",
       "text": [
        " / 0.08 / 3.80 / 0.93 ('mean', 'ident', None, 'f2', 1, 10)\n",
        "44"
       ]
      },
      {
       "output_type": "stream",
       "stream": "stdout",
       "text": [
        " / 0.08 / 3.88 / 0.93 ('mean', 'ident', None, 'f2', 1, 100)\n",
        "45"
       ]
      },
      {
       "output_type": "stream",
       "stream": "stdout",
       "text": [
        " / 0.06 / 3.97 / 0.64 ('mean', 'ident', None, 'f2', 2, 0.1)\n",
        "46"
       ]
      },
      {
       "output_type": "stream",
       "stream": "stdout",
       "text": [
        " / 0.07 / 4.04 / 0.90 ('mean', 'ident', None, 'f2', 2, 1)\n",
        "47"
       ]
      },
      {
       "output_type": "stream",
       "stream": "stdout",
       "text": [
        " / 0.08 / 4.13 / 0.91 ('mean', 'ident', None, 'f2', 2, 10)\n",
        "48"
       ]
      },
      {
       "output_type": "stream",
       "stream": "stdout",
       "text": [
        " / 0.08 / 4.21 / 0.91 ('mean', 'ident', None, 'f2', 2, 100)\n",
        "49"
       ]
      },
      {
       "output_type": "stream",
       "stream": "stdout",
       "text": [
        " / 0.06 / 4.30 / 0.64 ('mean', 'ident', None, 'f2', 4, 0.1)\n",
        "50"
       ]
      },
      {
       "output_type": "stream",
       "stream": "stdout",
       "text": [
        " / 0.07 / 4.37 / 0.88 ('mean', 'ident', None, 'f2', 4, 1)\n",
        "51"
       ]
      },
      {
       "output_type": "stream",
       "stream": "stdout",
       "text": [
        " / 0.08 / 4.45 / 0.89 ('mean', 'ident', None, 'f2', 4, 10)\n",
        "52"
       ]
      },
      {
       "output_type": "stream",
       "stream": "stdout",
       "text": [
        " / 0.08 / 4.53 / 0.89 ('mean', 'ident', None, 'f2', 4, 100)\n",
        "53"
       ]
      },
      {
       "output_type": "stream",
       "stream": "stdout",
       "text": [
        " / 0.06 / 4.62 / 0.64 ('mean', 'f1', 0.125, 'ident', None, 0.1)\n",
        "54"
       ]
      },
      {
       "output_type": "stream",
       "stream": "stdout",
       "text": [
        " / 0.06 / 4.68 / 0.68 ('mean', 'f1', 0.125, 'ident', None, 1)\n",
        "55"
       ]
      },
      {
       "output_type": "stream",
       "stream": "stdout",
       "text": [
        " / 0.06 / 4.75 / 0.71 ('mean', 'f1', 0.125, 'ident', None, 10)\n",
        "56"
       ]
      },
      {
       "output_type": "stream",
       "stream": "stdout",
       "text": [
        " / 0.08 / 4.82 / 0.71 ('mean', 'f1', 0.125, 'ident', None, 100)\n",
        "57"
       ]
      },
      {
       "output_type": "stream",
       "stream": "stdout",
       "text": [
        " / 0.06 / 4.92 / 0.64 ('mean', 'f1', 0.25, 'ident', None, 0.1)\n",
        "58"
       ]
      },
      {
       "output_type": "stream",
       "stream": "stdout",
       "text": [
        " / 0.06 / 4.98 / 0.72 ('mean', 'f1', 0.25, 'ident', None, 1)\n",
        "59"
       ]
      },
      {
       "output_type": "stream",
       "stream": "stdout",
       "text": [
        " / 0.07 / 5.05 / 0.71 ('mean', 'f1', 0.25, 'ident', None, 10)\n",
        "60"
       ]
      },
      {
       "output_type": "stream",
       "stream": "stdout",
       "text": [
        " / 0.09 / 5.14 / 0.71 ('mean', 'f1', 0.25, 'ident', None, 100)\n",
        "61"
       ]
      },
      {
       "output_type": "stream",
       "stream": "stdout",
       "text": [
        " / 0.06 / 5.24 / 0.64 ('mean', 'f1', 0.5, 'ident', None, 0.1)\n",
        "62"
       ]
      },
      {
       "output_type": "stream",
       "stream": "stdout",
       "text": [
        " / 0.06 / 5.30 / 0.72 ('mean', 'f1', 0.5, 'ident', None, 1)\n",
        "63"
       ]
      },
      {
       "output_type": "stream",
       "stream": "stdout",
       "text": [
        " / 0.07 / 5.36 / 0.71 ('mean', 'f1', 0.5, 'ident', None, 10)\n",
        "64"
       ]
      },
      {
       "output_type": "stream",
       "stream": "stdout",
       "text": [
        " / 0.13 / 5.49 / 0.70 ('mean', 'f1', 0.5, 'ident', None, 100)\n",
        "65"
       ]
      },
      {
       "output_type": "stream",
       "stream": "stdout",
       "text": [
        " / 0.06 / 5.59 / 0.73 ('mean', 'f1', 1, 'ident', None, 0.1)\n",
        "66"
       ]
      },
      {
       "output_type": "stream",
       "stream": "stdout",
       "text": [
        " / 0.06 / 5.65 / 0.71 ('mean', 'f1', 1, 'ident', None, 1)\n",
        "67"
       ]
      },
      {
       "output_type": "stream",
       "stream": "stdout",
       "text": [
        " / 0.08 / 5.73 / 0.71 ('mean', 'f1', 1, 'ident', None, 10)\n",
        "68"
       ]
      },
      {
       "output_type": "stream",
       "stream": "stdout",
       "text": [
        " / 0.22 / 5.95 / 0.71 ('mean', 'f1', 1, 'ident', None, 100)\n",
        "69"
       ]
      },
      {
       "output_type": "stream",
       "stream": "stdout",
       "text": [
        " / 0.06 / 6.05 / 0.72 ('mean', 'f1', 2, 'ident', None, 0.1)\n",
        "70"
       ]
      },
      {
       "output_type": "stream",
       "stream": "stdout",
       "text": [
        " / 0.07 / 6.12 / 0.71 ('mean', 'f1', 2, 'ident', None, 1)\n",
        "71"
       ]
      },
      {
       "output_type": "stream",
       "stream": "stdout",
       "text": [
        " / 0.12 / 6.25 / 0.71 ('mean', 'f1', 2, 'ident', None, 10)\n",
        "72"
       ]
      },
      {
       "output_type": "stream",
       "stream": "stdout",
       "text": [
        " / 0.60 / 6.85 / 0.70 ('mean', 'f1', 2, 'ident', None, 100)\n",
        "73"
       ]
      },
      {
       "output_type": "stream",
       "stream": "stdout",
       "text": [
        " / 0.07 / 6.96 / 0.70 ('mean', 'f1', 4, 'ident', None, 0.1)\n",
        "74"
       ]
      },
      {
       "output_type": "stream",
       "stream": "stdout",
       "text": [
        " / 0.12 / 7.07 / 0.70 ('mean', 'f1', 4, 'ident', None, 1)\n",
        "75"
       ]
      },
      {
       "output_type": "stream",
       "stream": "stdout",
       "text": [
        " / 0.50 / 7.58 / 0.71 ('mean', 'f1', 4, 'ident', None, 10)\n",
        "76"
       ]
      },
      {
       "output_type": "stream",
       "stream": "stdout",
       "text": [
        " / 8.26 / 15.84 / 0.71 ('mean', 'f1', 4, 'ident', None, 100)\n",
        "77"
       ]
      },
      {
       "output_type": "stream",
       "stream": "stdout",
       "text": [
        " / 0.07 / 15.93 / 0.64 ('prod', 'ident', None, 'ident', None, 0.1)\n",
        "78"
       ]
      },
      {
       "output_type": "stream",
       "stream": "stdout",
       "text": [
        " / 0.07 / 16.00 / 0.71 ('prod', 'ident', None, 'ident', None, 1)\n",
        "79"
       ]
      },
      {
       "output_type": "stream",
       "stream": "stdout",
       "text": [
        " / 0.08 / 16.08 / 0.71 ('prod', 'ident', None, 'ident', None, 10)\n",
        "80"
       ]
      },
      {
       "output_type": "stream",
       "stream": "stdout",
       "text": [
        " / 0.08 / 16.16 / 0.71 ('prod', 'ident', None, 'ident', None, 100)\n",
        "81"
       ]
      },
      {
       "output_type": "stream",
       "stream": "stdout",
       "text": [
        " / 0.06 / 16.25 / 0.64 ('prod', 'ident', None, 'f1', 0.125, 0.1)\n",
        "82"
       ]
      },
      {
       "output_type": "stream",
       "stream": "stdout",
       "text": [
        " / 0.07 / 16.32 / 0.64 ('prod', 'ident', None, 'f1', 0.125, 1)\n",
        "83"
       ]
      },
      {
       "output_type": "stream",
       "stream": "stdout",
       "text": [
        " / 0.08 / 16.40 / 0.71 ('prod', 'ident', None, 'f1', 0.125, 10)\n",
        "84"
       ]
      },
      {
       "output_type": "stream",
       "stream": "stdout",
       "text": [
        " / 0.08 / 16.48 / 0.71 ('prod', 'ident', None, 'f1', 0.125, 100)\n",
        "85"
       ]
      },
      {
       "output_type": "stream",
       "stream": "stdout",
       "text": [
        " / 0.07 / 16.57 / 0.64 ('prod', 'ident', None, 'f1', 0.25, 0.1)\n",
        "86"
       ]
      },
      {
       "output_type": "stream",
       "stream": "stdout",
       "text": [
        " / 0.07 / 16.64 / 0.64 ('prod', 'ident', None, 'f1', 0.25, 1)\n",
        "87"
       ]
      },
      {
       "output_type": "stream",
       "stream": "stdout",
       "text": [
        " / 0.08 / 16.72 / 0.71 ('prod', 'ident', None, 'f1', 0.25, 10)\n",
        "88"
       ]
      },
      {
       "output_type": "stream",
       "stream": "stdout",
       "text": [
        " / 0.08 / 16.81 / 0.71 ('prod', 'ident', None, 'f1', 0.25, 100)\n",
        "89"
       ]
      },
      {
       "output_type": "stream",
       "stream": "stdout",
       "text": [
        " / 0.07 / 16.90 / 0.64 ('prod', 'ident', None, 'f1', 0.5, 0.1)\n",
        "90"
       ]
      },
      {
       "output_type": "stream",
       "stream": "stdout",
       "text": [
        " / 0.07 / 16.97 / 0.71 ('prod', 'ident', None, 'f1', 0.5, 1)\n",
        "91"
       ]
      },
      {
       "output_type": "stream",
       "stream": "stdout",
       "text": [
        " / 0.08 / 17.05 / 0.71 ('prod', 'ident', None, 'f1', 0.5, 10)\n",
        "92"
       ]
      },
      {
       "output_type": "stream",
       "stream": "stdout",
       "text": [
        " / 0.08 / 17.14 / 0.71 ('prod', 'ident', None, 'f1', 0.5, 100)\n",
        "93"
       ]
      },
      {
       "output_type": "stream",
       "stream": "stdout",
       "text": [
        " / 0.07 / 17.23 / 0.64 ('prod', 'ident', None, 'f1', 1, 0.1)\n",
        "94"
       ]
      },
      {
       "output_type": "stream",
       "stream": "stdout",
       "text": [
        " / 0.08 / 17.31 / 0.71 ('prod', 'ident', None, 'f1', 1, 1)\n",
        "95"
       ]
      },
      {
       "output_type": "stream",
       "stream": "stdout",
       "text": [
        " / 0.08 / 17.39 / 0.71 ('prod', 'ident', None, 'f1', 1, 10)\n",
        "96"
       ]
      },
      {
       "output_type": "stream",
       "stream": "stdout",
       "text": [
        " / 0.09 / 17.48 / 0.71 ('prod', 'ident', None, 'f1', 1, 100)\n",
        "97"
       ]
      },
      {
       "output_type": "stream",
       "stream": "stdout",
       "text": [
        " / 0.08 / 17.58 / 0.71 ('prod', 'ident', None, 'f1', 2, 0.1)\n",
        "98"
       ]
      },
      {
       "output_type": "stream",
       "stream": "stdout",
       "text": [
        " / 0.08 / 17.66 / 0.71 ('prod', 'ident', None, 'f1', 2, 1)\n",
        "99"
       ]
      },
      {
       "output_type": "stream",
       "stream": "stdout",
       "text": [
        " / 0.09 / 17.75 / 0.71 ('prod', 'ident', None, 'f1', 2, 10)\n",
        "100"
       ]
      },
      {
       "output_type": "stream",
       "stream": "stdout",
       "text": [
        " / 0.09 / 17.84 / 0.71 ('prod', 'ident', None, 'f1', 2, 100)\n",
        "101"
       ]
      },
      {
       "output_type": "stream",
       "stream": "stdout",
       "text": [
        " / 0.12 / 17.98 / 0.71 ('prod', 'ident', None, 'f1', 4, 0.1)\n",
        "102"
       ]
      },
      {
       "output_type": "stream",
       "stream": "stdout",
       "text": [
        " / 0.17 / 18.15 / 0.71 ('prod', 'ident', None, 'f1', 4, 1)\n",
        "103"
       ]
      },
      {
       "output_type": "stream",
       "stream": "stdout",
       "text": [
        " / 0.08 / 18.24 / 0.71 ('prod', 'ident', None, 'f1', 4, 10)\n",
        "104"
       ]
      },
      {
       "output_type": "stream",
       "stream": "stdout",
       "text": [
        " / 0.09 / 18.33 / 0.71 ('prod', 'ident', None, 'f1', 4, 100)\n",
        "105"
       ]
      },
      {
       "output_type": "stream",
       "stream": "stdout",
       "text": [
        " / 0.07 / 18.43 / 0.64 ('prod', 'ident', None, 'f2', 0.125, 0.1)\n",
        "106"
       ]
      },
      {
       "output_type": "stream",
       "stream": "stdout",
       "text": [
        " / 0.07 / 18.51 / 0.64 ('prod', 'ident', None, 'f2', 0.125, 1)\n",
        "107"
       ]
      },
      {
       "output_type": "stream",
       "stream": "stdout",
       "text": [
        " / 0.09 / 18.60 / 0.71 ('prod', 'ident', None, 'f2', 0.125, 10)\n",
        "108"
       ]
      },
      {
       "output_type": "stream",
       "stream": "stdout",
       "text": [
        " / 0.10 / 18.69 / 0.71 ('prod', 'ident', None, 'f2', 0.125, 100)\n",
        "109"
       ]
      },
      {
       "output_type": "stream",
       "stream": "stdout",
       "text": [
        " / 0.07 / 18.80 / 0.64 ('prod', 'ident', None, 'f2', 0.25, 0.1)\n",
        "110"
       ]
      },
      {
       "output_type": "stream",
       "stream": "stdout",
       "text": [
        " / 0.07 / 18.88 / 0.65 ('prod', 'ident', None, 'f2', 0.25, 1)\n",
        "111"
       ]
      },
      {
       "output_type": "stream",
       "stream": "stdout",
       "text": [
        " / 0.10 / 18.98 / 0.71 ('prod', 'ident', None, 'f2', 0.25, 10)\n",
        "112"
       ]
      },
      {
       "output_type": "stream",
       "stream": "stdout",
       "text": [
        " / 0.09 / 19.07 / 0.71 ('prod', 'ident', None, 'f2', 0.25, 100)\n",
        "113"
       ]
      },
      {
       "output_type": "stream",
       "stream": "stdout",
       "text": [
        " / 0.15 / 19.30 / 0.64 ('prod', 'ident', None, 'f2', 0.5, 0.1)\n",
        "114"
       ]
      },
      {
       "output_type": "stream",
       "stream": "stdout",
       "text": [
        " / 0.07 / 19.38 / 0.71 ('prod', 'ident', None, 'f2', 0.5, 1)\n",
        "115"
       ]
      },
      {
       "output_type": "stream",
       "stream": "stdout",
       "text": [
        " / 0.10 / 19.47 / 0.71 ('prod', 'ident', None, 'f2', 0.5, 10)\n",
        "116"
       ]
      },
      {
       "output_type": "stream",
       "stream": "stdout",
       "text": [
        " / 0.10 / 19.58 / 0.71 ('prod', 'ident', None, 'f2', 0.5, 100)\n",
        "117"
       ]
      },
      {
       "output_type": "stream",
       "stream": "stdout",
       "text": [
        " / 0.07 / 19.69 / 0.64 ('prod', 'ident', None, 'f2', 1, 0.1)\n",
        "118"
       ]
      },
      {
       "output_type": "stream",
       "stream": "stdout",
       "text": [
        " / 0.07 / 19.76 / 0.71 ('prod', 'ident', None, 'f2', 1, 1)\n",
        "119"
       ]
      },
      {
       "output_type": "stream",
       "stream": "stdout",
       "text": [
        " / 0.09 / 19.86 / 0.71 ('prod', 'ident', None, 'f2', 1, 10)\n",
        "120"
       ]
      },
      {
       "output_type": "stream",
       "stream": "stdout",
       "text": [
        " / 0.10 / 19.96 / 0.71 ('prod', 'ident', None, 'f2', 1, 100)\n",
        "121"
       ]
      },
      {
       "output_type": "stream",
       "stream": "stdout",
       "text": [
        " / 0.07 / 20.06 / 0.64 ('prod', 'ident', None, 'f2', 2, 0.1)\n",
        "122"
       ]
      },
      {
       "output_type": "stream",
       "stream": "stdout",
       "text": [
        " / 0.09 / 20.16 / 0.71 ('prod', 'ident', None, 'f2', 2, 1)\n",
        "123"
       ]
      },
      {
       "output_type": "stream",
       "stream": "stdout",
       "text": [
        " / 0.09 / 20.25 / 0.71 ('prod', 'ident', None, 'f2', 2, 10)\n",
        "124"
       ]
      },
      {
       "output_type": "stream",
       "stream": "stdout",
       "text": [
        " / 0.09 / 20.34 / 0.71 ('prod', 'ident', None, 'f2', 2, 100)\n",
        "125"
       ]
      },
      {
       "output_type": "stream",
       "stream": "stdout",
       "text": [
        " / 0.07 / 20.44 / 0.64 ('prod', 'ident', None, 'f2', 4, 0.1)\n",
        "126"
       ]
      },
      {
       "output_type": "stream",
       "stream": "stdout",
       "text": [
        " / 0.07 / 20.51 / 0.71 ('prod', 'ident', None, 'f2', 4, 1)\n",
        "127"
       ]
      },
      {
       "output_type": "stream",
       "stream": "stdout",
       "text": [
        " / 0.09 / 20.60 / 0.71 ('prod', 'ident', None, 'f2', 4, 10)\n",
        "128"
       ]
      },
      {
       "output_type": "stream",
       "stream": "stdout",
       "text": [
        " / 0.09 / 20.70 / 0.71 ('prod', 'ident', None, 'f2', 4, 100)\n",
        "129"
       ]
      },
      {
       "output_type": "stream",
       "stream": "stdout",
       "text": [
        " / 0.06 / 20.80 / 0.67 ('prod', 'f1', 0.125, 'ident', None, 0.1)\n",
        "130"
       ]
      },
      {
       "output_type": "stream",
       "stream": "stdout",
       "text": [
        " / 0.07 / 20.87 / 0.83 ('prod', 'f1', 0.125, 'ident', None, 1)\n",
        "131"
       ]
      },
      {
       "output_type": "stream",
       "stream": "stdout",
       "text": [
        " / 0.20 / 21.07 / 0.93 ('prod', 'f1', 0.125, 'ident', None, 10)\n",
        "132"
       ]
      },
      {
       "output_type": "stream",
       "stream": "stdout",
       "text": [
        " / 0.14 / 21.21 / 0.94 ('prod', 'f1', 0.125, 'ident', None, 100)\n",
        "133"
       ]
      },
      {
       "output_type": "stream",
       "stream": "stdout",
       "text": [
        " / 0.06 / 21.30 / 0.78 ('prod', 'f1', 0.25, 'ident', None, 0.1)\n",
        "134"
       ]
      },
      {
       "output_type": "stream",
       "stream": "stdout",
       "text": [
        " / 0.08 / 21.38 / 0.91 ('prod', 'f1', 0.25, 'ident', None, 1)\n",
        "135"
       ]
      },
      {
       "output_type": "stream",
       "stream": "stdout",
       "text": [
        " / 0.11 / 21.49 / 0.94 ('prod', 'f1', 0.25, 'ident', None, 10)\n",
        "136"
       ]
      },
      {
       "output_type": "stream",
       "stream": "stdout",
       "text": [
        " / 0.10 / 21.59 / 0.94 ('prod', 'f1', 0.25, 'ident', None, 100)\n",
        "137"
       ]
      },
      {
       "output_type": "stream",
       "stream": "stdout",
       "text": [
        " / 0.08 / 21.70 / 0.91 ('prod', 'f1', 0.5, 'ident', None, 0.1)\n",
        "138"
       ]
      },
      {
       "output_type": "stream",
       "stream": "stdout",
       "text": [
        " / 0.08 / 21.78 / 0.92 ('prod', 'f1', 0.5, 'ident', None, 1)\n",
        "139"
       ]
      },
      {
       "output_type": "stream",
       "stream": "stdout",
       "text": [
        " / 0.09 / 21.87 / 0.92 ('prod', 'f1', 0.5, 'ident', None, 10)\n",
        "140"
       ]
      },
      {
       "output_type": "stream",
       "stream": "stdout",
       "text": [
        " / 0.09 / 21.97 / 0.92 ('prod', 'f1', 0.5, 'ident', None, 100)\n",
        "141"
       ]
      },
      {
       "output_type": "stream",
       "stream": "stdout",
       "text": [
        " / 0.08 / 22.09 / 0.90 ('prod', 'f1', 1, 'ident', None, 0.1)\n",
        "142"
       ]
      },
      {
       "output_type": "stream",
       "stream": "stdout",
       "text": [
        " / 0.08 / 22.17 / 0.90 ('prod', 'f1', 1, 'ident', None, 1)\n",
        "143"
       ]
      },
      {
       "output_type": "stream",
       "stream": "stdout",
       "text": [
        " / 0.08 / 22.25 / 0.90 ('prod', 'f1', 1, 'ident', None, 10)\n",
        "144"
       ]
      },
      {
       "output_type": "stream",
       "stream": "stdout",
       "text": [
        " / 0.09 / 22.35 / 0.90 ('prod', 'f1', 1, 'ident', None, 100)\n",
        "145"
       ]
      },
      {
       "output_type": "stream",
       "stream": "stdout",
       "text": [
        " / 0.08 / 22.47 / 0.85 ('prod', 'f1', 2, 'ident', None, 0.1)\n",
        "146"
       ]
      },
      {
       "output_type": "stream",
       "stream": "stdout",
       "text": [
        " / 0.22 / 22.69 / 0.85 ('prod', 'f1', 2, 'ident', None, 1)\n",
        "147"
       ]
      },
      {
       "output_type": "stream",
       "stream": "stdout",
       "text": [
        " / 0.08 / 22.76 / 0.85 ('prod', 'f1', 2, 'ident', None, 10)\n",
        "148"
       ]
      },
      {
       "output_type": "stream",
       "stream": "stdout",
       "text": [
        " / 0.13 / 22.89 / 0.85 ('prod', 'f1', 2, 'ident', None, 100)\n",
        "149"
       ]
      },
      {
       "output_type": "stream",
       "stream": "stdout",
       "text": [
        " / 0.09 / 23.02 / 0.71 ('prod', 'f1', 4, 'ident', None, 0.1)\n",
        "150"
       ]
      },
      {
       "output_type": "stream",
       "stream": "stdout",
       "text": [
        " / 0.09 / 23.10 / 0.71 ('prod', 'f1', 4, 'ident', None, 1)\n",
        "151"
       ]
      },
      {
       "output_type": "stream",
       "stream": "stdout",
       "text": [
        " / 0.09 / 23.20 / 0.71 ('prod', 'f1', 4, 'ident', None, 10)\n",
        "152"
       ]
      },
      {
       "output_type": "stream",
       "stream": "stdout",
       "text": [
        " / 0.10 / 23.30 / 0.71 ('prod', 'f1', 4, 'ident', None, 100)\n",
        "('mean', 'ident', None, 'f1', 0.5, 100) 0.94\n"
       ]
      }
     ],
     "prompt_number": 3
    },
    {
     "cell_type": "code",
     "collapsed": false,
     "input": [],
     "language": "python",
     "metadata": {},
     "outputs": []
    }
   ],
   "metadata": {}
  }
 ]
}