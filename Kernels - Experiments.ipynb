{
 "metadata": {
  "name": ""
 },
 "nbformat": 3,
 "nbformat_minor": 0,
 "worksheets": [
  {
   "cells": [
    {
     "cell_type": "code",
     "collapsed": false,
     "input": [
      "from sklearn import cross_validation as cv\n",
      "from sklearn import svm\n",
      "\n",
      "from datasets import synthetic\n",
      "from kernels import precomp_k0, precomp_k1, precomp_k2\n",
      "from misc import preprocess"
     ],
     "language": "python",
     "metadata": {},
     "outputs": [],
     "prompt_number": 1
    },
    {
     "cell_type": "heading",
     "level": 1,
     "metadata": {},
     "source": [
      "Chi-Square Kernel"
     ]
    },
    {
     "cell_type": "code",
     "collapsed": false,
     "input": [
      "import collections\n",
      "\n",
      "characterize = lambda character: chr(97 + character)\n",
      "def get_contingency_table(X, y):\n",
      "    ct = collections.defaultdict(lambda: [collections.defaultdict(int) for _ in range(len(X[0]))])\n",
      "    for i, xi in enumerate(X):\n",
      "        for j, xij in enumerate(xi):\n",
      "            ct[y[i]][j][characterize(xij)] += 1\n",
      "    return ct"
     ],
     "language": "python",
     "metadata": {},
     "outputs": [],
     "prompt_number": 25
    },
    {
     "cell_type": "code",
     "collapsed": false,
     "input": [
      "X, y = synthetic(320, 5, p=0.25)\n",
      "\n",
      "ct = get_contingency_table(X, y)\n",
      "for k, v in ct.items():\n",
      "    print(\"Class {}:\".format(k))\n",
      "    for i, d in enumerate(v):\n",
      "        print(\"\\tAttrib {}:\".format(i))\n",
      "        print(\"\\t\\t\", d)"
     ],
     "language": "python",
     "metadata": {},
     "outputs": [
      {
       "output_type": "stream",
       "stream": "stdout",
       "text": [
        "Class 0:\n",
        "\tAttrib 0:\n",
        "\t\t defaultdict(<class 'int'>, {'d': 83, 'a': 4, 'c': 73})\n",
        "\tAttrib 1:\n",
        "\t\t defaultdict(<class 'int'>, {'a': 71, 'c': 84, 'b': 5})\n",
        "\tAttrib 2:\n",
        "\t\t defaultdict(<class 'int'>, {'d': 81, 'a': 72, 'b': 7})\n",
        "\tAttrib 3:\n",
        "\t\t defaultdict(<class 'int'>, {'d': 80, 'a': 75, 'c': 5})\n",
        "\tAttrib 4:\n",
        "\t\t defaultdict(<class 'int'>, {'d': 79, 'c': 4, 'b': 77})\n",
        "Class 1:\n",
        "\tAttrib 0:\n",
        "\t\t defaultdict(<class 'int'>, {'d': 69, 'c': 85, 'b': 6})\n",
        "\tAttrib 1:\n",
        "\t\t defaultdict(<class 'int'>, {'d': 3, 'a': 82, 'c': 75})\n",
        "\tAttrib 2:\n",
        "\t\t defaultdict(<class 'int'>, {'d': 81, 'a': 74, 'c': 5})\n",
        "\tAttrib 3:\n",
        "\t\t defaultdict(<class 'int'>, {'d': 77, 'a': 79, 'b': 4})\n",
        "\tAttrib 4:\n",
        "\t\t defaultdict(<class 'int'>, {'d': 66, 'a': 3, 'b': 91})\n"
       ]
      }
     ],
     "prompt_number": 28
    },
    {
     "cell_type": "code",
     "collapsed": false,
     "input": [
      "def precomp_true_chi(X, pmf=None):\n",
      "    d = len(X[0])\n",
      "    n = len(X)\n",
      "    if pmf is None:\n",
      "        pmf = get_pmf(X, total=True)\n",
      "    P = np.zeros((n, d))\n",
      "    for i in range(n):\n",
      "        for j in range(d):\n",
      "            v = X[i][j]\n",
      "            P[i][j] = pmf[j][v]\n",
      "    c = P.sum(axis=0)\n",
      "    r = P.sum(axis=1)\n",
      "    E = c * r[np.newaxis].T\n",
      "    M = np.zeros((n, n))\n",
      "    for i in range(n):\n",
      "        Xi = np.repeat([X[i]], n - i, axis=0)\n",
      "        Pi = np.repeat([P[i]], n - i, axis=0)\n",
      "        Ei = np.repeat([E[i]], n - i, axis=0)\n",
      "        Mi = (P[i:n] - E[i:n]) ** 2 / E[i:n] + (Pi - Ei) ** 2 / Ei\n",
      "        Mi = Mi.mean(axis=1)\n",
      "        Mi = np.exp(-Mi)\n",
      "        M[i, i:n] = M[i:n, i] = Mi\n",
      "    return M"
     ],
     "language": "python",
     "metadata": {},
     "outputs": [
      {
       "output_type": "stream",
       "stream": "stdout",
       "text": [
        "defaultdict(<class 'int'>, {})\n",
        "defaultdict(<class 'int'>, {})\n"
       ]
      }
     ],
     "prompt_number": 32
    },
    {
     "cell_type": "heading",
     "level": 1,
     "metadata": {},
     "source": [
      "Expected Likelyhood Kernel"
     ]
    },
    {
     "cell_type": "code",
     "collapsed": false,
     "input": [
      "from kernels import get_pmf\n",
      "\n",
      "def precomp_elk(X, pmf=None):\n",
      "    d = len(X[0])\n",
      "    n = len(X)\n",
      "    if pmf is None:\n",
      "        pmf = get_pmf(np.transpose(X))\n",
      "    # Compute the kernel matrix:\n",
      "    M = np.zeros((n, n))\n",
      "    for i, xi in enumerate(X):\n",
      "        Ei = np.zeros((n - i, d))\n",
      "        for j in range(i, n):\n",
      "            e = 0\n",
      "            for k in range(d):\n",
      "                xik = X[i, k]\n",
      "                xjk = X[j, k]\n",
      "                e += pmf[i].get(xjk, 0) + pmf[j].get(xik, 0)  # Simplified\n",
      "            M[i, j] = M[j, i] = e\n",
      "    return M"
     ],
     "language": "python",
     "metadata": {},
     "outputs": [],
     "prompt_number": 30
    },
    {
     "cell_type": "code",
     "collapsed": false,
     "input": [
      "# Comparing the previous kernels:\n",
      "sizes = (40, 80)\n",
      "params = [1 / 10 * x for x in range(2, 9)]\n",
      "repeat = 4 #25\n",
      "results = np.zeros((3, len(sizes), len(params), repeat))\n",
      "for i, n in enumerate(sizes):\n",
      "    print(\"Size {}\".format(n))\n",
      "    for j, p in enumerate(params):\n",
      "        print(\"{:0.1f}\".format(p), end=' ')\n",
      "        for k in range(repeat):\n",
      "            X, y = synthetic(n, d=25, c=4, p=p)\n",
      "            # K1\n",
      "            clf = svm.SVC(kernel='precomputed')\n",
      "            results[0][i][j][k] = cv.cross_val_score(clf, precomp_k1(X), y, cv=5).mean()\n",
      "            # K2\n",
      "            clf = svm.SVC(kernel='precomputed')\n",
      "            results[1][i][j][k] = cv.cross_val_score(clf, precomp_k2(X), y, cv=5).mean()\n",
      "            # tanh\n",
      "            clf = svm.SVC(kernel='precomputed')\n",
      "            results[2][i][j][k] = cv.cross_val_score(clf, precomp_elk(X), y, cv=5).mean()\n",
      "    print()\n",
      "\n",
      "    figure(figsize=(12, 4), dpi=150)\n",
      "for i, n in enumerate(sizes):\n",
      "    plt.subplot(131+i)\n",
      "    plot(params, results[0][i].mean(axis=1), 'x-', color='g', linewidth=0.5)\n",
      "    plot(params, results[1][i].mean(axis=1), 'x-', color='b', linewidth=0.5)\n",
      "    plot(params, results[2][i].mean(axis=1), '.-', color='r', linewidth=0.5)\n",
      "    title(\"Results for size {}\".format(n))\n",
      "    legend([\"K1\", \"K2\", \"ELK\"], bbox_to_anchor=(1, 0.33))\n",
      "    ylabel(\"Score\")\n",
      "    xlabel(\"Parameter value\")\n",
      "    xlim((0.2, 0.8))"
     ],
     "language": "python",
     "metadata": {},
     "outputs": [
      {
       "output_type": "stream",
       "stream": "stdout",
       "text": [
        "Size 40\n",
        "0.2 0.3"
       ]
      },
      {
       "output_type": "stream",
       "stream": "stdout",
       "text": [
        " 0.4"
       ]
      },
      {
       "output_type": "stream",
       "stream": "stdout",
       "text": [
        " 0.5"
       ]
      },
      {
       "output_type": "stream",
       "stream": "stdout",
       "text": [
        " 0.6"
       ]
      },
      {
       "output_type": "stream",
       "stream": "stdout",
       "text": [
        " 0.7"
       ]
      },
      {
       "output_type": "stream",
       "stream": "stdout",
       "text": [
        " 0.8"
       ]
      },
      {
       "output_type": "stream",
       "stream": "stdout",
       "text": [
        " \n"
       ]
      },
      {
       "output_type": "stream",
       "stream": "stdout",
       "text": [
        "Size 80\n",
        "0.2 0.3"
       ]
      },
      {
       "output_type": "stream",
       "stream": "stdout",
       "text": [
        " 0.4"
       ]
      },
      {
       "output_type": "stream",
       "stream": "stdout",
       "text": [
        " 0.5"
       ]
      },
      {
       "output_type": "stream",
       "stream": "stdout",
       "text": [
        " 0.6"
       ]
      },
      {
       "output_type": "stream",
       "stream": "stdout",
       "text": [
        " 0.7"
       ]
      },
      {
       "output_type": "stream",
       "stream": "stdout",
       "text": [
        " 0.8"
       ]
      },
      {
       "output_type": "stream",
       "stream": "stdout",
       "text": [
        " \n"
       ]
      },
      {
       "metadata": {},
       "output_type": "display_data",
       "text": [
        "<matplotlib.figure.Figure at 0x7f3459744990>"
       ]
      },
      {
       "metadata": {},
       "output_type": "display_data",
       "png": "[encoded data removed]",
       "text": [
        "<matplotlib.figure.Figure at 0x7f342c3c59d0>"
       ]
      }
     ],
     "prompt_number": 33
    },
    {
     "cell_type": "code",
     "collapsed": false,
     "input": [
      "# Comparing the previous kernels:\n",
      "results = np.zeros((3,))\n",
      "X, y = promoters()\n",
      "# K1\n",
      "clf = svm.SVC(kernel='precomputed')\n",
      "results[0] = cv.cross_val_score(clf, precomp_k1(X), y, cv=5).mean()\n",
      "# K2\n",
      "clf = svm.SVC(kernel='precomputed')\n",
      "results[1] = cv.cross_val_score(clf, precomp_k2(X), y, cv=5).mean()\n",
      "# elk\n",
      "clf = svm.SVC(kernel='precomputed')\n",
      "results[2] = cv.cross_val_score(clf, precomp_elk(X), y, cv=5).mean()\n",
      "\n",
      "print(results)"
     ],
     "language": "python",
     "metadata": {},
     "outputs": [
      {
       "output_type": "stream",
       "stream": "stdout",
       "text": [
        "[ 0.92  0.9   0.71]\n"
       ]
      }
     ],
     "prompt_number": 32
    }
   ],
   "metadata": {}
  }
 ]
}